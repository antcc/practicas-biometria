{
 "cells": [
  {
   "cell_type": "markdown",
   "metadata": {
    "id": "nEVXPlDt5JYC"
   },
   "source": [
    "# Workflow"
   ]
  },
  {
   "cell_type": "code",
   "execution_count": 1,
   "metadata": {
    "colab": {
     "base_uri": "https://localhost:8080/"
    },
    "deletable": false,
    "editable": false,
    "id": "xeyZGmUE5JYL",
    "outputId": "9275d7db-62dc-4e22-9182-51dad606de27",
    "run_control": {
     "frozen": true
    }
   },
   "outputs": [
    {
     "name": "stdout",
     "output_type": "stream",
     "text": [
      "Mounted at /content/drive\n",
      "/content/drive/My Drive/bio\n",
      "Collecting mtcnn\n",
      "\u001b[?25l  Downloading https://files.pythonhosted.org/packages/67/43/abee91792797c609c1bf30f1112117f7a87a713ebaa6ec5201d5555a73ef/mtcnn-0.1.0-py3-none-any.whl (2.3MB)\n",
      "\u001b[K     |████████████████████████████████| 2.3MB 19.7MB/s \n",
      "\u001b[?25hRequirement already satisfied: keras>=2.0.0 in /usr/local/lib/python3.7/dist-packages (from mtcnn) (2.4.3)\n",
      "Requirement already satisfied: opencv-python>=4.1.0 in /usr/local/lib/python3.7/dist-packages (from mtcnn) (4.1.2.30)\n",
      "Requirement already satisfied: pyyaml in /usr/local/lib/python3.7/dist-packages (from keras>=2.0.0->mtcnn) (3.13)\n",
      "Requirement already satisfied: h5py in /usr/local/lib/python3.7/dist-packages (from keras>=2.0.0->mtcnn) (2.10.0)\n",
      "Requirement already satisfied: scipy>=0.14 in /usr/local/lib/python3.7/dist-packages (from keras>=2.0.0->mtcnn) (1.4.1)\n",
      "Requirement already satisfied: numpy>=1.9.1 in /usr/local/lib/python3.7/dist-packages (from keras>=2.0.0->mtcnn) (1.19.5)\n",
      "Requirement already satisfied: six in /usr/local/lib/python3.7/dist-packages (from h5py->keras>=2.0.0->mtcnn) (1.15.0)\n",
      "Installing collected packages: mtcnn\n",
      "Successfully installed mtcnn-0.1.0\n"
     ]
    }
   ],
   "source": [
    "# Directorio de trabajo\n",
    "import sys\n",
    "import os\n",
    "from google.colab import drive\n",
    "drive.mount(\"/content/drive\", force_remount = True)\n",
    "DIR = \"/content/drive/My Drive/bio/\"\n",
    "\n",
    "%cd \"$DIR\"\n",
    "%pip install mtcnn"
   ]
  },
  {
   "cell_type": "code",
   "execution_count": 2,
   "metadata": {
    "ExecuteTime": {
     "end_time": "2021-03-19T18:59:53.297864Z",
     "start_time": "2021-03-19T18:59:53.211310Z"
    },
    "id": "GiadkRNUXxzK"
   },
   "outputs": [],
   "source": [
    "import matplotlib.pyplot as plt\n",
    "import numpy as np\n",
    "import cv2\n",
    "from mtcnn import MTCNN\n",
    "import time\n",
    "import dlib\n",
    "from tqdm.notebook import tqdm\n",
    "import tensorflow as tf\n",
    "from tensorflow.keras.preprocessing.image import ImageDataGenerator\n",
    "from sklearn.metrics import plot_roc_curve\n",
    "\n",
    "from warnings import simplefilter\n",
    "from sklearn.exceptions import ConvergenceWarning\n",
    "\n",
    "%matplotlib inline\n",
    "%load_ext autoreload\n",
    "%autoreload 2\n",
    "\n",
    "seed = 2021\n",
    "rng = np.random.default_rng(seed=seed)\n",
    "simplefilter(\"ignore\", category=ConvergenceWarning)"
   ]
  },
  {
   "cell_type": "code",
   "execution_count": 3,
   "metadata": {
    "colab": {
     "base_uri": "https://localhost:8080/"
    },
    "id": "9uxG-fU9m4h-",
    "outputId": "bdde337b-f817-45bb-f016-45db8425ba5c"
   },
   "outputs": [
    {
     "name": "stdout",
     "output_type": "stream",
     "text": [
      "Found GPU at: /device:GPU:0\n"
     ]
    },
    {
     "data": {
      "text/plain": [
       "<tensorflow.python.eager.context._EagerDeviceContext at 0x7f6f20935050>"
      ]
     },
     "execution_count": 3,
     "metadata": {
      "tags": []
     },
     "output_type": "execute_result"
    }
   ],
   "source": [
    "device_name = tf.test.gpu_device_name()\n",
    "if device_name != '/device:GPU:0':\n",
    "    raise SystemError('GPU device not found')\n",
    "print('Found GPU at: {}'.format(device_name))\n",
    "tf.device('/device:GPU:0')"
   ]
  },
  {
   "cell_type": "code",
   "execution_count": 4,
   "metadata": {
    "ExecuteTime": {
     "end_time": "2021-03-19T19:00:05.561985Z",
     "start_time": "2021-03-19T19:00:05.475265Z"
    },
    "id": "mLCwo9WZiYL1"
   },
   "outputs": [],
   "source": [
    "train_dir = 'UADFV/development/'\n",
    "test_dir = 'UADFV/evaluation/'\n",
    "target_size = (768, 768)"
   ]
  },
  {
   "cell_type": "code",
   "execution_count": 5,
   "metadata": {
    "ExecuteTime": {
     "end_time": "2021-03-19T19:03:47.001821Z",
     "start_time": "2021-03-19T19:03:46.896580Z"
    },
    "colab": {
     "base_uri": "https://localhost:8080/"
    },
    "id": "4sMAp_kJhrxE",
    "outputId": "e9f68a83-5a30-480e-cb8d-9aec7c24a354"
   },
   "outputs": [
    {
     "name": "stdout",
     "output_type": "stream",
     "text": [
      "Found 607 images belonging to 2 classes.\n",
      "Found 151 images belonging to 2 classes.\n",
      "Found 210 images belonging to 2 classes.\n"
     ]
    }
   ],
   "source": [
    "train_datagen = ImageDataGenerator(\n",
    "    validation_split=0.2\n",
    ")\n",
    "\n",
    "val_datagen = ImageDataGenerator(\n",
    "    validation_split=0.2\n",
    ")\n",
    "\n",
    "test_datagen = ImageDataGenerator()\n",
    "\n",
    "train_data = train_datagen.flow_from_directory(\n",
    "    directory=train_dir,\n",
    "    class_mode='binary',\n",
    "    batch_size=1,\n",
    "    seed=seed,\n",
    "    target_size=target_size,\n",
    "    subset=\"training\"\n",
    ")\n",
    "\n",
    "val_data = val_datagen.flow_from_directory(\n",
    "    directory=train_dir,\n",
    "    class_mode='binary',\n",
    "    batch_size=1,\n",
    "    seed=seed,\n",
    "    target_size=target_size,\n",
    "    subset=\"validation\"\n",
    ")\n",
    "\n",
    "test_data = test_datagen.flow_from_directory(\n",
    "    directory=test_dir,\n",
    "    class_mode='binary',\n",
    "    batch_size=1,\n",
    "    seed=seed,\n",
    "    target_size=target_size,\n",
    ")\n",
    "\n",
    "num_train = train_data.samples\n",
    "num_val = val_data.samples\n",
    "num_test = test_data.samples"
   ]
  },
  {
   "cell_type": "code",
   "execution_count": 6,
   "metadata": {
    "ExecuteTime": {
     "end_time": "2021-03-19T19:03:46.172830Z",
     "start_time": "2021-03-19T19:03:45.319952Z"
    },
    "id": "7Cov0SF25JYV"
   },
   "outputs": [],
   "source": [
    "face_detector = MTCNN()\n",
    "sp68 = dlib.shape_predictor('models/shape_predictor_68_face_landmarks.dat')"
   ]
  },
  {
   "cell_type": "code",
   "execution_count": 7,
   "metadata": {
    "ExecuteTime": {
     "end_time": "2021-03-19T19:03:55.673614Z",
     "start_time": "2021-03-19T19:03:55.599023Z"
    },
    "id": "z_-Z6qZ85JYW"
   },
   "outputs": [],
   "source": [
    "def preprocess(im, sigma):\n",
    "    if rng.random() < 0.5:\n",
    "        kernel_size = rng.choice([1, 3, 5, 7])\n",
    "        im_noise = cv2.GaussianBlur(im, (kernel_size, kernel_size), 0)\n",
    "    else:\n",
    "        std = sigma*rng.random()\n",
    "        noise = rng.normal(0, std, im.shape[:2])\n",
    "        im_noise = im + np.tile(noise[:, :, None], (1, 1, 3))\n",
    "    \n",
    "    return im_noise\n",
    "\n",
    "\n",
    "def shape_to_np(shape):\n",
    "    number_of_points = shape.num_parts\n",
    "    points = np.zeros((number_of_points, 2), dtype=np.int32)\n",
    "\n",
    "    for i in range(number_of_points):\n",
    "        points[i] = [shape.part(i).x, shape.part(i).y]\n",
    "\n",
    "    return points\n",
    "\n",
    "\n",
    "def get_crops_landmarks(im, sigma, blur, verbose):\n",
    "    \"\"\"\n",
    "    Detects faces and landmarks in image, crops image to face region.\n",
    "    We assume there is only one face on each dataset.\n",
    "    \"\"\"\n",
    "    img = im.reshape(*im.shape[1:]).astype('uint8')\n",
    "\n",
    "    dets = face_detector.detect_faces(img)\n",
    "    num_faces = len(dets)\n",
    "\n",
    "    if num_faces == 0:\n",
    "        if verbose:\n",
    "            print(\"[features] No face detected\")\n",
    "            plt.imshow(img)\n",
    "            plt.show()\n",
    "        return None, None\n",
    "\n",
    "    # Only one face\n",
    "    x1, y1, width, height = dets[0]['box']\n",
    "    x1, y1 = abs(x1), abs(y1)\n",
    "    x2, y2 = x1 + width, y1 + height\n",
    "    face = dlib.rectangle(x1, y1, x2, y2)\n",
    "\n",
    "    # Add noise\n",
    "    if blur:\n",
    "        img_prec = preprocess(img, sigma=sigma).astype('uint8')\n",
    "    else:\n",
    "        img_prec= img\n",
    "\n",
    "    # detect landmarks and transform to np array\n",
    "    landmarks = shape_to_np(sp68(img_prec, face))\n",
    "    gray = cv2.cvtColor(img_prec, cv2.COLOR_RGB2GRAY)\n",
    "    face_landmarks = gray[landmarks[:, 1], landmarks[:, 0]]\n",
    "\n",
    "    # Plot images\n",
    "    \"\"\"cv2.rectangle(img, (x1, y1), (x2, y2), (0, 255, 0), 2)\n",
    "    for (sX, sY) in landmarks:\n",
    "\t    cv2.circle(img, (sX, sY), 1, (0, 0, 255), 2)\n",
    "    plt.imshow(img)\n",
    "    plt.show()\"\"\"\n",
    "\n",
    "    # normalize landmarks\n",
    "    landmarks = landmarks.astype(np.float64)\n",
    "    landmarks[:, 0] -= landmarks[:, 0].mean()\n",
    "    landmarks[:, 1] -= landmarks[:, 1].mean()\n",
    "\n",
    "    face_landmarks = face_landmarks.astype(np.float64)\n",
    "    face_landmarks -= face_landmarks.mean(axis=0)\n",
    "\n",
    "    return landmarks, face_landmarks\n",
    "\n",
    "\n",
    "def extract_features(\n",
    "    data_flow, \n",
    "    num_images, \n",
    "    sigma=3,\n",
    "    blur=False,\n",
    "    verbose=0,\n",
    "    skip=True\n",
    "):\n",
    "    X = np.zeros((num_images, 68*3))  # 68 landmarks\n",
    "    y = np.zeros(num_images,)\n",
    "\n",
    "    i = 0\n",
    "    for im, label in tqdm(data_flow):\n",
    "        landmarks, face_landmarks = \\\n",
    "            get_crops_landmarks(\n",
    "                im, sigma=sigma, \n",
    "                blur=blur, verbose=verbose)\n",
    "\n",
    "        if landmarks is None:\n",
    "            if skip:\n",
    "                continue  # skip sample \n",
    "            else:\n",
    "                if i > 0:\n",
    "                    prev_labels = y[:i] == label\n",
    "                    if np.sum(prev_labels) > 0:\n",
    "                        sz = prev_labels.size\n",
    "                        impute = sz - 1 - np.argmax(prev_labels[::-1])\n",
    "                        X[i] = X[impute]\n",
    "                y[i] = label\n",
    "                \n",
    "        else:\n",
    "            X[i] = np.concatenate((landmarks.flatten(),\n",
    "                                   face_landmarks.flatten()))\n",
    "            y[i] = label\n",
    "\n",
    "        i += 1\n",
    "        if i >= num_images:\n",
    "            break\n",
    "\n",
    "    if skip:\n",
    "        detected = X.sum(axis=1) > 0\n",
    "        X = X[detected]\n",
    "        y = y[detected]\n",
    "        \n",
    "    return X, y"
   ]
  },
  {
   "cell_type": "code",
   "execution_count": 8,
   "metadata": {
    "ExecuteTime": {
     "end_time": "2021-03-19T19:04:24.363849Z",
     "start_time": "2021-03-19T19:03:56.784192Z"
    },
    "colab": {
     "base_uri": "https://localhost:8080/",
     "height": 165,
     "referenced_widgets": [
      "1d52822fb47048f098afdc1469085f04",
      "9dc2c3daae4b400d94d365e1cff64b1b",
      "ff4a70baf9b84759813cd5bfb46480ed",
      "9d0967f244db4e1285bd4e8258aa0a35",
      "e8eba6e82dde4af7b0254d202f51c322",
      "f1f753f696c745a2893cd9ae9d779294",
      "827cfb18338f45cd89d6289048356a1c",
      "5cb1d7a6e9ea48bbb11b29e86b7aa340",
      "b275d56439094851a67fe77d0d894805",
      "ed926dc06aa34badaacc6e21de48aee5",
      "f90b1aab2e5f4d49b47c1fecc9a46bea",
      "a8587377b8da4d26bc464ab4efb1dbce",
      "dc6fa1058e534d9a829fb01cc0ff66ae",
      "c821a9f4039b49bd9ca594566958ab4b",
      "68ca73a155e14cb28c7082c30c12ee77",
      "ff49beba863647628909e032ad91d757",
      "2006d88d0ab24028ac794198e50c8f00",
      "3d5bcbf3caed45968a388d905c633f04",
      "401a6493f05a44eda6a7617f35faa1f0",
      "6396b135ab7242448feba28585a01b97",
      "ea9a7448d57f43d6a8f6e651c5428d03",
      "8896dcec6aaa491cb91683410a7614d6",
      "8cf495034c9d49388154caf2a0ab4fcd",
      "33d01d8f391248f2ac935b9b16c44a46"
     ]
    },
    "id": "LnZm54I75JYX",
    "outputId": "c4cfd5a0-f522-46ad-9b38-4f46cbc9c5d0"
   },
   "outputs": [
    {
     "data": {
      "application/vnd.jupyter.widget-view+json": {
       "model_id": "1d52822fb47048f098afdc1469085f04",
       "version_major": 2,
       "version_minor": 0
      },
      "text/plain": [
       "HBox(children=(FloatProgress(value=0.0, max=607.0), HTML(value='')))"
      ]
     },
     "metadata": {
      "tags": []
     },
     "output_type": "display_data"
    },
    {
     "name": "stdout",
     "output_type": "stream",
     "text": [
      "X_train: (607, 204)\n"
     ]
    },
    {
     "data": {
      "application/vnd.jupyter.widget-view+json": {
       "model_id": "b275d56439094851a67fe77d0d894805",
       "version_major": 2,
       "version_minor": 0
      },
      "text/plain": [
       "HBox(children=(FloatProgress(value=0.0, max=151.0), HTML(value='')))"
      ]
     },
     "metadata": {
      "tags": []
     },
     "output_type": "display_data"
    },
    {
     "name": "stdout",
     "output_type": "stream",
     "text": [
      "X_val: (151, 204)\n"
     ]
    },
    {
     "data": {
      "application/vnd.jupyter.widget-view+json": {
       "model_id": "2006d88d0ab24028ac794198e50c8f00",
       "version_major": 2,
       "version_minor": 0
      },
      "text/plain": [
       "HBox(children=(FloatProgress(value=0.0, max=210.0), HTML(value='')))"
      ]
     },
     "metadata": {
      "tags": []
     },
     "output_type": "display_data"
    },
    {
     "name": "stdout",
     "output_type": "stream",
     "text": [
      "X_test: (210, 204)\n"
     ]
    }
   ],
   "source": [
    "X_train, y_train = extract_features(train_data, num_train, blur=True)\n",
    "print(\"X_train:\", X_train.shape)\n",
    "X_val, y_val = extract_features(val_data, num_val)\n",
    "print(\"X_val:\", X_val.shape)\n",
    "X_test, y_test = extract_features(test_data, num_test, skip=False)\n",
    "print(\"X_test:\", X_test.shape)"
   ]
  },
  {
   "cell_type": "code",
   "execution_count": 9,
   "metadata": {
    "ExecuteTime": {
     "end_time": "2021-03-19T18:39:17.611185Z",
     "start_time": "2021-03-19T18:39:17.571810Z"
    },
    "deletable": false,
    "editable": false,
    "id": "K_7YUY_s5JYY",
    "run_control": {
     "frozen": true
    }
   },
   "outputs": [],
   "source": [
    "np.savez(\n",
    "    'data1', \n",
    "    X_train=X_train, \n",
    "    y_train=y_train,\n",
    "    X_val=X_val, \n",
    "    y_val=y_val,\n",
    "    X_test=X_test, \n",
    "    y_test=y_test\n",
    ")"
   ]
  },
  {
   "cell_type": "code",
   "execution_count": 5,
   "metadata": {
    "ExecuteTime": {
     "end_time": "2021-03-19T16:12:25.589100Z",
     "start_time": "2021-03-19T16:12:25.527552Z"
    },
    "deletable": false,
    "editable": false,
    "id": "jcqf9DuT5JYY",
    "run_control": {
     "frozen": true
    }
   },
   "outputs": [],
   "source": [
    "data1 = np.load('data1.npz')\n",
    "X_train, y_train = data1['X_train'], data1['y_train']\n",
    "X_val, y_val = data1['X_val'], data1['y_val']\n",
    "X_test, y_test = data1['X_test'], data1['y_test']"
   ]
  },
  {
   "cell_type": "code",
   "execution_count": 26,
   "metadata": {
    "ExecuteTime": {
     "end_time": "2021-03-19T18:39:18.019955Z",
     "start_time": "2021-03-19T18:39:17.922587Z"
    },
    "id": "0KtZfTic5JYa"
   },
   "outputs": [],
   "source": [
    "from sklearn.svm import SVC, LinearSVC\n",
    "from sklearn.preprocessing import StandardScaler\n",
    "from sklearn.pipeline import Pipeline\n",
    "from sklearn.linear_model import LogisticRegression\n",
    "from sklearn.model_selection import GridSearchCV, PredefinedSplit\n",
    "from sklearn.neural_network import MLPClassifier\n",
    "from sklearn.decomposition import PCA\n",
    "from sklearn.kernel_approximation import RBFSampler\n",
    "\n",
    "# Models\n",
    "models = [\n",
    "    # SVC + RBF\n",
    "    (Pipeline([\n",
    "        ('standardize', StandardScaler()),\n",
    "        ('trf', None),\n",
    "        ('clf', SVC(kernel='rbf', random_state=seed))]),\n",
    "     \"SVC\"),\n",
    "    # SVC linear\n",
    "    (Pipeline([\n",
    "        ('standardize', StandardScaler()),\n",
    "        ('trf', None),\n",
    "        ('clf', LinearSVC(dual=False, random_state=seed))]),\n",
    "     \"L-SVC\"),\n",
    "    # MLP\n",
    "    (Pipeline([\n",
    "        ('standardize', StandardScaler()),\n",
    "        ('trf', None),\n",
    "        ('clf', MLPClassifier(max_iter=1000,\n",
    "                              solver='lbfgs',\n",
    "                              random_state=seed))]),\n",
    "     \"MLP\"),\n",
    "    # Logistic Regression\n",
    "    (Pipeline([\n",
    "        ('standardize', StandardScaler()),\n",
    "        ('trf', None),\n",
    "        ('clf', LogisticRegression(max_iter=500,\n",
    "                                   random_state=seed))]),\n",
    "     \"LR\")\n",
    "]\n",
    "\n",
    "params_lst = [\n",
    "    # SVC + RBF\n",
    "    [\n",
    "        # No transformation\n",
    "        {\n",
    "            \"clf__gamma\": np.logspace(-6, 0, 15),\n",
    "            \"clf__C\": np.logspace(-2, 2, 15)\n",
    "        },\n",
    "        # PCA\n",
    "        {\n",
    "            \"clf__gamma\": np.logspace(-6, 0, 15),\n",
    "            \"clf__C\": np.logspace(-2, 2, 15),\n",
    "            \"trf\": [PCA()],\n",
    "            \"trf__n_components\": [0.9, 0.95, 0.99],\n",
    "        },\n",
    "    ],\n",
    "    # SVM Linear\n",
    "    [\n",
    "        # No transformation\n",
    "        {\n",
    "            \"clf__C\": np.logspace(-3, 3, 40),\n",
    "        },\n",
    "        # PCA\n",
    "        {\n",
    "            \"clf__C\": np.logspace(-3, 3, 40),\n",
    "            \"trf\": [PCA()],\n",
    "            \"trf__n_components\": [0.9, 0.95, 0.99],\n",
    "        },\n",
    "    ],\n",
    "    # MLP\n",
    "    [\n",
    "        # No transformation\n",
    "        {\n",
    "            \"clf__hidden_layer_sizes\": [(50,), (100,), (50, 50,), (100, 100,)],\n",
    "            \"clf__alpha\": np.logspace(-3, 3, 15),\n",
    "        },\n",
    "        # PCA\n",
    "        {\n",
    "            \"clf__hidden_layer_sizes\": [(50,), (100,), (50, 50,), (100, 100,)],\n",
    "            \"clf__alpha\": np.logspace(-3, 3, 15),\n",
    "            \"trf\": [PCA()],\n",
    "            \"trf__n_components\": [0.9, 0.95, 0.99],\n",
    "        },\n",
    "    ],\n",
    "    # Logistic Regression\n",
    "    [\n",
    "        # No transformation\n",
    "        {\n",
    "            \"clf__C\": np.logspace(-3, 3, 30),\n",
    "            \"clf__solver\": ['lbfgs', 'liblinear']\n",
    "        },\n",
    "        # PCA\n",
    "        {\n",
    "            \"clf__C\": np.logspace(-3, 3, 30),\n",
    "            \"clf__solver\": ['lbfgs', 'sag'],\n",
    "            \"trf\": [PCA()],\n",
    "            \"trf__n_components\": [0.9, 0.95, 0.99],\n",
    "        },\n",
    "    ],\n",
    "]"
   ]
  },
  {
   "cell_type": "code",
   "execution_count": 27,
   "metadata": {
    "ExecuteTime": {
     "end_time": "2021-03-19T18:43:38.400269Z",
     "start_time": "2021-03-19T18:42:15.200363Z"
    },
    "colab": {
     "base_uri": "https://localhost:8080/"
    },
    "id": "Ljzz4T4m5JYb",
    "outputId": "4651a3dc-63d4-4a32-b535-7622d214d2cc"
   },
   "outputs": [
    {
     "name": "stdout",
     "output_type": "stream",
     "text": [
      "[SVC] AUC Test: 0.8315\n",
      "[SVC] AUC Validation: 0.9707\n",
      "[SVC] Acc Test: 0.7619\n",
      "[SVC] Time: 25.0532s\n",
      "Pipeline(memory=None,\n",
      "         steps=[('standardize',\n",
      "                 StandardScaler(copy=True, with_mean=True, with_std=True)),\n",
      "                ('trf',\n",
      "                 PCA(copy=True, iterated_power='auto', n_components=0.99,\n",
      "                     random_state=None, svd_solver='auto', tol=0.0,\n",
      "                     whiten=False)),\n",
      "                ('clf',\n",
      "                 SVC(C=51.794746792312075, break_ties=False, cache_size=200,\n",
      "                     class_weight=None, coef0=0.0,\n",
      "                     decision_function_shape='ovr', degree=3,\n",
      "                     gamma=0.0026826957952797246, kernel='rbf', max_iter=-1,\n",
      "                     probability=False, random_state=2021, shrinking=True,\n",
      "                     tol=0.001, verbose=False))],\n",
      "         verbose=False)\n",
      "[L-SVC] AUC Test: 0.8883\n",
      "[L-SVC] AUC Validation: 0.9432\n",
      "[L-SVC] Acc Test: 0.8286\n",
      "[L-SVC] Time: 1.2135s\n",
      "Pipeline(memory=None,\n",
      "         steps=[('standardize',\n",
      "                 StandardScaler(copy=True, with_mean=True, with_std=True)),\n",
      "                ('trf',\n",
      "                 PCA(copy=True, iterated_power='auto', n_components=0.99,\n",
      "                     random_state=None, svd_solver='auto', tol=0.0,\n",
      "                     whiten=False)),\n",
      "                ('clf',\n",
      "                 LinearSVC(C=0.04923882631706741, class_weight=None, dual=False,\n",
      "                           fit_intercept=True, intercept_scaling=1,\n",
      "                           loss='squared_hinge', max_iter=1000,\n",
      "                           multi_class='ovr', penalty='l2', random_state=2021,\n",
      "                           tol=0.0001, verbose=0))],\n",
      "         verbose=False)\n",
      "[MLP] AUC Test: 0.9516\n",
      "[MLP] AUC Validation: 0.9826\n",
      "[MLP] Acc Test: 0.8810\n",
      "[MLP] Time: 178.7111s\n",
      "Pipeline(memory=None,\n",
      "         steps=[('standardize',\n",
      "                 StandardScaler(copy=True, with_mean=True, with_std=True)),\n",
      "                ('trf', None),\n",
      "                ('clf',\n",
      "                 MLPClassifier(activation='relu', alpha=2.6826957952797246,\n",
      "                               batch_size='auto', beta_1=0.9, beta_2=0.999,\n",
      "                               early_stopping=False, epsilon=1e-08,\n",
      "                               hidden_layer_sizes=(100,),\n",
      "                               learning_rate='constant',\n",
      "                               learning_rate_init=0.001, max_fun=15000,\n",
      "                               max_iter=1000, momentum=0.9, n_iter_no_change=10,\n",
      "                               nesterovs_momentum=True, power_t=0.5,\n",
      "                               random_state=2021, shuffle=True, solver='lbfgs',\n",
      "                               tol=0.0001, validation_fraction=0.1,\n",
      "                               verbose=False, warm_start=False))],\n",
      "         verbose=False)\n",
      "[LR] AUC Test: 0.8880\n",
      "[LR] AUC Validation: 0.9393\n",
      "[LR] Acc Test: 0.8238\n",
      "[LR] Time: 3.2527s\n",
      "Pipeline(memory=None,\n",
      "         steps=[('standardize',\n",
      "                 StandardScaler(copy=True, with_mean=True, with_std=True)),\n",
      "                ('trf',\n",
      "                 PCA(copy=True, iterated_power='auto', n_components=0.99,\n",
      "                     random_state=None, svd_solver='auto', tol=0.0,\n",
      "                     whiten=False)),\n",
      "                ('clf',\n",
      "                 LogisticRegression(C=0.7880462815669912, class_weight=None,\n",
      "                                    dual=False, fit_intercept=True,\n",
      "                                    intercept_scaling=1, l1_ratio=None,\n",
      "                                    max_iter=500, multi_class='auto',\n",
      "                                    n_jobs=None, penalty='l2',\n",
      "                                    random_state=2021, solver='lbfgs',\n",
      "                                    tol=0.0001, verbose=0, warm_start=False))],\n",
      "         verbose=False)\n"
     ]
    }
   ],
   "source": [
    "# Select features\n",
    "idx = np.arange(68*2, 68*3)\n",
    "\n",
    "# Create a list where train data indices are -1 and validation data indices are 0\n",
    "split_index = np.repeat([-1, 0], [X_train.shape[0], X_val.shape[0]])\n",
    "\n",
    "# Use the list to create PredefinedSplit\n",
    "ps = PredefinedSplit(test_fold=split_index)\n",
    "\n",
    "# Concatenate training and validation\n",
    "X = np.vstack((X_train[:, idx], X_val[:, idx]))\n",
    "y = np.concatenate((y_train, y_val))\n",
    "\n",
    "best_models = []\n",
    "for (model, name), params in zip(models, params_lst):\n",
    "    gs = GridSearchCV(\n",
    "        model,\n",
    "        params,\n",
    "        verbose=0,\n",
    "        scoring=\"roc_auc\",\n",
    "        cv=ps,\n",
    "        refit=True,\n",
    "        n_jobs=-1\n",
    "    )\n",
    "\n",
    "    start = time.time()\n",
    "    gs.fit(X, y)\n",
    "    best = gs.best_estimator_\n",
    "    auc_val = gs.best_score_\n",
    "    auc_test = gs.score(X_test[:, idx], y_test)\n",
    "    acc_test = best.score(X_test[:, idx], y_test)\n",
    "    end = time.time() - start\n",
    "\n",
    "    print(f\"[{name}] AUC Test: {auc_test:.4f}\")\n",
    "    print(f\"[{name}] AUC Validation: {auc_val:.4f}\")\n",
    "    print(f\"[{name}] Acc Test: {acc_test:.4f}\")\n",
    "    print(f\"[{name}] Time: {end:.4f}s\")\n",
    "    print(best)\n",
    "\n",
    "    best_models.append(best)"
   ]
  },
  {
   "cell_type": "code",
   "execution_count": 10,
   "metadata": {
    "ExecuteTime": {
     "end_time": "2021-03-19T18:44:13.559109Z",
     "start_time": "2021-03-19T18:44:12.581984Z"
    },
    "colab": {
     "base_uri": "https://localhost:8080/",
     "height": 1000
    },
    "id": "iJKQ-kuC5JYc",
    "outputId": "8706ba55-9217-47c6-a8b3-3b293e4c99ef",
    "scrolled": true
   },
   "outputs": [
    {
     "data": {
      "image/png": "[encoded data removed]",
      "text/plain": [
       "<Figure size 432x288 with 1 Axes>"
      ]
     },
     "metadata": {
      "needs_background": "light",
      "tags": []
     },
     "output_type": "display_data"
    },
    {
     "data": {
      "image/png": "[encoded data removed]",
      "text/plain": [
       "<Figure size 432x288 with 1 Axes>"
      ]
     },
     "metadata": {
      "needs_background": "light",
      "tags": []
     },
     "output_type": "display_data"
    },
    {
     "data": {
      "image/png": "[encoded data removed]",
      "text/plain": [
       "<Figure size 432x288 with 1 Axes>"
      ]
     },
     "metadata": {
      "needs_background": "light",
      "tags": []
     },
     "output_type": "display_data"
    },
    {
     "data": {
      "image/png": "[encoded data removed]",
      "text/plain": [
       "<Figure size 432x288 with 1 Axes>"
      ]
     },
     "metadata": {
      "needs_background": "light",
      "tags": []
     },
     "output_type": "display_data"
    }
   ],
   "source": [
    "for model in best_models:\n",
    "    plot_roc_curve(model, X_test[:, idx], y_test,\n",
    "                   name=model['clf'].__class__.__name__)"
   ]
  },
  {
   "cell_type": "markdown",
   "metadata": {
    "id": "O25VvYPE5JYe"
   },
   "source": [
    "# Task 2"
   ]
  },
  {
   "cell_type": "code",
   "execution_count": 25,
   "metadata": {
    "ExecuteTime": {
     "end_time": "2021-03-19T18:57:01.727137Z",
     "start_time": "2021-03-19T18:57:01.638665Z"
    },
    "colab": {
     "base_uri": "https://localhost:8080/"
    },
    "id": "3MZgyEdc5JYe",
    "outputId": "172e19c1-4055-4825-ec5b-ac5946b976a0"
   },
   "outputs": [
    {
     "name": "stdout",
     "output_type": "stream",
     "text": [
      "Found 600 images belonging to 2 classes.\n"
     ]
    }
   ],
   "source": [
    "# Load test data\n",
    "\n",
    "test_dir_2 = 'Celeb-DF/evaluation/'\n",
    "target_size_2 = (768, 768)\n",
    "\n",
    "test_datagen_2 = ImageDataGenerator()\n",
    "\n",
    "test_data_2 = test_datagen_2.flow_from_directory(\n",
    "    directory=test_dir_2,\n",
    "    class_mode='binary',\n",
    "    batch_size=1,\n",
    "    seed=seed,\n",
    "    target_size=target_size_2,\n",
    ")\n",
    "\n",
    "num_test_2 = test_data_2.samples"
   ]
  },
  {
   "cell_type": "code",
   "execution_count": 26,
   "metadata": {
    "ExecuteTime": {
     "end_time": "2021-03-19T18:58:43.981028Z",
     "start_time": "2021-03-19T18:57:02.421596Z"
    },
    "colab": {
     "base_uri": "https://localhost:8080/",
     "height": 66,
     "referenced_widgets": [
      "84808eaf36654123810d780ef410aefa",
      "60120ce7bcad41a2bea491b3331ed835",
      "b8ba7b3ab0bc4079872f0a6ba8d74269",
      "eb6f7a66baf14a3cb1f04e57bfaf7490",
      "ebad4389a8ce4b87bfc4ebcffa3df943",
      "131b6617c95443bb9b4c427c0a39193f",
      "ef6ab897a80848f188627a5aefd9440f",
      "fc87468a713c49498932f15f259d0e48"
     ]
    },
    "id": "2PZqdaSY5JYe",
    "outputId": "04fa9321-9688-4d6b-c882-1a3967e880a2"
   },
   "outputs": [
    {
     "data": {
      "application/vnd.jupyter.widget-view+json": {
       "model_id": "84808eaf36654123810d780ef410aefa",
       "version_major": 2,
       "version_minor": 0
      },
      "text/plain": [
       "HBox(children=(FloatProgress(value=0.0, max=600.0), HTML(value='')))"
      ]
     },
     "metadata": {
      "tags": []
     },
     "output_type": "display_data"
    },
    {
     "name": "stdout",
     "output_type": "stream",
     "text": [
      "X_test_2: (600, 204)\n"
     ]
    }
   ],
   "source": [
    "X_test_2, y_test_2 = extract_features(test_data_2, num_test_2, skip=False)\n",
    "print(\"X_test_2:\", X_test_2.shape)"
   ]
  },
  {
   "cell_type": "code",
   "execution_count": 15,
   "metadata": {
    "id": "WzEx49D0MXnN"
   },
   "outputs": [],
   "source": [
    "np.savez('data2', X_test=X_test_2, y_test=y_test_2)"
   ]
  },
  {
   "cell_type": "code",
   "execution_count": 8,
   "metadata": {
    "id": "xYOzTT6rTJWx"
   },
   "outputs": [],
   "source": [
    "data2 = np.load('data2.npz')\n",
    "X_test_2, y_test_2 = data2['X_test'], data2['y_test']"
   ]
  },
  {
   "cell_type": "code",
   "execution_count": 17,
   "metadata": {
    "ExecuteTime": {
     "end_time": "2021-03-19T18:58:50.806776Z",
     "start_time": "2021-03-19T18:58:49.866435Z"
    },
    "colab": {
     "base_uri": "https://localhost:8080/",
     "height": 541
    },
    "id": "QbS_m7sw5JYf",
    "outputId": "16157919-9430-4d89-94c7-e5f801123429"
   },
   "outputs": [
    {
     "data": {
      "image/png": "[encoded data removed]",
      "text/plain": [
       "<Figure size 432x288 with 1 Axes>"
      ]
     },
     "metadata": {
      "needs_background": "light",
      "tags": []
     },
     "output_type": "display_data"
    },
    {
     "data": {
      "image/png": "[encoded data removed]",
      "text/plain": [
       "<Figure size 432x288 with 1 Axes>"
      ]
     },
     "metadata": {
      "needs_background": "light",
      "tags": []
     },
     "output_type": "display_data"
    }
   ],
   "source": [
    "for model in [best_models[0], best_models[2]]:\n",
    "    plot_roc_curve(model, X_test_2[:, idx], y_test_2,\n",
    "                   name=model['clf'].__class__.__name__)"
   ]
  }
 ],
 "metadata": {
  "accelerator": "GPU",
  "colab": {
   "collapsed_sections": [],
   "name": "Task1.ipynb",
   "provenance": []
  },
  "kernelspec": {
   "display_name": "Python 3",
   "language": "python",
   "name": "python3"
  },
  "language_info": {
   "codemirror_mode": {
    "name": "ipython",
    "version": 3
   },
   "file_extension": ".py",
   "mimetype": "text/x-python",
   "name": "python",
   "nbconvert_exporter": "python",
   "pygments_lexer": "ipython3",
   "version": "3.9.2"
  },
  "latex_envs": {
   "LaTeX_envs_menu_present": false,
   "autoclose": true,
   "autocomplete": false,
   "bibliofile": "bibliography.bib",
   "cite_by": "apalike",
   "current_citInitial": 1,
   "eqLabelWithNumbers": true,
   "eqNumInitial": 1,
   "hotkeys": {
    "equation": "Ctrl-E",
    "itemize": "Ctrl-I"
   },
   "labels_anchors": false,
   "latex_user_defs": false,
   "report_style_numbering": false,
   "user_envs_cfg": false
  },
  "toc": {
   "base_numbering": 1,
   "nav_menu": {},
   "number_sections": true,
   "sideBar": true,
   "skip_h1_title": false,
   "title_cell": "Table of Contents",
   "title_sidebar": "Contents",
   "toc_cell": false,
   "toc_position": {},
   "toc_section_display": true,
   "toc_window_display": false
  },
  "varInspector": {
   "cols": {
    "lenName": 16,
    "lenType": 16,
    "lenVar": 40
   },
   "kernels_config": {
    "python": {
     "delete_cmd_postfix": "",
     "delete_cmd_prefix": "del ",
     "library": "var_list.py",
     "varRefreshCmd": "print(var_dic_list())"
    },
    "r": {
     "delete_cmd_postfix": ") ",
     "delete_cmd_prefix": "rm(",
     "library": "var_list.r",
     "varRefreshCmd": "cat(var_dic_list()) "
    }
   },
   "types_to_exclude": [
    "module",
    "function",
    "builtin_function_or_method",
    "instance",
    "_Feature"
   ],
   "window_display": false
  },
  "widgets": {
   "application/vnd.jupyter.widget-state+json": {
    "131b6617c95443bb9b4c427c0a39193f": {
     "model_module": "@jupyter-widgets/base",
     "model_name": "LayoutModel",
     "state": {
      "_model_module": "@jupyter-widgets/base",
      "_model_module_version": "1.2.0",
      "_model_name": "LayoutModel",
      "_view_count": null,
      "_view_module": "@jupyter-widgets/base",
      "_view_module_version": "1.2.0",
      "_view_name": "LayoutView",
      "align_content": null,
      "align_items": null,
      "align_self": null,
      "border": null,
      "bottom": null,
      "display": null,
      "flex": null,
      "flex_flow": null,
      "grid_area": null,
      "grid_auto_columns": null,
      "grid_auto_flow": null,
      "grid_auto_rows": null,
      "grid_column": null,
      "grid_gap": null,
      "grid_row": null,
      "grid_template_areas": null,
      "grid_template_columns": null,
      "grid_template_rows": null,
      "height": null,
      "justify_content": null,
      "justify_items": null,
      "left": null,
      "margin": null,
      "max_height": null,
      "max_width": null,
      "min_height": null,
      "min_width": null,
      "object_fit": null,
      "object_position": null,
      "order": null,
      "overflow": null,
      "overflow_x": null,
      "overflow_y": null,
      "padding": null,
      "right": null,
      "top": null,
      "visibility": null,
      "width": null
     }
    },
    "1d52822fb47048f098afdc1469085f04": {
     "model_module": "@jupyter-widgets/controls",
     "model_name": "HBoxModel",
     "state": {
      "_dom_classes": [],
      "_model_module": "@jupyter-widgets/controls",
      "_model_module_version": "1.5.0",
      "_model_name": "HBoxModel",
      "_view_count": null,
      "_view_module": "@jupyter-widgets/controls",
      "_view_module_version": "1.5.0",
      "_view_name": "HBoxView",
      "box_style": "",
      "children": [
       "IPY_MODEL_ff4a70baf9b84759813cd5bfb46480ed",
       "IPY_MODEL_9d0967f244db4e1285bd4e8258aa0a35"
      ],
      "layout": "IPY_MODEL_9dc2c3daae4b400d94d365e1cff64b1b"
     }
    },
    "2006d88d0ab24028ac794198e50c8f00": {
     "model_module": "@jupyter-widgets/controls",
     "model_name": "HBoxModel",
     "state": {
      "_dom_classes": [],
      "_model_module": "@jupyter-widgets/controls",
      "_model_module_version": "1.5.0",
      "_model_name": "HBoxModel",
      "_view_count": null,
      "_view_module": "@jupyter-widgets/controls",
      "_view_module_version": "1.5.0",
      "_view_name": "HBoxView",
      "box_style": "",
      "children": [
       "IPY_MODEL_401a6493f05a44eda6a7617f35faa1f0",
       "IPY_MODEL_6396b135ab7242448feba28585a01b97"
      ],
      "layout": "IPY_MODEL_3d5bcbf3caed45968a388d905c633f04"
     }
    },
    "33d01d8f391248f2ac935b9b16c44a46": {
     "model_module": "@jupyter-widgets/base",
     "model_name": "LayoutModel",
     "state": {
      "_model_module": "@jupyter-widgets/base",
      "_model_module_version": "1.2.0",
      "_model_name": "LayoutModel",
      "_view_count": null,
      "_view_module": "@jupyter-widgets/base",
      "_view_module_version": "1.2.0",
      "_view_name": "LayoutView",
      "align_content": null,
      "align_items": null,
      "align_self": null,
      "border": null,
      "bottom": null,
      "display": null,
      "flex": null,
      "flex_flow": null,
      "grid_area": null,
      "grid_auto_columns": null,
      "grid_auto_flow": null,
      "grid_auto_rows": null,
      "grid_column": null,
      "grid_gap": null,
      "grid_row": null,
      "grid_template_areas": null,
      "grid_template_columns": null,
      "grid_template_rows": null,
      "height": null,
      "justify_content": null,
      "justify_items": null,
      "left": null,
      "margin": null,
      "max_height": null,
      "max_width": null,
      "min_height": null,
      "min_width": null,
      "object_fit": null,
      "object_position": null,
      "order": null,
      "overflow": null,
      "overflow_x": null,
      "overflow_y": null,
      "padding": null,
      "right": null,
      "top": null,
      "visibility": null,
      "width": null
     }
    },
    "3d5bcbf3caed45968a388d905c633f04": {
     "model_module": "@jupyter-widgets/base",
     "model_name": "LayoutModel",
     "state": {
      "_model_module": "@jupyter-widgets/base",
      "_model_module_version": "1.2.0",
      "_model_name": "LayoutModel",
      "_view_count": null,
      "_view_module": "@jupyter-widgets/base",
      "_view_module_version": "1.2.0",
      "_view_name": "LayoutView",
      "align_content": null,
      "align_items": null,
      "align_self": null,
      "border": null,
      "bottom": null,
      "display": null,
      "flex": null,
      "flex_flow": null,
      "grid_area": null,
      "grid_auto_columns": null,
      "grid_auto_flow": null,
      "grid_auto_rows": null,
      "grid_column": null,
      "grid_gap": null,
      "grid_row": null,
      "grid_template_areas": null,
      "grid_template_columns": null,
      "grid_template_rows": null,
      "height": null,
      "justify_content": null,
      "justify_items": null,
      "left": null,
      "margin": null,
      "max_height": null,
      "max_width": null,
      "min_height": null,
      "min_width": null,
      "object_fit": null,
      "object_position": null,
      "order": null,
      "overflow": null,
      "overflow_x": null,
      "overflow_y": null,
      "padding": null,
      "right": null,
      "top": null,
      "visibility": null,
      "width": null
     }
    },
    "401a6493f05a44eda6a7617f35faa1f0": {
     "model_module": "@jupyter-widgets/controls",
     "model_name": "FloatProgressModel",
     "state": {
      "_dom_classes": [],
      "_model_module": "@jupyter-widgets/controls",
      "_model_module_version": "1.5.0",
      "_model_name": "FloatProgressModel",
      "_view_count": null,
      "_view_module": "@jupyter-widgets/controls",
      "_view_module_version": "1.5.0",
      "_view_name": "ProgressView",
      "bar_style": "danger",
      "description": "100%",
      "description_tooltip": null,
      "layout": "IPY_MODEL_8896dcec6aaa491cb91683410a7614d6",
      "max": 210,
      "min": 0,
      "orientation": "horizontal",
      "style": "IPY_MODEL_ea9a7448d57f43d6a8f6e651c5428d03",
      "value": 209
     }
    },
    "5cb1d7a6e9ea48bbb11b29e86b7aa340": {
     "model_module": "@jupyter-widgets/base",
     "model_name": "LayoutModel",
     "state": {
      "_model_module": "@jupyter-widgets/base",
      "_model_module_version": "1.2.0",
      "_model_name": "LayoutModel",
      "_view_count": null,
      "_view_module": "@jupyter-widgets/base",
      "_view_module_version": "1.2.0",
      "_view_name": "LayoutView",
      "align_content": null,
      "align_items": null,
      "align_self": null,
      "border": null,
      "bottom": null,
      "display": null,
      "flex": null,
      "flex_flow": null,
      "grid_area": null,
      "grid_auto_columns": null,
      "grid_auto_flow": null,
      "grid_auto_rows": null,
      "grid_column": null,
      "grid_gap": null,
      "grid_row": null,
      "grid_template_areas": null,
      "grid_template_columns": null,
      "grid_template_rows": null,
      "height": null,
      "justify_content": null,
      "justify_items": null,
      "left": null,
      "margin": null,
      "max_height": null,
      "max_width": null,
      "min_height": null,
      "min_width": null,
      "object_fit": null,
      "object_position": null,
      "order": null,
      "overflow": null,
      "overflow_x": null,
      "overflow_y": null,
      "padding": null,
      "right": null,
      "top": null,
      "visibility": null,
      "width": null
     }
    },
    "60120ce7bcad41a2bea491b3331ed835": {
     "model_module": "@jupyter-widgets/base",
     "model_name": "LayoutModel",
     "state": {
      "_model_module": "@jupyter-widgets/base",
      "_model_module_version": "1.2.0",
      "_model_name": "LayoutModel",
      "_view_count": null,
      "_view_module": "@jupyter-widgets/base",
      "_view_module_version": "1.2.0",
      "_view_name": "LayoutView",
      "align_content": null,
      "align_items": null,
      "align_self": null,
      "border": null,
      "bottom": null,
      "display": null,
      "flex": null,
      "flex_flow": null,
      "grid_area": null,
      "grid_auto_columns": null,
      "grid_auto_flow": null,
      "grid_auto_rows": null,
      "grid_column": null,
      "grid_gap": null,
      "grid_row": null,
      "grid_template_areas": null,
      "grid_template_columns": null,
      "grid_template_rows": null,
      "height": null,
      "justify_content": null,
      "justify_items": null,
      "left": null,
      "margin": null,
      "max_height": null,
      "max_width": null,
      "min_height": null,
      "min_width": null,
      "object_fit": null,
      "object_position": null,
      "order": null,
      "overflow": null,
      "overflow_x": null,
      "overflow_y": null,
      "padding": null,
      "right": null,
      "top": null,
      "visibility": null,
      "width": null
     }
    },
    "6396b135ab7242448feba28585a01b97": {
     "model_module": "@jupyter-widgets/controls",
     "model_name": "HTMLModel",
     "state": {
      "_dom_classes": [],
      "_model_module": "@jupyter-widgets/controls",
      "_model_module_version": "1.5.0",
      "_model_name": "HTMLModel",
      "_view_count": null,
      "_view_module": "@jupyter-widgets/controls",
      "_view_module_version": "1.5.0",
      "_view_name": "HTMLView",
      "description": "",
      "description_tooltip": null,
      "layout": "IPY_MODEL_33d01d8f391248f2ac935b9b16c44a46",
      "placeholder": "​",
      "style": "IPY_MODEL_8cf495034c9d49388154caf2a0ab4fcd",
      "value": " 209/210 [02:28&lt;00:00,  1.50it/s]"
     }
    },
    "68ca73a155e14cb28c7082c30c12ee77": {
     "model_module": "@jupyter-widgets/controls",
     "model_name": "DescriptionStyleModel",
     "state": {
      "_model_module": "@jupyter-widgets/controls",
      "_model_module_version": "1.5.0",
      "_model_name": "DescriptionStyleModel",
      "_view_count": null,
      "_view_module": "@jupyter-widgets/base",
      "_view_module_version": "1.2.0",
      "_view_name": "StyleView",
      "description_width": ""
     }
    },
    "827cfb18338f45cd89d6289048356a1c": {
     "model_module": "@jupyter-widgets/controls",
     "model_name": "DescriptionStyleModel",
     "state": {
      "_model_module": "@jupyter-widgets/controls",
      "_model_module_version": "1.5.0",
      "_model_name": "DescriptionStyleModel",
      "_view_count": null,
      "_view_module": "@jupyter-widgets/base",
      "_view_module_version": "1.2.0",
      "_view_name": "StyleView",
      "description_width": ""
     }
    },
    "84808eaf36654123810d780ef410aefa": {
     "model_module": "@jupyter-widgets/controls",
     "model_name": "HBoxModel",
     "state": {
      "_dom_classes": [],
      "_model_module": "@jupyter-widgets/controls",
      "_model_module_version": "1.5.0",
      "_model_name": "HBoxModel",
      "_view_count": null,
      "_view_module": "@jupyter-widgets/controls",
      "_view_module_version": "1.5.0",
      "_view_name": "HBoxView",
      "box_style": "",
      "children": [
       "IPY_MODEL_b8ba7b3ab0bc4079872f0a6ba8d74269",
       "IPY_MODEL_eb6f7a66baf14a3cb1f04e57bfaf7490"
      ],
      "layout": "IPY_MODEL_60120ce7bcad41a2bea491b3331ed835"
     }
    },
    "8896dcec6aaa491cb91683410a7614d6": {
     "model_module": "@jupyter-widgets/base",
     "model_name": "LayoutModel",
     "state": {
      "_model_module": "@jupyter-widgets/base",
      "_model_module_version": "1.2.0",
      "_model_name": "LayoutModel",
      "_view_count": null,
      "_view_module": "@jupyter-widgets/base",
      "_view_module_version": "1.2.0",
      "_view_name": "LayoutView",
      "align_content": null,
      "align_items": null,
      "align_self": null,
      "border": null,
      "bottom": null,
      "display": null,
      "flex": null,
      "flex_flow": null,
      "grid_area": null,
      "grid_auto_columns": null,
      "grid_auto_flow": null,
      "grid_auto_rows": null,
      "grid_column": null,
      "grid_gap": null,
      "grid_row": null,
      "grid_template_areas": null,
      "grid_template_columns": null,
      "grid_template_rows": null,
      "height": null,
      "justify_content": null,
      "justify_items": null,
      "left": null,
      "margin": null,
      "max_height": null,
      "max_width": null,
      "min_height": null,
      "min_width": null,
      "object_fit": null,
      "object_position": null,
      "order": null,
      "overflow": null,
      "overflow_x": null,
      "overflow_y": null,
      "padding": null,
      "right": null,
      "top": null,
      "visibility": null,
      "width": null
     }
    },
    "8cf495034c9d49388154caf2a0ab4fcd": {
     "model_module": "@jupyter-widgets/controls",
     "model_name": "DescriptionStyleModel",
     "state": {
      "_model_module": "@jupyter-widgets/controls",
      "_model_module_version": "1.5.0",
      "_model_name": "DescriptionStyleModel",
      "_view_count": null,
      "_view_module": "@jupyter-widgets/base",
      "_view_module_version": "1.2.0",
      "_view_name": "StyleView",
      "description_width": ""
     }
    },
    "9d0967f244db4e1285bd4e8258aa0a35": {
     "model_module": "@jupyter-widgets/controls",
     "model_name": "HTMLModel",
     "state": {
      "_dom_classes": [],
      "_model_module": "@jupyter-widgets/controls",
      "_model_module_version": "1.5.0",
      "_model_name": "HTMLModel",
      "_view_count": null,
      "_view_module": "@jupyter-widgets/controls",
      "_view_module_version": "1.5.0",
      "_view_name": "HTMLView",
      "description": "",
      "description_tooltip": null,
      "layout": "IPY_MODEL_5cb1d7a6e9ea48bbb11b29e86b7aa340",
      "placeholder": "​",
      "style": "IPY_MODEL_827cfb18338f45cd89d6289048356a1c",
      "value": " 606/607 [08:07&lt;00:00,  1.28it/s]"
     }
    },
    "9dc2c3daae4b400d94d365e1cff64b1b": {
     "model_module": "@jupyter-widgets/base",
     "model_name": "LayoutModel",
     "state": {
      "_model_module": "@jupyter-widgets/base",
      "_model_module_version": "1.2.0",
      "_model_name": "LayoutModel",
      "_view_count": null,
      "_view_module": "@jupyter-widgets/base",
      "_view_module_version": "1.2.0",
      "_view_name": "LayoutView",
      "align_content": null,
      "align_items": null,
      "align_self": null,
      "border": null,
      "bottom": null,
      "display": null,
      "flex": null,
      "flex_flow": null,
      "grid_area": null,
      "grid_auto_columns": null,
      "grid_auto_flow": null,
      "grid_auto_rows": null,
      "grid_column": null,
      "grid_gap": null,
      "grid_row": null,
      "grid_template_areas": null,
      "grid_template_columns": null,
      "grid_template_rows": null,
      "height": null,
      "justify_content": null,
      "justify_items": null,
      "left": null,
      "margin": null,
      "max_height": null,
      "max_width": null,
      "min_height": null,
      "min_width": null,
      "object_fit": null,
      "object_position": null,
      "order": null,
      "overflow": null,
      "overflow_x": null,
      "overflow_y": null,
      "padding": null,
      "right": null,
      "top": null,
      "visibility": null,
      "width": null
     }
    },
    "a8587377b8da4d26bc464ab4efb1dbce": {
     "model_module": "@jupyter-widgets/controls",
     "model_name": "HTMLModel",
     "state": {
      "_dom_classes": [],
      "_model_module": "@jupyter-widgets/controls",
      "_model_module_version": "1.5.0",
      "_model_name": "HTMLModel",
      "_view_count": null,
      "_view_module": "@jupyter-widgets/controls",
      "_view_module_version": "1.5.0",
      "_view_name": "HTMLView",
      "description": "",
      "description_tooltip": null,
      "layout": "IPY_MODEL_ff49beba863647628909e032ad91d757",
      "placeholder": "​",
      "style": "IPY_MODEL_68ca73a155e14cb28c7082c30c12ee77",
      "value": " 150/151 [01:49&lt;00:00,  1.43it/s]"
     }
    },
    "b275d56439094851a67fe77d0d894805": {
     "model_module": "@jupyter-widgets/controls",
     "model_name": "HBoxModel",
     "state": {
      "_dom_classes": [],
      "_model_module": "@jupyter-widgets/controls",
      "_model_module_version": "1.5.0",
      "_model_name": "HBoxModel",
      "_view_count": null,
      "_view_module": "@jupyter-widgets/controls",
      "_view_module_version": "1.5.0",
      "_view_name": "HBoxView",
      "box_style": "",
      "children": [
       "IPY_MODEL_f90b1aab2e5f4d49b47c1fecc9a46bea",
       "IPY_MODEL_a8587377b8da4d26bc464ab4efb1dbce"
      ],
      "layout": "IPY_MODEL_ed926dc06aa34badaacc6e21de48aee5"
     }
    },
    "b8ba7b3ab0bc4079872f0a6ba8d74269": {
     "model_module": "@jupyter-widgets/controls",
     "model_name": "FloatProgressModel",
     "state": {
      "_dom_classes": [],
      "_model_module": "@jupyter-widgets/controls",
      "_model_module_version": "1.5.0",
      "_model_name": "FloatProgressModel",
      "_view_count": null,
      "_view_module": "@jupyter-widgets/controls",
      "_view_module_version": "1.5.0",
      "_view_name": "ProgressView",
      "bar_style": "danger",
      "description": "100%",
      "description_tooltip": null,
      "layout": "IPY_MODEL_131b6617c95443bb9b4c427c0a39193f",
      "max": 600,
      "min": 0,
      "orientation": "horizontal",
      "style": "IPY_MODEL_ebad4389a8ce4b87bfc4ebcffa3df943",
      "value": 599
     }
    },
    "c821a9f4039b49bd9ca594566958ab4b": {
     "model_module": "@jupyter-widgets/base",
     "model_name": "LayoutModel",
     "state": {
      "_model_module": "@jupyter-widgets/base",
      "_model_module_version": "1.2.0",
      "_model_name": "LayoutModel",
      "_view_count": null,
      "_view_module": "@jupyter-widgets/base",
      "_view_module_version": "1.2.0",
      "_view_name": "LayoutView",
      "align_content": null,
      "align_items": null,
      "align_self": null,
      "border": null,
      "bottom": null,
      "display": null,
      "flex": null,
      "flex_flow": null,
      "grid_area": null,
      "grid_auto_columns": null,
      "grid_auto_flow": null,
      "grid_auto_rows": null,
      "grid_column": null,
      "grid_gap": null,
      "grid_row": null,
      "grid_template_areas": null,
      "grid_template_columns": null,
      "grid_template_rows": null,
      "height": null,
      "justify_content": null,
      "justify_items": null,
      "left": null,
      "margin": null,
      "max_height": null,
      "max_width": null,
      "min_height": null,
      "min_width": null,
      "object_fit": null,
      "object_position": null,
      "order": null,
      "overflow": null,
      "overflow_x": null,
      "overflow_y": null,
      "padding": null,
      "right": null,
      "top": null,
      "visibility": null,
      "width": null
     }
    },
    "dc6fa1058e534d9a829fb01cc0ff66ae": {
     "model_module": "@jupyter-widgets/controls",
     "model_name": "ProgressStyleModel",
     "state": {
      "_model_module": "@jupyter-widgets/controls",
      "_model_module_version": "1.5.0",
      "_model_name": "ProgressStyleModel",
      "_view_count": null,
      "_view_module": "@jupyter-widgets/base",
      "_view_module_version": "1.2.0",
      "_view_name": "StyleView",
      "bar_color": null,
      "description_width": "initial"
     }
    },
    "e8eba6e82dde4af7b0254d202f51c322": {
     "model_module": "@jupyter-widgets/controls",
     "model_name": "ProgressStyleModel",
     "state": {
      "_model_module": "@jupyter-widgets/controls",
      "_model_module_version": "1.5.0",
      "_model_name": "ProgressStyleModel",
      "_view_count": null,
      "_view_module": "@jupyter-widgets/base",
      "_view_module_version": "1.2.0",
      "_view_name": "StyleView",
      "bar_color": null,
      "description_width": "initial"
     }
    },
    "ea9a7448d57f43d6a8f6e651c5428d03": {
     "model_module": "@jupyter-widgets/controls",
     "model_name": "ProgressStyleModel",
     "state": {
      "_model_module": "@jupyter-widgets/controls",
      "_model_module_version": "1.5.0",
      "_model_name": "ProgressStyleModel",
      "_view_count": null,
      "_view_module": "@jupyter-widgets/base",
      "_view_module_version": "1.2.0",
      "_view_name": "StyleView",
      "bar_color": null,
      "description_width": "initial"
     }
    },
    "eb6f7a66baf14a3cb1f04e57bfaf7490": {
     "model_module": "@jupyter-widgets/controls",
     "model_name": "HTMLModel",
     "state": {
      "_dom_classes": [],
      "_model_module": "@jupyter-widgets/controls",
      "_model_module_version": "1.5.0",
      "_model_name": "HTMLModel",
      "_view_count": null,
      "_view_module": "@jupyter-widgets/controls",
      "_view_module_version": "1.5.0",
      "_view_name": "HTMLView",
      "description": "",
      "description_tooltip": null,
      "layout": "IPY_MODEL_fc87468a713c49498932f15f259d0e48",
      "placeholder": "​",
      "style": "IPY_MODEL_ef6ab897a80848f188627a5aefd9440f",
      "value": " 599/600 [06:07&lt;00:00,  1.65it/s]"
     }
    },
    "ebad4389a8ce4b87bfc4ebcffa3df943": {
     "model_module": "@jupyter-widgets/controls",
     "model_name": "ProgressStyleModel",
     "state": {
      "_model_module": "@jupyter-widgets/controls",
      "_model_module_version": "1.5.0",
      "_model_name": "ProgressStyleModel",
      "_view_count": null,
      "_view_module": "@jupyter-widgets/base",
      "_view_module_version": "1.2.0",
      "_view_name": "StyleView",
      "bar_color": null,
      "description_width": "initial"
     }
    },
    "ed926dc06aa34badaacc6e21de48aee5": {
     "model_module": "@jupyter-widgets/base",
     "model_name": "LayoutModel",
     "state": {
      "_model_module": "@jupyter-widgets/base",
      "_model_module_version": "1.2.0",
      "_model_name": "LayoutModel",
      "_view_count": null,
      "_view_module": "@jupyter-widgets/base",
      "_view_module_version": "1.2.0",
      "_view_name": "LayoutView",
      "align_content": null,
      "align_items": null,
      "align_self": null,
      "border": null,
      "bottom": null,
      "display": null,
      "flex": null,
      "flex_flow": null,
      "grid_area": null,
      "grid_auto_columns": null,
      "grid_auto_flow": null,
      "grid_auto_rows": null,
      "grid_column": null,
      "grid_gap": null,
      "grid_row": null,
      "grid_template_areas": null,
      "grid_template_columns": null,
      "grid_template_rows": null,
      "height": null,
      "justify_content": null,
      "justify_items": null,
      "left": null,
      "margin": null,
      "max_height": null,
      "max_width": null,
      "min_height": null,
      "min_width": null,
      "object_fit": null,
      "object_position": null,
      "order": null,
      "overflow": null,
      "overflow_x": null,
      "overflow_y": null,
      "padding": null,
      "right": null,
      "top": null,
      "visibility": null,
      "width": null
     }
    },
    "ef6ab897a80848f188627a5aefd9440f": {
     "model_module": "@jupyter-widgets/controls",
     "model_name": "DescriptionStyleModel",
     "state": {
      "_model_module": "@jupyter-widgets/controls",
      "_model_module_version": "1.5.0",
      "_model_name": "DescriptionStyleModel",
      "_view_count": null,
      "_view_module": "@jupyter-widgets/base",
      "_view_module_version": "1.2.0",
      "_view_name": "StyleView",
      "description_width": ""
     }
    },
    "f1f753f696c745a2893cd9ae9d779294": {
     "model_module": "@jupyter-widgets/base",
     "model_name": "LayoutModel",
     "state": {
      "_model_module": "@jupyter-widgets/base",
      "_model_module_version": "1.2.0",
      "_model_name": "LayoutModel",
      "_view_count": null,
      "_view_module": "@jupyter-widgets/base",
      "_view_module_version": "1.2.0",
      "_view_name": "LayoutView",
      "align_content": null,
      "align_items": null,
      "align_self": null,
      "border": null,
      "bottom": null,
      "display": null,
      "flex": null,
      "flex_flow": null,
      "grid_area": null,
      "grid_auto_columns": null,
      "grid_auto_flow": null,
      "grid_auto_rows": null,
      "grid_column": null,
      "grid_gap": null,
      "grid_row": null,
      "grid_template_areas": null,
      "grid_template_columns": null,
      "grid_template_rows": null,
      "height": null,
      "justify_content": null,
      "justify_items": null,
      "left": null,
      "margin": null,
      "max_height": null,
      "max_width": null,
      "min_height": null,
      "min_width": null,
      "object_fit": null,
      "object_position": null,
      "order": null,
      "overflow": null,
      "overflow_x": null,
      "overflow_y": null,
      "padding": null,
      "right": null,
      "top": null,
      "visibility": null,
      "width": null
     }
    },
    "f90b1aab2e5f4d49b47c1fecc9a46bea": {
     "model_module": "@jupyter-widgets/controls",
     "model_name": "FloatProgressModel",
     "state": {
      "_dom_classes": [],
      "_model_module": "@jupyter-widgets/controls",
      "_model_module_version": "1.5.0",
      "_model_name": "FloatProgressModel",
      "_view_count": null,
      "_view_module": "@jupyter-widgets/controls",
      "_view_module_version": "1.5.0",
      "_view_name": "ProgressView",
      "bar_style": "danger",
      "description": " 99%",
      "description_tooltip": null,
      "layout": "IPY_MODEL_c821a9f4039b49bd9ca594566958ab4b",
      "max": 151,
      "min": 0,
      "orientation": "horizontal",
      "style": "IPY_MODEL_dc6fa1058e534d9a829fb01cc0ff66ae",
      "value": 150
     }
    },
    "fc87468a713c49498932f15f259d0e48": {
     "model_module": "@jupyter-widgets/base",
     "model_name": "LayoutModel",
     "state": {
      "_model_module": "@jupyter-widgets/base",
      "_model_module_version": "1.2.0",
      "_model_name": "LayoutModel",
      "_view_count": null,
      "_view_module": "@jupyter-widgets/base",
      "_view_module_version": "1.2.0",
      "_view_name": "LayoutView",
      "align_content": null,
      "align_items": null,
      "align_self": null,
      "border": null,
      "bottom": null,
      "display": null,
      "flex": null,
      "flex_flow": null,
      "grid_area": null,
      "grid_auto_columns": null,
      "grid_auto_flow": null,
      "grid_auto_rows": null,
      "grid_column": null,
      "grid_gap": null,
      "grid_row": null,
      "grid_template_areas": null,
      "grid_template_columns": null,
      "grid_template_rows": null,
      "height": null,
      "justify_content": null,
      "justify_items": null,
      "left": null,
      "margin": null,
      "max_height": null,
      "max_width": null,
      "min_height": null,
      "min_width": null,
      "object_fit": null,
      "object_position": null,
      "order": null,
      "overflow": null,
      "overflow_x": null,
      "overflow_y": null,
      "padding": null,
      "right": null,
      "top": null,
      "visibility": null,
      "width": null
     }
    },
    "ff49beba863647628909e032ad91d757": {
     "model_module": "@jupyter-widgets/base",
     "model_name": "LayoutModel",
     "state": {
      "_model_module": "@jupyter-widgets/base",
      "_model_module_version": "1.2.0",
      "_model_name": "LayoutModel",
      "_view_count": null,
      "_view_module": "@jupyter-widgets/base",
      "_view_module_version": "1.2.0",
      "_view_name": "LayoutView",
      "align_content": null,
      "align_items": null,
      "align_self": null,
      "border": null,
      "bottom": null,
      "display": null,
      "flex": null,
      "flex_flow": null,
      "grid_area": null,
      "grid_auto_columns": null,
      "grid_auto_flow": null,
      "grid_auto_rows": null,
      "grid_column": null,
      "grid_gap": null,
      "grid_row": null,
      "grid_template_areas": null,
      "grid_template_columns": null,
      "grid_template_rows": null,
      "height": null,
      "justify_content": null,
      "justify_items": null,
      "left": null,
      "margin": null,
      "max_height": null,
      "max_width": null,
      "min_height": null,
      "min_width": null,
      "object_fit": null,
      "object_position": null,
      "order": null,
      "overflow": null,
      "overflow_x": null,
      "overflow_y": null,
      "padding": null,
      "right": null,
      "top": null,
      "visibility": null,
      "width": null
     }
    },
    "ff4a70baf9b84759813cd5bfb46480ed": {
     "model_module": "@jupyter-widgets/controls",
     "model_name": "FloatProgressModel",
     "state": {
      "_dom_classes": [],
      "_model_module": "@jupyter-widgets/controls",
      "_model_module_version": "1.5.0",
      "_model_name": "FloatProgressModel",
      "_view_count": null,
      "_view_module": "@jupyter-widgets/controls",
      "_view_module_version": "1.5.0",
      "_view_name": "ProgressView",
      "bar_style": "danger",
      "description": "100%",
      "description_tooltip": null,
      "layout": "IPY_MODEL_f1f753f696c745a2893cd9ae9d779294",
      "max": 607,
      "min": 0,
      "orientation": "horizontal",
      "style": "IPY_MODEL_e8eba6e82dde4af7b0254d202f51c322",
      "value": 606
     }
    }
   }
  }
 },
 "nbformat": 4,
 "nbformat_minor": 1
}
