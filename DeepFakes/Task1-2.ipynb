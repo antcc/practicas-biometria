{
  "nbformat": 4,
  "nbformat_minor": 0,
  "metadata": {
    "colab": {
      "name": "Task1.ipynb",
      "provenance": [],
      "collapsed_sections": []
    },
    "kernelspec": {
      "name": "python3",
      "display_name": "Python 3"
    },
    "latex_envs": {
      "LaTeX_envs_menu_present": false,
      "autoclose": true,
      "autocomplete": false,
      "bibliofile": "bibliography.bib",
      "cite_by": "apalike",
      "current_citInitial": 1,
      "eqLabelWithNumbers": true,
      "eqNumInitial": 1,
      "hotkeys": {
        "equation": "Ctrl-E",
        "itemize": "Ctrl-I"
      },
      "labels_anchors": false,
      "latex_user_defs": false,
      "report_style_numbering": false,
      "user_envs_cfg": false
    },
    "toc": {
      "base_numbering": 1,
      "nav_menu": {},
      "number_sections": true,
      "sideBar": true,
      "skip_h1_title": false,
      "title_cell": "Table of Contents",
      "title_sidebar": "Contents",
      "toc_cell": false,
      "toc_position": {},
      "toc_section_display": true,
      "toc_window_display": false
    },
    "varInspector": {
      "cols": {
        "lenName": 16,
        "lenType": 16,
        "lenVar": 40
      },
      "kernels_config": {
        "python": {
          "delete_cmd_postfix": "",
          "delete_cmd_prefix": "del ",
          "library": "var_list.py",
          "varRefreshCmd": "print(var_dic_list())"
        },
        "r": {
          "delete_cmd_postfix": ") ",
          "delete_cmd_prefix": "rm(",
          "library": "var_list.r",
          "varRefreshCmd": "cat(var_dic_list()) "
        }
      },
      "types_to_exclude": [
        "module",
        "function",
        "builtin_function_or_method",
        "instance",
        "_Feature"
      ],
      "window_display": false
    },
    "language_info": {
      "name": "python"
    },
    "accelerator": "GPU",
    "widgets": {
      "application/vnd.jupyter.widget-state+json": {
        "1d52822fb47048f098afdc1469085f04": {
          "model_module": "@jupyter-widgets/controls",
          "model_name": "HBoxModel",
          "state": {
            "_view_name": "HBoxView",
            "_dom_classes": [],
            "_model_name": "HBoxModel",
            "_view_module": "@jupyter-widgets/controls",
            "_model_module_version": "1.5.0",
            "_view_count": null,
            "_view_module_version": "1.5.0",
            "box_style": "",
            "layout": "IPY_MODEL_9dc2c3daae4b400d94d365e1cff64b1b",
            "_model_module": "@jupyter-widgets/controls",
            "children": [
              "IPY_MODEL_ff4a70baf9b84759813cd5bfb46480ed",
              "IPY_MODEL_9d0967f244db4e1285bd4e8258aa0a35"
            ]
          }
        },
        "9dc2c3daae4b400d94d365e1cff64b1b": {
          "model_module": "@jupyter-widgets/base",
          "model_name": "LayoutModel",
          "state": {
            "_view_name": "LayoutView",
            "grid_template_rows": null,
            "right": null,
            "justify_content": null,
            "_view_module": "@jupyter-widgets/base",
            "overflow": null,
            "_model_module_version": "1.2.0",
            "_view_count": null,
            "flex_flow": null,
            "width": null,
            "min_width": null,
            "border": null,
            "align_items": null,
            "bottom": null,
            "_model_module": "@jupyter-widgets/base",
            "top": null,
            "grid_column": null,
            "overflow_y": null,
            "overflow_x": null,
            "grid_auto_flow": null,
            "grid_area": null,
            "grid_template_columns": null,
            "flex": null,
            "_model_name": "LayoutModel",
            "justify_items": null,
            "grid_row": null,
            "max_height": null,
            "align_content": null,
            "visibility": null,
            "align_self": null,
            "height": null,
            "min_height": null,
            "padding": null,
            "grid_auto_rows": null,
            "grid_gap": null,
            "max_width": null,
            "order": null,
            "_view_module_version": "1.2.0",
            "grid_template_areas": null,
            "object_position": null,
            "object_fit": null,
            "grid_auto_columns": null,
            "margin": null,
            "display": null,
            "left": null
          }
        },
        "ff4a70baf9b84759813cd5bfb46480ed": {
          "model_module": "@jupyter-widgets/controls",
          "model_name": "FloatProgressModel",
          "state": {
            "_view_name": "ProgressView",
            "style": "IPY_MODEL_e8eba6e82dde4af7b0254d202f51c322",
            "_dom_classes": [],
            "description": "100%",
            "_model_name": "FloatProgressModel",
            "bar_style": "danger",
            "max": 607,
            "_view_module": "@jupyter-widgets/controls",
            "_model_module_version": "1.5.0",
            "value": 606,
            "_view_count": null,
            "_view_module_version": "1.5.0",
            "orientation": "horizontal",
            "min": 0,
            "description_tooltip": null,
            "_model_module": "@jupyter-widgets/controls",
            "layout": "IPY_MODEL_f1f753f696c745a2893cd9ae9d779294"
          }
        },
        "9d0967f244db4e1285bd4e8258aa0a35": {
          "model_module": "@jupyter-widgets/controls",
          "model_name": "HTMLModel",
          "state": {
            "_view_name": "HTMLView",
            "style": "IPY_MODEL_827cfb18338f45cd89d6289048356a1c",
            "_dom_classes": [],
            "description": "",
            "_model_name": "HTMLModel",
            "placeholder": "​",
            "_view_module": "@jupyter-widgets/controls",
            "_model_module_version": "1.5.0",
            "value": " 606/607 [08:07&lt;00:00,  1.28it/s]",
            "_view_count": null,
            "_view_module_version": "1.5.0",
            "description_tooltip": null,
            "_model_module": "@jupyter-widgets/controls",
            "layout": "IPY_MODEL_5cb1d7a6e9ea48bbb11b29e86b7aa340"
          }
        },
        "e8eba6e82dde4af7b0254d202f51c322": {
          "model_module": "@jupyter-widgets/controls",
          "model_name": "ProgressStyleModel",
          "state": {
            "_view_name": "StyleView",
            "_model_name": "ProgressStyleModel",
            "description_width": "initial",
            "_view_module": "@jupyter-widgets/base",
            "_model_module_version": "1.5.0",
            "_view_count": null,
            "_view_module_version": "1.2.0",
            "bar_color": null,
            "_model_module": "@jupyter-widgets/controls"
          }
        },
        "f1f753f696c745a2893cd9ae9d779294": {
          "model_module": "@jupyter-widgets/base",
          "model_name": "LayoutModel",
          "state": {
            "_view_name": "LayoutView",
            "grid_template_rows": null,
            "right": null,
            "justify_content": null,
            "_view_module": "@jupyter-widgets/base",
            "overflow": null,
            "_model_module_version": "1.2.0",
            "_view_count": null,
            "flex_flow": null,
            "width": null,
            "min_width": null,
            "border": null,
            "align_items": null,
            "bottom": null,
            "_model_module": "@jupyter-widgets/base",
            "top": null,
            "grid_column": null,
            "overflow_y": null,
            "overflow_x": null,
            "grid_auto_flow": null,
            "grid_area": null,
            "grid_template_columns": null,
            "flex": null,
            "_model_name": "LayoutModel",
            "justify_items": null,
            "grid_row": null,
            "max_height": null,
            "align_content": null,
            "visibility": null,
            "align_self": null,
            "height": null,
            "min_height": null,
            "padding": null,
            "grid_auto_rows": null,
            "grid_gap": null,
            "max_width": null,
            "order": null,
            "_view_module_version": "1.2.0",
            "grid_template_areas": null,
            "object_position": null,
            "object_fit": null,
            "grid_auto_columns": null,
            "margin": null,
            "display": null,
            "left": null
          }
        },
        "827cfb18338f45cd89d6289048356a1c": {
          "model_module": "@jupyter-widgets/controls",
          "model_name": "DescriptionStyleModel",
          "state": {
            "_view_name": "StyleView",
            "_model_name": "DescriptionStyleModel",
            "description_width": "",
            "_view_module": "@jupyter-widgets/base",
            "_model_module_version": "1.5.0",
            "_view_count": null,
            "_view_module_version": "1.2.0",
            "_model_module": "@jupyter-widgets/controls"
          }
        },
        "5cb1d7a6e9ea48bbb11b29e86b7aa340": {
          "model_module": "@jupyter-widgets/base",
          "model_name": "LayoutModel",
          "state": {
            "_view_name": "LayoutView",
            "grid_template_rows": null,
            "right": null,
            "justify_content": null,
            "_view_module": "@jupyter-widgets/base",
            "overflow": null,
            "_model_module_version": "1.2.0",
            "_view_count": null,
            "flex_flow": null,
            "width": null,
            "min_width": null,
            "border": null,
            "align_items": null,
            "bottom": null,
            "_model_module": "@jupyter-widgets/base",
            "top": null,
            "grid_column": null,
            "overflow_y": null,
            "overflow_x": null,
            "grid_auto_flow": null,
            "grid_area": null,
            "grid_template_columns": null,
            "flex": null,
            "_model_name": "LayoutModel",
            "justify_items": null,
            "grid_row": null,
            "max_height": null,
            "align_content": null,
            "visibility": null,
            "align_self": null,
            "height": null,
            "min_height": null,
            "padding": null,
            "grid_auto_rows": null,
            "grid_gap": null,
            "max_width": null,
            "order": null,
            "_view_module_version": "1.2.0",
            "grid_template_areas": null,
            "object_position": null,
            "object_fit": null,
            "grid_auto_columns": null,
            "margin": null,
            "display": null,
            "left": null
          }
        },
        "b275d56439094851a67fe77d0d894805": {
          "model_module": "@jupyter-widgets/controls",
          "model_name": "HBoxModel",
          "state": {
            "_view_name": "HBoxView",
            "_dom_classes": [],
            "_model_name": "HBoxModel",
            "_view_module": "@jupyter-widgets/controls",
            "_model_module_version": "1.5.0",
            "_view_count": null,
            "_view_module_version": "1.5.0",
            "box_style": "",
            "layout": "IPY_MODEL_ed926dc06aa34badaacc6e21de48aee5",
            "_model_module": "@jupyter-widgets/controls",
            "children": [
              "IPY_MODEL_f90b1aab2e5f4d49b47c1fecc9a46bea",
              "IPY_MODEL_a8587377b8da4d26bc464ab4efb1dbce"
            ]
          }
        },
        "ed926dc06aa34badaacc6e21de48aee5": {
          "model_module": "@jupyter-widgets/base",
          "model_name": "LayoutModel",
          "state": {
            "_view_name": "LayoutView",
            "grid_template_rows": null,
            "right": null,
            "justify_content": null,
            "_view_module": "@jupyter-widgets/base",
            "overflow": null,
            "_model_module_version": "1.2.0",
            "_view_count": null,
            "flex_flow": null,
            "width": null,
            "min_width": null,
            "border": null,
            "align_items": null,
            "bottom": null,
            "_model_module": "@jupyter-widgets/base",
            "top": null,
            "grid_column": null,
            "overflow_y": null,
            "overflow_x": null,
            "grid_auto_flow": null,
            "grid_area": null,
            "grid_template_columns": null,
            "flex": null,
            "_model_name": "LayoutModel",
            "justify_items": null,
            "grid_row": null,
            "max_height": null,
            "align_content": null,
            "visibility": null,
            "align_self": null,
            "height": null,
            "min_height": null,
            "padding": null,
            "grid_auto_rows": null,
            "grid_gap": null,
            "max_width": null,
            "order": null,
            "_view_module_version": "1.2.0",
            "grid_template_areas": null,
            "object_position": null,
            "object_fit": null,
            "grid_auto_columns": null,
            "margin": null,
            "display": null,
            "left": null
          }
        },
        "f90b1aab2e5f4d49b47c1fecc9a46bea": {
          "model_module": "@jupyter-widgets/controls",
          "model_name": "FloatProgressModel",
          "state": {
            "_view_name": "ProgressView",
            "style": "IPY_MODEL_dc6fa1058e534d9a829fb01cc0ff66ae",
            "_dom_classes": [],
            "description": " 99%",
            "_model_name": "FloatProgressModel",
            "bar_style": "danger",
            "max": 151,
            "_view_module": "@jupyter-widgets/controls",
            "_model_module_version": "1.5.0",
            "value": 150,
            "_view_count": null,
            "_view_module_version": "1.5.0",
            "orientation": "horizontal",
            "min": 0,
            "description_tooltip": null,
            "_model_module": "@jupyter-widgets/controls",
            "layout": "IPY_MODEL_c821a9f4039b49bd9ca594566958ab4b"
          }
        },
        "a8587377b8da4d26bc464ab4efb1dbce": {
          "model_module": "@jupyter-widgets/controls",
          "model_name": "HTMLModel",
          "state": {
            "_view_name": "HTMLView",
            "style": "IPY_MODEL_68ca73a155e14cb28c7082c30c12ee77",
            "_dom_classes": [],
            "description": "",
            "_model_name": "HTMLModel",
            "placeholder": "​",
            "_view_module": "@jupyter-widgets/controls",
            "_model_module_version": "1.5.0",
            "value": " 150/151 [01:49&lt;00:00,  1.43it/s]",
            "_view_count": null,
            "_view_module_version": "1.5.0",
            "description_tooltip": null,
            "_model_module": "@jupyter-widgets/controls",
            "layout": "IPY_MODEL_ff49beba863647628909e032ad91d757"
          }
        },
        "dc6fa1058e534d9a829fb01cc0ff66ae": {
          "model_module": "@jupyter-widgets/controls",
          "model_name": "ProgressStyleModel",
          "state": {
            "_view_name": "StyleView",
            "_model_name": "ProgressStyleModel",
            "description_width": "initial",
            "_view_module": "@jupyter-widgets/base",
            "_model_module_version": "1.5.0",
            "_view_count": null,
            "_view_module_version": "1.2.0",
            "bar_color": null,
            "_model_module": "@jupyter-widgets/controls"
          }
        },
        "c821a9f4039b49bd9ca594566958ab4b": {
          "model_module": "@jupyter-widgets/base",
          "model_name": "LayoutModel",
          "state": {
            "_view_name": "LayoutView",
            "grid_template_rows": null,
            "right": null,
            "justify_content": null,
            "_view_module": "@jupyter-widgets/base",
            "overflow": null,
            "_model_module_version": "1.2.0",
            "_view_count": null,
            "flex_flow": null,
            "width": null,
            "min_width": null,
            "border": null,
            "align_items": null,
            "bottom": null,
            "_model_module": "@jupyter-widgets/base",
            "top": null,
            "grid_column": null,
            "overflow_y": null,
            "overflow_x": null,
            "grid_auto_flow": null,
            "grid_area": null,
            "grid_template_columns": null,
            "flex": null,
            "_model_name": "LayoutModel",
            "justify_items": null,
            "grid_row": null,
            "max_height": null,
            "align_content": null,
            "visibility": null,
            "align_self": null,
            "height": null,
            "min_height": null,
            "padding": null,
            "grid_auto_rows": null,
            "grid_gap": null,
            "max_width": null,
            "order": null,
            "_view_module_version": "1.2.0",
            "grid_template_areas": null,
            "object_position": null,
            "object_fit": null,
            "grid_auto_columns": null,
            "margin": null,
            "display": null,
            "left": null
          }
        },
        "68ca73a155e14cb28c7082c30c12ee77": {
          "model_module": "@jupyter-widgets/controls",
          "model_name": "DescriptionStyleModel",
          "state": {
            "_view_name": "StyleView",
            "_model_name": "DescriptionStyleModel",
            "description_width": "",
            "_view_module": "@jupyter-widgets/base",
            "_model_module_version": "1.5.0",
            "_view_count": null,
            "_view_module_version": "1.2.0",
            "_model_module": "@jupyter-widgets/controls"
          }
        },
        "ff49beba863647628909e032ad91d757": {
          "model_module": "@jupyter-widgets/base",
          "model_name": "LayoutModel",
          "state": {
            "_view_name": "LayoutView",
            "grid_template_rows": null,
            "right": null,
            "justify_content": null,
            "_view_module": "@jupyter-widgets/base",
            "overflow": null,
            "_model_module_version": "1.2.0",
            "_view_count": null,
            "flex_flow": null,
            "width": null,
            "min_width": null,
            "border": null,
            "align_items": null,
            "bottom": null,
            "_model_module": "@jupyter-widgets/base",
            "top": null,
            "grid_column": null,
            "overflow_y": null,
            "overflow_x": null,
            "grid_auto_flow": null,
            "grid_area": null,
            "grid_template_columns": null,
            "flex": null,
            "_model_name": "LayoutModel",
            "justify_items": null,
            "grid_row": null,
            "max_height": null,
            "align_content": null,
            "visibility": null,
            "align_self": null,
            "height": null,
            "min_height": null,
            "padding": null,
            "grid_auto_rows": null,
            "grid_gap": null,
            "max_width": null,
            "order": null,
            "_view_module_version": "1.2.0",
            "grid_template_areas": null,
            "object_position": null,
            "object_fit": null,
            "grid_auto_columns": null,
            "margin": null,
            "display": null,
            "left": null
          }
        },
        "2006d88d0ab24028ac794198e50c8f00": {
          "model_module": "@jupyter-widgets/controls",
          "model_name": "HBoxModel",
          "state": {
            "_view_name": "HBoxView",
            "_dom_classes": [],
            "_model_name": "HBoxModel",
            "_view_module": "@jupyter-widgets/controls",
            "_model_module_version": "1.5.0",
            "_view_count": null,
            "_view_module_version": "1.5.0",
            "box_style": "",
            "layout": "IPY_MODEL_3d5bcbf3caed45968a388d905c633f04",
            "_model_module": "@jupyter-widgets/controls",
            "children": [
              "IPY_MODEL_401a6493f05a44eda6a7617f35faa1f0",
              "IPY_MODEL_6396b135ab7242448feba28585a01b97"
            ]
          }
        },
        "3d5bcbf3caed45968a388d905c633f04": {
          "model_module": "@jupyter-widgets/base",
          "model_name": "LayoutModel",
          "state": {
            "_view_name": "LayoutView",
            "grid_template_rows": null,
            "right": null,
            "justify_content": null,
            "_view_module": "@jupyter-widgets/base",
            "overflow": null,
            "_model_module_version": "1.2.0",
            "_view_count": null,
            "flex_flow": null,
            "width": null,
            "min_width": null,
            "border": null,
            "align_items": null,
            "bottom": null,
            "_model_module": "@jupyter-widgets/base",
            "top": null,
            "grid_column": null,
            "overflow_y": null,
            "overflow_x": null,
            "grid_auto_flow": null,
            "grid_area": null,
            "grid_template_columns": null,
            "flex": null,
            "_model_name": "LayoutModel",
            "justify_items": null,
            "grid_row": null,
            "max_height": null,
            "align_content": null,
            "visibility": null,
            "align_self": null,
            "height": null,
            "min_height": null,
            "padding": null,
            "grid_auto_rows": null,
            "grid_gap": null,
            "max_width": null,
            "order": null,
            "_view_module_version": "1.2.0",
            "grid_template_areas": null,
            "object_position": null,
            "object_fit": null,
            "grid_auto_columns": null,
            "margin": null,
            "display": null,
            "left": null
          }
        },
        "401a6493f05a44eda6a7617f35faa1f0": {
          "model_module": "@jupyter-widgets/controls",
          "model_name": "FloatProgressModel",
          "state": {
            "_view_name": "ProgressView",
            "style": "IPY_MODEL_ea9a7448d57f43d6a8f6e651c5428d03",
            "_dom_classes": [],
            "description": "100%",
            "_model_name": "FloatProgressModel",
            "bar_style": "danger",
            "max": 210,
            "_view_module": "@jupyter-widgets/controls",
            "_model_module_version": "1.5.0",
            "value": 209,
            "_view_count": null,
            "_view_module_version": "1.5.0",
            "orientation": "horizontal",
            "min": 0,
            "description_tooltip": null,
            "_model_module": "@jupyter-widgets/controls",
            "layout": "IPY_MODEL_8896dcec6aaa491cb91683410a7614d6"
          }
        },
        "6396b135ab7242448feba28585a01b97": {
          "model_module": "@jupyter-widgets/controls",
          "model_name": "HTMLModel",
          "state": {
            "_view_name": "HTMLView",
            "style": "IPY_MODEL_8cf495034c9d49388154caf2a0ab4fcd",
            "_dom_classes": [],
            "description": "",
            "_model_name": "HTMLModel",
            "placeholder": "​",
            "_view_module": "@jupyter-widgets/controls",
            "_model_module_version": "1.5.0",
            "value": " 209/210 [02:28&lt;00:00,  1.50it/s]",
            "_view_count": null,
            "_view_module_version": "1.5.0",
            "description_tooltip": null,
            "_model_module": "@jupyter-widgets/controls",
            "layout": "IPY_MODEL_33d01d8f391248f2ac935b9b16c44a46"
          }
        },
        "ea9a7448d57f43d6a8f6e651c5428d03": {
          "model_module": "@jupyter-widgets/controls",
          "model_name": "ProgressStyleModel",
          "state": {
            "_view_name": "StyleView",
            "_model_name": "ProgressStyleModel",
            "description_width": "initial",
            "_view_module": "@jupyter-widgets/base",
            "_model_module_version": "1.5.0",
            "_view_count": null,
            "_view_module_version": "1.2.0",
            "bar_color": null,
            "_model_module": "@jupyter-widgets/controls"
          }
        },
        "8896dcec6aaa491cb91683410a7614d6": {
          "model_module": "@jupyter-widgets/base",
          "model_name": "LayoutModel",
          "state": {
            "_view_name": "LayoutView",
            "grid_template_rows": null,
            "right": null,
            "justify_content": null,
            "_view_module": "@jupyter-widgets/base",
            "overflow": null,
            "_model_module_version": "1.2.0",
            "_view_count": null,
            "flex_flow": null,
            "width": null,
            "min_width": null,
            "border": null,
            "align_items": null,
            "bottom": null,
            "_model_module": "@jupyter-widgets/base",
            "top": null,
            "grid_column": null,
            "overflow_y": null,
            "overflow_x": null,
            "grid_auto_flow": null,
            "grid_area": null,
            "grid_template_columns": null,
            "flex": null,
            "_model_name": "LayoutModel",
            "justify_items": null,
            "grid_row": null,
            "max_height": null,
            "align_content": null,
            "visibility": null,
            "align_self": null,
            "height": null,
            "min_height": null,
            "padding": null,
            "grid_auto_rows": null,
            "grid_gap": null,
            "max_width": null,
            "order": null,
            "_view_module_version": "1.2.0",
            "grid_template_areas": null,
            "object_position": null,
            "object_fit": null,
            "grid_auto_columns": null,
            "margin": null,
            "display": null,
            "left": null
          }
        },
        "8cf495034c9d49388154caf2a0ab4fcd": {
          "model_module": "@jupyter-widgets/controls",
          "model_name": "DescriptionStyleModel",
          "state": {
            "_view_name": "StyleView",
            "_model_name": "DescriptionStyleModel",
            "description_width": "",
            "_view_module": "@jupyter-widgets/base",
            "_model_module_version": "1.5.0",
            "_view_count": null,
            "_view_module_version": "1.2.0",
            "_model_module": "@jupyter-widgets/controls"
          }
        },
        "33d01d8f391248f2ac935b9b16c44a46": {
          "model_module": "@jupyter-widgets/base",
          "model_name": "LayoutModel",
          "state": {
            "_view_name": "LayoutView",
            "grid_template_rows": null,
            "right": null,
            "justify_content": null,
            "_view_module": "@jupyter-widgets/base",
            "overflow": null,
            "_model_module_version": "1.2.0",
            "_view_count": null,
            "flex_flow": null,
            "width": null,
            "min_width": null,
            "border": null,
            "align_items": null,
            "bottom": null,
            "_model_module": "@jupyter-widgets/base",
            "top": null,
            "grid_column": null,
            "overflow_y": null,
            "overflow_x": null,
            "grid_auto_flow": null,
            "grid_area": null,
            "grid_template_columns": null,
            "flex": null,
            "_model_name": "LayoutModel",
            "justify_items": null,
            "grid_row": null,
            "max_height": null,
            "align_content": null,
            "visibility": null,
            "align_self": null,
            "height": null,
            "min_height": null,
            "padding": null,
            "grid_auto_rows": null,
            "grid_gap": null,
            "max_width": null,
            "order": null,
            "_view_module_version": "1.2.0",
            "grid_template_areas": null,
            "object_position": null,
            "object_fit": null,
            "grid_auto_columns": null,
            "margin": null,
            "display": null,
            "left": null
          }
        },
        "84808eaf36654123810d780ef410aefa": {
          "model_module": "@jupyter-widgets/controls",
          "model_name": "HBoxModel",
          "state": {
            "_view_name": "HBoxView",
            "_dom_classes": [],
            "_model_name": "HBoxModel",
            "_view_module": "@jupyter-widgets/controls",
            "_model_module_version": "1.5.0",
            "_view_count": null,
            "_view_module_version": "1.5.0",
            "box_style": "",
            "layout": "IPY_MODEL_60120ce7bcad41a2bea491b3331ed835",
            "_model_module": "@jupyter-widgets/controls",
            "children": [
              "IPY_MODEL_b8ba7b3ab0bc4079872f0a6ba8d74269",
              "IPY_MODEL_eb6f7a66baf14a3cb1f04e57bfaf7490"
            ]
          }
        },
        "60120ce7bcad41a2bea491b3331ed835": {
          "model_module": "@jupyter-widgets/base",
          "model_name": "LayoutModel",
          "state": {
            "_view_name": "LayoutView",
            "grid_template_rows": null,
            "right": null,
            "justify_content": null,
            "_view_module": "@jupyter-widgets/base",
            "overflow": null,
            "_model_module_version": "1.2.0",
            "_view_count": null,
            "flex_flow": null,
            "width": null,
            "min_width": null,
            "border": null,
            "align_items": null,
            "bottom": null,
            "_model_module": "@jupyter-widgets/base",
            "top": null,
            "grid_column": null,
            "overflow_y": null,
            "overflow_x": null,
            "grid_auto_flow": null,
            "grid_area": null,
            "grid_template_columns": null,
            "flex": null,
            "_model_name": "LayoutModel",
            "justify_items": null,
            "grid_row": null,
            "max_height": null,
            "align_content": null,
            "visibility": null,
            "align_self": null,
            "height": null,
            "min_height": null,
            "padding": null,
            "grid_auto_rows": null,
            "grid_gap": null,
            "max_width": null,
            "order": null,
            "_view_module_version": "1.2.0",
            "grid_template_areas": null,
            "object_position": null,
            "object_fit": null,
            "grid_auto_columns": null,
            "margin": null,
            "display": null,
            "left": null
          }
        },
        "b8ba7b3ab0bc4079872f0a6ba8d74269": {
          "model_module": "@jupyter-widgets/controls",
          "model_name": "FloatProgressModel",
          "state": {
            "_view_name": "ProgressView",
            "style": "IPY_MODEL_ebad4389a8ce4b87bfc4ebcffa3df943",
            "_dom_classes": [],
            "description": "100%",
            "_model_name": "FloatProgressModel",
            "bar_style": "danger",
            "max": 600,
            "_view_module": "@jupyter-widgets/controls",
            "_model_module_version": "1.5.0",
            "value": 599,
            "_view_count": null,
            "_view_module_version": "1.5.0",
            "orientation": "horizontal",
            "min": 0,
            "description_tooltip": null,
            "_model_module": "@jupyter-widgets/controls",
            "layout": "IPY_MODEL_131b6617c95443bb9b4c427c0a39193f"
          }
        },
        "eb6f7a66baf14a3cb1f04e57bfaf7490": {
          "model_module": "@jupyter-widgets/controls",
          "model_name": "HTMLModel",
          "state": {
            "_view_name": "HTMLView",
            "style": "IPY_MODEL_ef6ab897a80848f188627a5aefd9440f",
            "_dom_classes": [],
            "description": "",
            "_model_name": "HTMLModel",
            "placeholder": "​",
            "_view_module": "@jupyter-widgets/controls",
            "_model_module_version": "1.5.0",
            "value": " 599/600 [06:07&lt;00:00,  1.65it/s]",
            "_view_count": null,
            "_view_module_version": "1.5.0",
            "description_tooltip": null,
            "_model_module": "@jupyter-widgets/controls",
            "layout": "IPY_MODEL_fc87468a713c49498932f15f259d0e48"
          }
        },
        "ebad4389a8ce4b87bfc4ebcffa3df943": {
          "model_module": "@jupyter-widgets/controls",
          "model_name": "ProgressStyleModel",
          "state": {
            "_view_name": "StyleView",
            "_model_name": "ProgressStyleModel",
            "description_width": "initial",
            "_view_module": "@jupyter-widgets/base",
            "_model_module_version": "1.5.0",
            "_view_count": null,
            "_view_module_version": "1.2.0",
            "bar_color": null,
            "_model_module": "@jupyter-widgets/controls"
          }
        },
        "131b6617c95443bb9b4c427c0a39193f": {
          "model_module": "@jupyter-widgets/base",
          "model_name": "LayoutModel",
          "state": {
            "_view_name": "LayoutView",
            "grid_template_rows": null,
            "right": null,
            "justify_content": null,
            "_view_module": "@jupyter-widgets/base",
            "overflow": null,
            "_model_module_version": "1.2.0",
            "_view_count": null,
            "flex_flow": null,
            "width": null,
            "min_width": null,
            "border": null,
            "align_items": null,
            "bottom": null,
            "_model_module": "@jupyter-widgets/base",
            "top": null,
            "grid_column": null,
            "overflow_y": null,
            "overflow_x": null,
            "grid_auto_flow": null,
            "grid_area": null,
            "grid_template_columns": null,
            "flex": null,
            "_model_name": "LayoutModel",
            "justify_items": null,
            "grid_row": null,
            "max_height": null,
            "align_content": null,
            "visibility": null,
            "align_self": null,
            "height": null,
            "min_height": null,
            "padding": null,
            "grid_auto_rows": null,
            "grid_gap": null,
            "max_width": null,
            "order": null,
            "_view_module_version": "1.2.0",
            "grid_template_areas": null,
            "object_position": null,
            "object_fit": null,
            "grid_auto_columns": null,
            "margin": null,
            "display": null,
            "left": null
          }
        },
        "ef6ab897a80848f188627a5aefd9440f": {
          "model_module": "@jupyter-widgets/controls",
          "model_name": "DescriptionStyleModel",
          "state": {
            "_view_name": "StyleView",
            "_model_name": "DescriptionStyleModel",
            "description_width": "",
            "_view_module": "@jupyter-widgets/base",
            "_model_module_version": "1.5.0",
            "_view_count": null,
            "_view_module_version": "1.2.0",
            "_model_module": "@jupyter-widgets/controls"
          }
        },
        "fc87468a713c49498932f15f259d0e48": {
          "model_module": "@jupyter-widgets/base",
          "model_name": "LayoutModel",
          "state": {
            "_view_name": "LayoutView",
            "grid_template_rows": null,
            "right": null,
            "justify_content": null,
            "_view_module": "@jupyter-widgets/base",
            "overflow": null,
            "_model_module_version": "1.2.0",
            "_view_count": null,
            "flex_flow": null,
            "width": null,
            "min_width": null,
            "border": null,
            "align_items": null,
            "bottom": null,
            "_model_module": "@jupyter-widgets/base",
            "top": null,
            "grid_column": null,
            "overflow_y": null,
            "overflow_x": null,
            "grid_auto_flow": null,
            "grid_area": null,
            "grid_template_columns": null,
            "flex": null,
            "_model_name": "LayoutModel",
            "justify_items": null,
            "grid_row": null,
            "max_height": null,
            "align_content": null,
            "visibility": null,
            "align_self": null,
            "height": null,
            "min_height": null,
            "padding": null,
            "grid_auto_rows": null,
            "grid_gap": null,
            "max_width": null,
            "order": null,
            "_view_module_version": "1.2.0",
            "grid_template_areas": null,
            "object_position": null,
            "object_fit": null,
            "grid_auto_columns": null,
            "margin": null,
            "display": null,
            "left": null
          }
        }
      }
    }
  },
  "cells": [
    {
      "cell_type": "markdown",
      "metadata": {
        "id": "nEVXPlDt5JYC"
      },
      "source": [
        "# Workflow"
      ]
    },
    {
      "cell_type": "code",
      "metadata": {
        "deletable": false,
        "editable": false,
        "run_control": {
          "frozen": true
        },
        "id": "xeyZGmUE5JYL"
      },
      "source": [
        "# Directorio de trabajo\n",
        "import sys\n",
        "import os\n",
        "from google.colab import drive\n",
        "drive.mount(\"/content/drive\", force_remount = True)\n",
        "DIR = \"/content/drive/My Drive/bio/\"\n",
        "\n",
        "%cd \"$DIR\"\n",
        "%pip install mtcnn"
      ],
      "execution_count": null,
      "outputs": []
    },
    {
      "cell_type": "code",
      "metadata": {
        "ExecuteTime": {
          "end_time": "2021-03-19T18:59:53.297864Z",
          "start_time": "2021-03-19T18:59:53.211310Z"
        },
        "id": "GiadkRNUXxzK"
      },
      "source": [
        "import matplotlib.pyplot as plt\n",
        "import numpy as np\n",
        "import cv2\n",
        "from mtcnn import MTCNN\n",
        "import time\n",
        "import dlib\n",
        "from tqdm.notebook import tqdm\n",
        "import tensorflow as tf\n",
        "from tensorflow.keras.preprocessing.image import ImageDataGenerator\n",
        "from sklearn.metrics import plot_roc_curve\n",
        "\n",
        "from warnings import simplefilter\n",
        "from sklearn.exceptions import ConvergenceWarning\n",
        "\n",
        "%matplotlib inline\n",
        "%load_ext autoreload\n",
        "%autoreload 2\n",
        "\n",
        "seed = 2021\n",
        "rng = np.random.default_rng(seed=seed)\n",
        "simplefilter(\"ignore\", category=ConvergenceWarning)"
      ],
      "execution_count": 2,
      "outputs": []
    },
    {
      "cell_type": "code",
      "metadata": {
        "id": "9uxG-fU9m4h-",
        "colab": {
          "base_uri": "https://localhost:8080/"
        },
        "outputId": "9ccfe2b7-0bab-409c-e26e-7339178eddf6"
      },
      "source": [
        "device_name = tf.test.gpu_device_name()\n",
        "if device_name != '/device:GPU:0':\n",
        "  raise SystemError('GPU device not found')\n",
        "print('Found GPU at: {}'.format(device_name))\n",
        "tf.device('/device:GPU:0')"
      ],
      "execution_count": 3,
      "outputs": [
        {
          "output_type": "stream",
          "text": [
            "Found GPU at: /device:GPU:0\n"
          ],
          "name": "stdout"
        },
        {
          "output_type": "execute_result",
          "data": {
            "text/plain": [
              "<tensorflow.python.eager.context._EagerDeviceContext at 0x7f782cd375f0>"
            ]
          },
          "metadata": {
            "tags": []
          },
          "execution_count": 3
        }
      ]
    },
    {
      "cell_type": "code",
      "metadata": {
        "ExecuteTime": {
          "end_time": "2021-03-19T19:00:05.561985Z",
          "start_time": "2021-03-19T19:00:05.475265Z"
        },
        "id": "mLCwo9WZiYL1"
      },
      "source": [
        "train_dir = 'UADFV/development/'\n",
        "test_dir = 'UADFV/evaluation/'\n",
        "target_size = (768, 768)"
      ],
      "execution_count": 4,
      "outputs": []
    },
    {
      "cell_type": "code",
      "metadata": {
        "ExecuteTime": {
          "end_time": "2021-03-19T19:03:47.001821Z",
          "start_time": "2021-03-19T19:03:46.896580Z"
        },
        "colab": {
          "base_uri": "https://localhost:8080/"
        },
        "id": "4sMAp_kJhrxE",
        "outputId": "e9f68a83-5a30-480e-cb8d-9aec7c24a354"
      },
      "source": [
        "train_datagen = ImageDataGenerator(\n",
        "    validation_split=0.2\n",
        ")\n",
        "\n",
        "val_datagen = ImageDataGenerator(\n",
        "    validation_split=0.2\n",
        ")\n",
        "\n",
        "test_datagen = ImageDataGenerator()\n",
        "\n",
        "train_data = train_datagen.flow_from_directory(\n",
        "    directory=train_dir,\n",
        "    class_mode='binary',\n",
        "    batch_size=1,\n",
        "    seed=seed,\n",
        "    target_size=target_size,\n",
        "    subset=\"training\"\n",
        ")\n",
        "\n",
        "val_data = val_datagen.flow_from_directory(\n",
        "    directory=train_dir,\n",
        "    class_mode='binary',\n",
        "    batch_size=1,\n",
        "    seed=seed,\n",
        "    target_size=target_size,\n",
        "    subset=\"validation\"\n",
        ")\n",
        "\n",
        "test_data = test_datagen.flow_from_directory(\n",
        "    directory=test_dir,\n",
        "    class_mode='binary',\n",
        "    batch_size=1,\n",
        "    seed=seed,\n",
        "    target_size=target_size,\n",
        ")\n",
        "\n",
        "num_train = train_data.samples\n",
        "num_val = val_data.samples\n",
        "num_test = test_data.samples"
      ],
      "execution_count": 5,
      "outputs": [
        {
          "output_type": "stream",
          "text": [
            "Found 607 images belonging to 2 classes.\n",
            "Found 151 images belonging to 2 classes.\n",
            "Found 210 images belonging to 2 classes.\n"
          ],
          "name": "stdout"
        }
      ]
    },
    {
      "cell_type": "code",
      "metadata": {
        "ExecuteTime": {
          "end_time": "2021-03-19T19:03:46.172830Z",
          "start_time": "2021-03-19T19:03:45.319952Z"
        },
        "id": "7Cov0SF25JYV"
      },
      "source": [
        "face_detector = MTCNN()\n",
        "sp68 = dlib.shape_predictor('models/shape_predictor_68_face_landmarks.dat')"
      ],
      "execution_count": 6,
      "outputs": []
    },
    {
      "cell_type": "code",
      "metadata": {
        "ExecuteTime": {
          "end_time": "2021-03-19T19:03:55.673614Z",
          "start_time": "2021-03-19T19:03:55.599023Z"
        },
        "id": "z_-Z6qZ85JYW"
      },
      "source": [
        "def preprocess(im, sigma):\n",
        "    if rng.random() < 0.5:\n",
        "        kernel_size = rng.choice([1, 3, 5, 7])\n",
        "        im_noise = cv2.GaussianBlur(im, (kernel_size, kernel_size), 0)\n",
        "    else:\n",
        "        std = sigma*rng.random()\n",
        "        noise = rng.normal(0, std, im.shape[:2])\n",
        "        im_noise = im + np.tile(noise[:, :, None], (1, 1, 3))\n",
        "    \n",
        "    return im_noise\n",
        "\n",
        "\n",
        "def shape_to_np(shape):\n",
        "    number_of_points = shape.num_parts\n",
        "    points = np.zeros((number_of_points, 2), dtype=np.int32)\n",
        "\n",
        "    for i in range(number_of_points):\n",
        "        points[i] = [shape.part(i).x, shape.part(i).y]\n",
        "\n",
        "    return points\n",
        "\n",
        "\n",
        "def get_crops_landmarks(im, sigma, blur, verbose):\n",
        "    \"\"\"\n",
        "    Detects faces and landmarks in image, crops image to face region.\n",
        "    We assume there is only one face on each dataset.\n",
        "    \"\"\"\n",
        "    img = im.reshape(*im.shape[1:]).astype('uint8')\n",
        "\n",
        "    dets = face_detector.detect_faces(img)\n",
        "    num_faces = len(dets)\n",
        "\n",
        "    if num_faces == 0:\n",
        "        if verbose:\n",
        "            print(\"[features] No face detected\")\n",
        "            plt.imshow(img)\n",
        "            plt.show()\n",
        "        return None, None\n",
        "\n",
        "    # Only one face\n",
        "    x1, y1, width, height = dets[0]['box']\n",
        "    x1, y1 = abs(x1), abs(y1)\n",
        "    x2, y2 = x1 + width, y1 + height\n",
        "    face = dlib.rectangle(x1, y1, x2, y2)\n",
        "\n",
        "    # Add noise\n",
        "    if blur:\n",
        "        img_prec = preprocess(img, sigma=sigma).astype('uint8')\n",
        "    else:\n",
        "        img_prec= img\n",
        "\n",
        "    # detect landmarks and transform to np array\n",
        "    landmarks = shape_to_np(sp68(img_prec, face))\n",
        "    gray = cv2.cvtColor(img_prec, cv2.COLOR_RGB2GRAY)\n",
        "    face_landmarks = gray[landmarks[:, 1], landmarks[:, 0]]\n",
        "\n",
        "    # Plot images\n",
        "    \"\"\"cv2.rectangle(img, (x1, y1), (x2, y2), (0, 255, 0), 2)\n",
        "    for (sX, sY) in landmarks:\n",
        "\t    cv2.circle(img, (sX, sY), 1, (0, 0, 255), 2)\n",
        "    plt.imshow(img)\n",
        "    plt.show()\"\"\"\n",
        "\n",
        "    # normalize landmarks\n",
        "    landmarks = landmarks.astype(np.float64)\n",
        "    landmarks[:, 0] -= landmarks[:, 0].mean()\n",
        "    landmarks[:, 1] -= landmarks[:, 1].mean()\n",
        "\n",
        "    return landmarks, face_landmarks\n",
        "\n",
        "\n",
        "def extract_features(\n",
        "    data_flow, \n",
        "    num_images, \n",
        "    sigma=3,\n",
        "    blur=False,\n",
        "    verbose=0,\n",
        "    skip=True\n",
        "):\n",
        "    X = np.zeros((num_images, 68*3))  # 68 landmarks\n",
        "    y = np.zeros(num_images,)\n",
        "\n",
        "    i = 0\n",
        "    for im, label in tqdm(data_flow):\n",
        "        landmarks, face_landmarks = \\\n",
        "            get_crops_landmarks(\n",
        "                im, sigma=sigma, \n",
        "                blur=blur, verbose=verbose)\n",
        "\n",
        "        if landmarks is None:\n",
        "            if skip:\n",
        "                continue  # skip sample \n",
        "            else:\n",
        "                if i > 0:\n",
        "                    prev_labels = y[:i] == label\n",
        "                    if np.sum(prev_labels) > 0:\n",
        "                        sz = prev_labels.size\n",
        "                        impute = sz - 1 - np.argmax(prev_labels[::-1])\n",
        "                        X[i] = X[impute]\n",
        "                y[i] = label\n",
        "                \n",
        "        else:\n",
        "            X[i] = np.concatenate((landmarks.flatten(),\n",
        "                                   face_landmarks.flatten()))\n",
        "            y[i] = label\n",
        "\n",
        "        i += 1\n",
        "        if i >= num_images:\n",
        "            break\n",
        "\n",
        "    if skip:\n",
        "        detected = X.sum(axis=1) > 0\n",
        "        X = X[detected]\n",
        "        y = y[detected]\n",
        "        \n",
        "    return X, y"
      ],
      "execution_count": 7,
      "outputs": []
    },
    {
      "cell_type": "code",
      "metadata": {
        "ExecuteTime": {
          "end_time": "2021-03-19T19:04:24.363849Z",
          "start_time": "2021-03-19T19:03:56.784192Z"
        },
        "colab": {
          "base_uri": "https://localhost:8080/",
          "height": 165,
          "referenced_widgets": [
            "1d52822fb47048f098afdc1469085f04",
            "9dc2c3daae4b400d94d365e1cff64b1b",
            "ff4a70baf9b84759813cd5bfb46480ed",
            "9d0967f244db4e1285bd4e8258aa0a35",
            "e8eba6e82dde4af7b0254d202f51c322",
            "f1f753f696c745a2893cd9ae9d779294",
            "827cfb18338f45cd89d6289048356a1c",
            "5cb1d7a6e9ea48bbb11b29e86b7aa340",
            "b275d56439094851a67fe77d0d894805",
            "ed926dc06aa34badaacc6e21de48aee5",
            "f90b1aab2e5f4d49b47c1fecc9a46bea",
            "a8587377b8da4d26bc464ab4efb1dbce",
            "dc6fa1058e534d9a829fb01cc0ff66ae",
            "c821a9f4039b49bd9ca594566958ab4b",
            "68ca73a155e14cb28c7082c30c12ee77",
            "ff49beba863647628909e032ad91d757",
            "2006d88d0ab24028ac794198e50c8f00",
            "3d5bcbf3caed45968a388d905c633f04",
            "401a6493f05a44eda6a7617f35faa1f0",
            "6396b135ab7242448feba28585a01b97",
            "ea9a7448d57f43d6a8f6e651c5428d03",
            "8896dcec6aaa491cb91683410a7614d6",
            "8cf495034c9d49388154caf2a0ab4fcd",
            "33d01d8f391248f2ac935b9b16c44a46"
          ]
        },
        "id": "LnZm54I75JYX",
        "outputId": "c4cfd5a0-f522-46ad-9b38-4f46cbc9c5d0"
      },
      "source": [
        "X_train, y_train = extract_features(train_data, num_train, blur=True)\n",
        "print(\"X_train:\", X_train.shape)\n",
        "X_val, y_val = extract_features(val_data, num_val)\n",
        "print(\"X_val:\", X_val.shape)\n",
        "X_test, y_test = extract_features(test_data, num_test, skip=False)\n",
        "print(\"X_test:\", X_test.shape)"
      ],
      "execution_count": 8,
      "outputs": [
        {
          "output_type": "display_data",
          "data": {
            "application/vnd.jupyter.widget-view+json": {
              "model_id": "1d52822fb47048f098afdc1469085f04",
              "version_minor": 0,
              "version_major": 2
            },
            "text/plain": [
              "HBox(children=(FloatProgress(value=0.0, max=607.0), HTML(value='')))"
            ]
          },
          "metadata": {
            "tags": []
          }
        },
        {
          "output_type": "stream",
          "text": [
            "X_train: (607, 204)\n"
          ],
          "name": "stdout"
        },
        {
          "output_type": "display_data",
          "data": {
            "application/vnd.jupyter.widget-view+json": {
              "model_id": "b275d56439094851a67fe77d0d894805",
              "version_minor": 0,
              "version_major": 2
            },
            "text/plain": [
              "HBox(children=(FloatProgress(value=0.0, max=151.0), HTML(value='')))"
            ]
          },
          "metadata": {
            "tags": []
          }
        },
        {
          "output_type": "stream",
          "text": [
            "X_val: (151, 204)\n"
          ],
          "name": "stdout"
        },
        {
          "output_type": "display_data",
          "data": {
            "application/vnd.jupyter.widget-view+json": {
              "model_id": "2006d88d0ab24028ac794198e50c8f00",
              "version_minor": 0,
              "version_major": 2
            },
            "text/plain": [
              "HBox(children=(FloatProgress(value=0.0, max=210.0), HTML(value='')))"
            ]
          },
          "metadata": {
            "tags": []
          }
        },
        {
          "output_type": "stream",
          "text": [
            "X_test: (210, 204)\n"
          ],
          "name": "stdout"
        }
      ]
    },
    {
      "cell_type": "code",
      "metadata": {
        "ExecuteTime": {
          "end_time": "2021-03-19T18:39:17.611185Z",
          "start_time": "2021-03-19T18:39:17.571810Z"
        },
        "deletable": false,
        "editable": false,
        "run_control": {
          "frozen": true
        },
        "id": "K_7YUY_s5JYY"
      },
      "source": [
        "np.savez(\n",
        "    'data1', \n",
        "    X_train=X_train, \n",
        "    y_train=y_train,\n",
        "    X_val=X_val, \n",
        "    y_val=y_val,\n",
        "    X_test=X_test, \n",
        "    y_test=y_test\n",
        ")"
      ],
      "execution_count": 9,
      "outputs": []
    },
    {
      "cell_type": "code",
      "metadata": {
        "ExecuteTime": {
          "end_time": "2021-03-19T16:12:25.589100Z",
          "start_time": "2021-03-19T16:12:25.527552Z"
        },
        "deletable": false,
        "editable": false,
        "run_control": {
          "frozen": true
        },
        "id": "jcqf9DuT5JYY"
      },
      "source": [
        "data1 = np.load('data1.npz')\n",
        "X_train, y_train = data1['X_train'], data1['y_train']\n",
        "X_val, y_val = data1['X_val'], data1['y_val']\n",
        "X_test, y_test = data1['X_test'], data1['y_test']"
      ],
      "execution_count": null,
      "outputs": []
    },
    {
      "cell_type": "code",
      "metadata": {
        "ExecuteTime": {
          "end_time": "2021-03-19T18:39:18.019955Z",
          "start_time": "2021-03-19T18:39:17.922587Z"
        },
        "id": "0KtZfTic5JYa"
      },
      "source": [
        "from sklearn.svm import SVC, LinearSVC\n",
        "from sklearn.preprocessing import StandardScaler\n",
        "from sklearn.pipeline import Pipeline\n",
        "from sklearn.linear_model import LogisticRegression\n",
        "from sklearn.model_selection import GridSearchCV, PredefinedSplit\n",
        "from sklearn.neural_network import MLPClassifier\n",
        "from sklearn.decomposition import PCA\n",
        "from sklearn.kernel_approximation import RBFSampler\n",
        "\n",
        "# Models\n",
        "models = [\n",
        "    # SVC + RBF\n",
        "    (Pipeline([\n",
        "        ('standardize', StandardScaler()),\n",
        "        ('trf', None),\n",
        "        ('clf', SVC(kernel='rbf', random_state=seed))]),\n",
        "     \"SVC\"),\n",
        "    # SVC linear\n",
        "    (Pipeline([\n",
        "        ('standardize', StandardScaler()),\n",
        "        ('trf', None),\n",
        "        ('clf', LinearSVC(dual=False, random_state=seed))]),\n",
        "     \"L-SVC\"),\n",
        "    # MLP\n",
        "    (Pipeline([\n",
        "        ('standardize', StandardScaler()),\n",
        "        ('trf', None),\n",
        "        ('clf', MLPClassifier(max_iter=1000,\n",
        "                              solver='lbfgs',\n",
        "                              random_state=seed))]),\n",
        "     \"MLP\"),\n",
        "    # Logistic Regression\n",
        "    (Pipeline([\n",
        "        ('standardize', StandardScaler()),\n",
        "        ('trf', None),\n",
        "        ('clf', LogisticRegression(max_iter=500,\n",
        "                                   random_state=seed))]),\n",
        "     \"LR\")\n",
        "]\n",
        "\n",
        "params_lst = [\n",
        "    # SVC + RBF\n",
        "    [\n",
        "        # No transformation\n",
        "        {\n",
        "            \"clf__gamma\": np.logspace(-6, 0, 15),\n",
        "            \"clf__C\": np.logspace(-2, 2, 15)\n",
        "        },\n",
        "        # PCA\n",
        "        {\n",
        "            \"clf__gamma\": np.logspace(-6, 0, 15),\n",
        "            \"clf__C\": np.logspace(-2, 2, 15),\n",
        "            \"trf\": [PCA()],\n",
        "            \"trf__n_components\": [0.9, 0.95, 0.99],\n",
        "        },\n",
        "    ],\n",
        "    # SVM Linear\n",
        "    [\n",
        "        # No transformation\n",
        "        {\n",
        "            \"clf__C\": np.logspace(-3, 3, 40),\n",
        "        },\n",
        "        # PCA\n",
        "        {\n",
        "            \"clf__C\": np.logspace(-3, 3, 40),\n",
        "            \"trf\": [PCA()],\n",
        "            \"trf__n_components\": [0.9, 0.95, 0.99],\n",
        "        },\n",
        "    ],\n",
        "    # MLP\n",
        "    [\n",
        "        # No transformation\n",
        "        {\n",
        "            \"clf__hidden_layer_sizes\": [(50,), (100,), (50, 50,), (100, 100,)],\n",
        "            \"clf__alpha\": np.logspace(-3, 3, 15),\n",
        "        },\n",
        "        # PCA\n",
        "        {\n",
        "            \"clf__hidden_layer_sizes\": [(50,), (100,), (50, 50,), (100, 100,)],\n",
        "            \"clf__alpha\": np.logspace(-3, 3, 15),\n",
        "            \"trf\": [PCA()],\n",
        "            \"trf__n_components\": [0.9, 0.95, 0.99],\n",
        "        },\n",
        "    ],\n",
        "    # Logistic Regression\n",
        "    [\n",
        "        # No transformation\n",
        "        {\n",
        "            \"clf__C\": np.logspace(-3, 3, 30),\n",
        "            \"clf__solver\": ['lbfgs', 'liblinear']\n",
        "        },\n",
        "        # PCA\n",
        "        {\n",
        "            \"clf__C\": np.logspace(-3, 3, 30),\n",
        "            \"clf__solver\": ['lbfgs', 'sag'],\n",
        "            \"trf\": [PCA()],\n",
        "            \"trf__n_components\": [0.9, 0.95, 0.99],\n",
        "        },\n",
        "    ],\n",
        "]"
      ],
      "execution_count": 22,
      "outputs": []
    },
    {
      "cell_type": "code",
      "metadata": {
        "ExecuteTime": {
          "end_time": "2021-03-19T18:43:38.400269Z",
          "start_time": "2021-03-19T18:42:15.200363Z"
        },
        "colab": {
          "base_uri": "https://localhost:8080/"
        },
        "id": "Ljzz4T4m5JYb",
        "outputId": "5d2d5bd3-3d48-4a95-d616-0892a0a0ef86"
      },
      "source": [
        "# Select features\n",
        "idx = np.arange(68*2, 68*3)\n",
        "\n",
        "# Create a list where train data indices are -1 and validation data indices are 0\n",
        "split_index = np.repeat([-1, 0], [X_train.shape[0], X_val.shape[0]])\n",
        "\n",
        "# Use the list to create PredefinedSplit\n",
        "ps = PredefinedSplit(test_fold=split_index)\n",
        "\n",
        "# Concatenate training and validation\n",
        "X = np.vstack((X_train[:, idx], X_val[:, idx]))\n",
        "y = np.concatenate((y_train, y_val))\n",
        "\n",
        "best_models = []\n",
        "for (model, name), params in zip(models, params_lst):\n",
        "    gs = GridSearchCV(\n",
        "        model,\n",
        "        params,\n",
        "        verbose=0,\n",
        "        scoring=\"roc_auc\",\n",
        "        cv=ps,\n",
        "        refit=True,\n",
        "        n_jobs=-1\n",
        "    )\n",
        "\n",
        "    start = time.time()\n",
        "    gs.fit(X, y)\n",
        "    best = gs.best_estimator_\n",
        "    auc_test = gs.score(X_test[:, idx], y_test)\n",
        "    acc_test = best.score(X_test[:, idx], y_test)\n",
        "    end = time.time() - start\n",
        "\n",
        "    print(f\"[{name}] AUC Test: {auc_test:.4f}\")\n",
        "    print(f\"[{name}] Acc Test: {acc_test:.4f}\")\n",
        "    print(f\"[{name}] Time: {end:.4f}s\")\n",
        "    print(best)\n",
        "\n",
        "    best_models.append(best)"
      ],
      "execution_count": 23,
      "outputs": [
        {
          "output_type": "stream",
          "text": [
            "[SVC] AUC Test: 0.8315\n",
            "[SVC] Acc Test: 0.7619\n",
            "[SVC] Time: 25.6676s\n",
            "Pipeline(memory=None,\n",
            "         steps=[('standardize',\n",
            "                 StandardScaler(copy=True, with_mean=True, with_std=True)),\n",
            "                ('trf',\n",
            "                 PCA(copy=True, iterated_power='auto', n_components=0.99,\n",
            "                     random_state=None, svd_solver='auto', tol=0.0,\n",
            "                     whiten=False)),\n",
            "                ('clf',\n",
            "                 SVC(C=51.794746792312075, break_ties=False, cache_size=200,\n",
            "                     class_weight=None, coef0=0.0,\n",
            "                     decision_function_shape='ovr', degree=3,\n",
            "                     gamma=0.0026826957952797246, kernel='rbf', max_iter=-1,\n",
            "                     probability=False, random_state=2021, shrinking=True,\n",
            "                     tol=0.001, verbose=False))],\n",
            "         verbose=False)\n",
            "[L-SVC] AUC Test: 0.8883\n",
            "[L-SVC] Acc Test: 0.8286\n",
            "[L-SVC] Time: 1.3040s\n",
            "Pipeline(memory=None,\n",
            "         steps=[('standardize',\n",
            "                 StandardScaler(copy=True, with_mean=True, with_std=True)),\n",
            "                ('trf',\n",
            "                 PCA(copy=True, iterated_power='auto', n_components=0.99,\n",
            "                     random_state=None, svd_solver='auto', tol=0.0,\n",
            "                     whiten=False)),\n",
            "                ('clf',\n",
            "                 LinearSVC(C=0.04923882631706741, class_weight=None, dual=False,\n",
            "                           fit_intercept=True, intercept_scaling=1,\n",
            "                           loss='squared_hinge', max_iter=1000,\n",
            "                           multi_class='ovr', penalty='l2', random_state=2021,\n",
            "                           tol=0.0001, verbose=0))],\n",
            "         verbose=False)\n",
            "[MLP] AUC Test: 0.9516\n",
            "[MLP] Acc Test: 0.8810\n",
            "[MLP] Time: 191.6131s\n",
            "Pipeline(memory=None,\n",
            "         steps=[('standardize',\n",
            "                 StandardScaler(copy=True, with_mean=True, with_std=True)),\n",
            "                ('trf', None),\n",
            "                ('clf',\n",
            "                 MLPClassifier(activation='relu', alpha=2.6826957952797246,\n",
            "                               batch_size='auto', beta_1=0.9, beta_2=0.999,\n",
            "                               early_stopping=False, epsilon=1e-08,\n",
            "                               hidden_layer_sizes=(100,),\n",
            "                               learning_rate='constant',\n",
            "                               learning_rate_init=0.001, max_fun=15000,\n",
            "                               max_iter=1000, momentum=0.9, n_iter_no_change=10,\n",
            "                               nesterovs_momentum=True, power_t=0.5,\n",
            "                               random_state=2021, shuffle=True, solver='lbfgs',\n",
            "                               tol=0.0001, validation_fraction=0.1,\n",
            "                               verbose=False, warm_start=False))],\n",
            "         verbose=False)\n",
            "[LR] AUC Test: 0.8880\n",
            "[LR] Acc Test: 0.8238\n",
            "[LR] Time: 3.3802s\n",
            "Pipeline(memory=None,\n",
            "         steps=[('standardize',\n",
            "                 StandardScaler(copy=True, with_mean=True, with_std=True)),\n",
            "                ('trf',\n",
            "                 PCA(copy=True, iterated_power='auto', n_components=0.99,\n",
            "                     random_state=None, svd_solver='auto', tol=0.0,\n",
            "                     whiten=False)),\n",
            "                ('clf',\n",
            "                 LogisticRegression(C=0.7880462815669912, class_weight=None,\n",
            "                                    dual=False, fit_intercept=True,\n",
            "                                    intercept_scaling=1, l1_ratio=None,\n",
            "                                    max_iter=500, multi_class='auto',\n",
            "                                    n_jobs=None, penalty='l2',\n",
            "                                    random_state=2021, solver='lbfgs',\n",
            "                                    tol=0.0001, verbose=0, warm_start=False))],\n",
            "         verbose=False)\n"
          ],
          "name": "stdout"
        }
      ]
    },
    {
      "cell_type": "code",
      "metadata": {
        "ExecuteTime": {
          "end_time": "2021-03-19T18:44:13.559109Z",
          "start_time": "2021-03-19T18:44:12.581984Z"
        },
        "scrolled": true,
        "colab": {
          "base_uri": "https://localhost:8080/",
          "height": 1000
        },
        "id": "iJKQ-kuC5JYc",
        "outputId": "f4a3fceb-587c-47a9-d224-e4ed43fb557f"
      },
      "source": [
        "for model in best_models:\n",
        "    plot_roc_curve(model, X_test[:, idx], y_test,\n",
        "                   name=model['clf'].__class__.__name__)\n",
        "    plt.show()"
      ],
      "execution_count": 24,
      "outputs": [
        {
          "output_type": "display_data",
          "data": {
            "image/png": "[encoded data removed]",
            "text/plain": [
              "<Figure size 432x288 with 1 Axes>"
            ]
          },
          "metadata": {
            "tags": [],
            "needs_background": "light"
          }
        },
        {
          "output_type": "display_data",
          "data": {
            "image/png": "[encoded data removed]",
            "text/plain": [
              "<Figure size 432x288 with 1 Axes>"
            ]
          },
          "metadata": {
            "tags": [],
            "needs_background": "light"
          }
        },
        {
          "output_type": "display_data",
          "data": {
            "image/png": "[encoded data removed]",
            "text/plain": [
              "<Figure size 432x288 with 1 Axes>"
            ]
          },
          "metadata": {
            "tags": [],
            "needs_background": "light"
          }
        },
        {
          "output_type": "display_data",
          "data": {
            "image/png": "[encoded data removed]",
            "text/plain": [
              "<Figure size 432x288 with 1 Axes>"
            ]
          },
          "metadata": {
            "tags": [],
            "needs_background": "light"
          }
        }
      ]
    },
    {
      "cell_type": "markdown",
      "metadata": {
        "id": "O25VvYPE5JYe"
      },
      "source": [
        "# Task 2"
      ]
    },
    {
      "cell_type": "code",
      "metadata": {
        "ExecuteTime": {
          "end_time": "2021-03-19T18:57:01.727137Z",
          "start_time": "2021-03-19T18:57:01.638665Z"
        },
        "colab": {
          "base_uri": "https://localhost:8080/"
        },
        "id": "3MZgyEdc5JYe",
        "outputId": "172e19c1-4055-4825-ec5b-ac5946b976a0"
      },
      "source": [
        "# Load test data\n",
        "\n",
        "test_dir_2 = 'Celeb-DF/evaluation/'\n",
        "target_size_2 = (768, 768)\n",
        "\n",
        "test_datagen_2 = ImageDataGenerator()\n",
        "\n",
        "test_data_2 = test_datagen_2.flow_from_directory(\n",
        "    directory=test_dir_2,\n",
        "    class_mode='binary',\n",
        "    batch_size=1,\n",
        "    seed=seed,\n",
        "    target_size=target_size_2,\n",
        ")\n",
        "\n",
        "num_test_2 = test_data_2.samples"
      ],
      "execution_count": 25,
      "outputs": [
        {
          "output_type": "stream",
          "text": [
            "Found 600 images belonging to 2 classes.\n"
          ],
          "name": "stdout"
        }
      ]
    },
    {
      "cell_type": "code",
      "metadata": {
        "ExecuteTime": {
          "end_time": "2021-03-19T18:58:43.981028Z",
          "start_time": "2021-03-19T18:57:02.421596Z"
        },
        "colab": {
          "base_uri": "https://localhost:8080/",
          "height": 66,
          "referenced_widgets": [
            "84808eaf36654123810d780ef410aefa",
            "60120ce7bcad41a2bea491b3331ed835",
            "b8ba7b3ab0bc4079872f0a6ba8d74269",
            "eb6f7a66baf14a3cb1f04e57bfaf7490",
            "ebad4389a8ce4b87bfc4ebcffa3df943",
            "131b6617c95443bb9b4c427c0a39193f",
            "ef6ab897a80848f188627a5aefd9440f",
            "fc87468a713c49498932f15f259d0e48"
          ]
        },
        "id": "2PZqdaSY5JYe",
        "outputId": "04fa9321-9688-4d6b-c882-1a3967e880a2"
      },
      "source": [
        "X_test_2, y_test_2 = extract_features(test_data_2, num_test_2, skip=False)\n",
        "print(\"X_test_2:\", X_test_2.shape)"
      ],
      "execution_count": 26,
      "outputs": [
        {
          "output_type": "display_data",
          "data": {
            "application/vnd.jupyter.widget-view+json": {
              "model_id": "84808eaf36654123810d780ef410aefa",
              "version_minor": 0,
              "version_major": 2
            },
            "text/plain": [
              "HBox(children=(FloatProgress(value=0.0, max=600.0), HTML(value='')))"
            ]
          },
          "metadata": {
            "tags": []
          }
        },
        {
          "output_type": "stream",
          "text": [
            "X_test_2: (600, 204)\n"
          ],
          "name": "stdout"
        }
      ]
    },
    {
      "cell_type": "code",
      "metadata": {
        "id": "WzEx49D0MXnN"
      },
      "source": [
        "np.savez('data2', X_test=X_test_2, y_test=y_test_2)"
      ],
      "execution_count": 15,
      "outputs": []
    },
    {
      "cell_type": "code",
      "metadata": {
        "id": "xYOzTT6rTJWx"
      },
      "source": [
        "data2 = np.load('data2.npz')\n",
        "X_test_2, y_test_2 = data2['X_test'], data2['y_test']"
      ],
      "execution_count": null,
      "outputs": []
    },
    {
      "cell_type": "code",
      "metadata": {
        "ExecuteTime": {
          "end_time": "2021-03-19T18:58:50.806776Z",
          "start_time": "2021-03-19T18:58:49.866435Z"
        },
        "colab": {
          "base_uri": "https://localhost:8080/",
          "height": 1000
        },
        "id": "QbS_m7sw5JYf",
        "outputId": "8a599e64-2182-45ba-ea96-ea08dce98678"
      },
      "source": [
        "for model in best_models:\n",
        "    plot_roc_curve(model, X_test_2[:, idx], y_test_2,\n",
        "                   name=model['clf'].__class__.__name__)\n",
        "    plt.show()"
      ],
      "execution_count": 28,
      "outputs": [
        {
          "output_type": "display_data",
          "data": {
            "image/png": "[encoded data removed]",
            "text/plain": [
              "<Figure size 432x288 with 1 Axes>"
            ]
          },
          "metadata": {
            "tags": [],
            "needs_background": "light"
          }
        },
        {
          "output_type": "display_data",
          "data": {
            "image/png": "[encoded data removed]",
            "text/plain": [
              "<Figure size 432x288 with 1 Axes>"
            ]
          },
          "metadata": {
            "tags": [],
            "needs_background": "light"
          }
        },
        {
          "output_type": "display_data",
          "data": {
            "image/png": "[encoded data removed]",
            "text/plain": [
              "<Figure size 432x288 with 1 Axes>"
            ]
          },
          "metadata": {
            "tags": [],
            "needs_background": "light"
          }
        },
        {
          "output_type": "display_data",
          "data": {
            "image/png": "[encoded data removed]",
            "text/plain": [
              "<Figure size 432x288 with 1 Axes>"
            ]
          },
          "metadata": {
            "tags": [],
            "needs_background": "light"
          }
        }
      ]
    }
  ]
}