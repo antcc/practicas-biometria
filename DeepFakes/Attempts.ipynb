{
  "nbformat": 4,
  "nbformat_minor": 0,
  "metadata": {
    "colab": {
      "name": "Test.ipynb",
      "provenance": [],
      "collapsed_sections": []
    },
    "kernelspec": {
      "name": "python3",
      "display_name": "Python 3"
    },
    "accelerator": "GPU"
  },
  "cells": [
    {
      "cell_type": "code",
      "metadata": {
        "colab": {
          "base_uri": "https://localhost:8080/"
        },
        "id": "lZ6UnxvVWoNI",
        "outputId": "811ccbd1-6ce6-4572-aca1-c452083db6f0"
      },
      "source": [
        "%cd drive/MyDrive/bio/"
      ],
      "execution_count": null,
      "outputs": [
        {
          "output_type": "stream",
          "text": [
            "/content/drive/MyDrive/bio\n"
          ],
          "name": "stdout"
        }
      ]
    },
    {
      "cell_type": "code",
      "metadata": {
        "colab": {
          "base_uri": "https://localhost:8080/"
        },
        "id": "z3_P7zo5Wrsm",
        "outputId": "2054c0b2-e33e-448e-a1c0-7c24416d267b"
      },
      "source": [
        "!ls"
      ],
      "execution_count": null,
      "outputs": [
        {
          "output_type": "stream",
          "text": [
            "dataset_loader.py  image_at_epoch_0050.png  models.py\t Test.ipynb\n",
            "Experiments\t   loss_functions.py\t    __pycache__  UADFV\n"
          ],
          "name": "stdout"
        }
      ]
    },
    {
      "cell_type": "code",
      "metadata": {
        "id": "GiadkRNUXxzK"
      },
      "source": [
        "import glob\n",
        "import imageio\n",
        "import matplotlib.pyplot as plt\n",
        "import numpy as np\n",
        "from tensorflow.keras import layers\n",
        "import time\n",
        "import tensorflow as tf\n",
        "\n",
        "from IPython import display"
      ],
      "execution_count": null,
      "outputs": []
    },
    {
      "cell_type": "code",
      "metadata": {
        "id": "mLCwo9WZiYL1"
      },
      "source": [
        "tf.device('/device:GPU:0')\n",
        "batch_size = 16\n",
        "image_resize = (400, 400)\n",
        "seed = 2020\n",
        "data_dir = r'UADFV/development/'\n",
        "test_dir = r'UADFV/evaluation/'\n",
        "\n",
        "optimizer = tf.optimizers.Adam(0.001)"
      ],
      "execution_count": null,
      "outputs": []
    },
    {
      "cell_type": "code",
      "metadata": {
        "colab": {
          "base_uri": "https://localhost:8080/"
        },
        "id": "4sMAp_kJhrxE",
        "outputId": "6905a250-ed1e-4b4e-c48c-08e9afa47886"
      },
      "source": [
        "data_generator = tf.keras.preprocessing.image.ImageDataGenerator(\n",
        "    rescale=1./255,\n",
        "    shear_range = 0.1,\n",
        "    zoom_range = 0.1,\n",
        "    horizontal_flip = True,\n",
        "    vertical_flip = False,\n",
        "   # rotation_range = 20,\n",
        "    width_shift_range = 0.1,\n",
        "    height_shift_range = 0.1,\n",
        "    validation_split = 0.1\n",
        ")\n",
        "\n",
        "train_generator_autoencoder = data_generator.flow_from_directory(\n",
        "    directory=data_dir,\n",
        "    class_mode='input',\n",
        "    color_mode=\"rgb\",\n",
        "    batch_size=batch_size,\n",
        "    shuffle=True,\n",
        "    seed=seed,\n",
        "    target_size=image_resize,\n",
        "    subset=\"training\"\n",
        ")\n",
        "\n",
        "val_generator_autoencoder = data_generator.flow_from_directory(\n",
        "    directory=data_dir,\n",
        "    color_mode=\"rgb\",\n",
        "    batch_size=batch_size,\n",
        "    class_mode=\"input\",\n",
        "    shuffle=True,\n",
        "    target_size=image_resize,\n",
        "    seed=seed,\n",
        "    subset=\"validation\"\n",
        ")\n",
        "\n",
        "train_generator = data_generator.flow_from_directory(\n",
        "    directory=data_dir,\n",
        "    class_mode='binary',\n",
        "    color_mode=\"rgb\",\n",
        "    batch_size=batch_size,\n",
        "    shuffle=True,\n",
        "    seed=seed,\n",
        "    target_size=image_resize,\n",
        "    subset=\"training\"\n",
        ")\n",
        "\n",
        "val_generator = data_generator.flow_from_directory(\n",
        "    directory=data_dir,\n",
        "    color_mode=\"rgb\",\n",
        "    batch_size=batch_size,\n",
        "    class_mode=\"binary\",\n",
        "    shuffle=True,\n",
        "    target_size=image_resize,\n",
        "    seed=seed,\n",
        "    subset=\"validation\"\n",
        ")\n",
        "\n",
        "test_generator = data_generator.flow_from_directory(\n",
        "    directory=test_dir,\n",
        "    color_mode=\"rgb\",\n",
        "    batch_size=batch_size,\n",
        "    class_mode=\"binary\",\n",
        "    target_size=image_resize,\n",
        "    seed=seed,\n",
        ")"
      ],
      "execution_count": null,
      "outputs": [
        {
          "output_type": "stream",
          "text": [
            "Found 684 images belonging to 2 classes.\n",
            "Found 76 images belonging to 2 classes.\n",
            "Found 684 images belonging to 2 classes.\n",
            "Found 76 images belonging to 2 classes.\n",
            "Found 210 images belonging to 2 classes.\n"
          ],
          "name": "stdout"
        }
      ]
    },
    {
      "cell_type": "code",
      "metadata": {
        "id": "4tP2ABzQJbxl"
      },
      "source": [
        "import keras\r\n",
        "from keras import layers\r\n",
        "\r\n",
        "input_img = keras.Input(shape=(*image_resize, 3))\r\n",
        "\r\n",
        "x = layers.Conv2D(32, (3, 3), activation='relu', padding='same')(input_img)\r\n",
        "x = layers.MaxPooling2D((2, 2), padding='same')(x)\r\n",
        "x = layers.Conv2D(64, (3, 3), activation='relu', padding='same')(x)\r\n",
        "x = layers.MaxPooling2D((2, 2), padding='same')(x)\r\n",
        "x = layers.Conv2D(128, (3, 3), activation='relu', padding='same')(x)\r\n",
        "encoded = layers.MaxPooling2D((2, 2), padding='same')(x)\r\n",
        "\r\n",
        "\r\n",
        "x = layers.Conv2D(128, (3, 3), activation='relu', padding='same')(encoded)\r\n",
        "x = layers.UpSampling2D((2, 2))(x)\r\n",
        "x = layers.Conv2D(64, (3, 3), activation='relu', padding='same')(x)\r\n",
        "x = layers.UpSampling2D((2, 2))(x)\r\n",
        "x = layers.Conv2D(32, (3, 3),  padding='same', activation='relu')(x)\r\n",
        "x = layers.UpSampling2D((2, 2))(x)\r\n",
        "decoded = layers.Conv2D(3, (3, 3), activation='sigmoid', padding='same')(x)\r\n",
        "\r\n",
        "autoencoder = keras.Model(input_img, decoded)\r\n",
        "encoder = keras.Model(input_img, encoded)\r\n",
        "autoencoder.compile(optimizer='adam', loss='binary_crossentropy')"
      ],
      "execution_count": null,
      "outputs": []
    },
    {
      "cell_type": "code",
      "metadata": {
        "colab": {
          "base_uri": "https://localhost:8080/"
        },
        "id": "vs2a9aXGmIBe",
        "outputId": "37d9c5b8-cdc4-4d52-fadd-c7a459a50e59"
      },
      "source": [
        "autoencoder.summary()"
      ],
      "execution_count": null,
      "outputs": [
        {
          "output_type": "stream",
          "text": [
            "Model: \"model_6\"\n",
            "_________________________________________________________________\n",
            "Layer (type)                 Output Shape              Param #   \n",
            "=================================================================\n",
            "input_10 (InputLayer)        [(None, 400, 400, 3)]     0         \n",
            "_________________________________________________________________\n",
            "conv2d_41 (Conv2D)           (None, 400, 400, 32)      896       \n",
            "_________________________________________________________________\n",
            "max_pooling2d_27 (MaxPooling (None, 200, 200, 32)      0         \n",
            "_________________________________________________________________\n",
            "conv2d_42 (Conv2D)           (None, 200, 200, 64)      18496     \n",
            "_________________________________________________________________\n",
            "max_pooling2d_28 (MaxPooling (None, 100, 100, 64)      0         \n",
            "_________________________________________________________________\n",
            "conv2d_43 (Conv2D)           (None, 100, 100, 128)     73856     \n",
            "_________________________________________________________________\n",
            "max_pooling2d_29 (MaxPooling (None, 50, 50, 128)       0         \n",
            "_________________________________________________________________\n",
            "conv2d_44 (Conv2D)           (None, 50, 50, 128)       147584    \n",
            "_________________________________________________________________\n",
            "up_sampling2d_9 (UpSampling2 (None, 100, 100, 128)     0         \n",
            "_________________________________________________________________\n",
            "conv2d_45 (Conv2D)           (None, 100, 100, 64)      73792     \n",
            "_________________________________________________________________\n",
            "up_sampling2d_10 (UpSampling (None, 200, 200, 64)      0         \n",
            "_________________________________________________________________\n",
            "conv2d_46 (Conv2D)           (None, 200, 200, 32)      18464     \n",
            "_________________________________________________________________\n",
            "up_sampling2d_11 (UpSampling (None, 400, 400, 32)      0         \n",
            "_________________________________________________________________\n",
            "conv2d_47 (Conv2D)           (None, 400, 400, 3)       867       \n",
            "=================================================================\n",
            "Total params: 333,955\n",
            "Trainable params: 333,955\n",
            "Non-trainable params: 0\n",
            "_________________________________________________________________\n"
          ],
          "name": "stdout"
        }
      ]
    },
    {
      "cell_type": "code",
      "metadata": {
        "colab": {
          "base_uri": "https://localhost:8080/",
          "height": 1000
        },
        "id": "0ZDtnMo2klRm",
        "outputId": "2f99947b-657c-4863-d397-4ac97ed56b3a"
      },
      "source": [
        "autoencoder.fit(\r\n",
        "    train_generator_autoencoder,\r\n",
        "    steps_per_epoch = train_generator.samples // batch_size,\r\n",
        "    validation_data = val_generator_autoencoder, \r\n",
        "    validation_steps = val_generator.samples // batch_size,\r\n",
        "    epochs = 100, \r\n",
        "    verbose = 1)"
      ],
      "execution_count": null,
      "outputs": [
        {
          "output_type": "stream",
          "text": [
            "Epoch 1/100\n",
            "42/42 [==============================] - 38s 857ms/step - loss: 0.6144 - val_loss: 0.5342\n",
            "Epoch 2/100\n",
            "42/42 [==============================] - 35s 822ms/step - loss: 0.4906 - val_loss: 0.5260\n",
            "Epoch 3/100\n",
            "42/42 [==============================] - 34s 817ms/step - loss: 0.4818 - val_loss: 0.5285\n",
            "Epoch 4/100\n",
            "42/42 [==============================] - 34s 815ms/step - loss: 0.4806 - val_loss: 0.5275\n",
            "Epoch 5/100\n",
            "42/42 [==============================] - 35s 826ms/step - loss: 0.4708 - val_loss: 0.5234\n",
            "Epoch 6/100\n",
            "42/42 [==============================] - 35s 830ms/step - loss: 0.4792 - val_loss: 0.5234\n",
            "Epoch 7/100\n",
            "42/42 [==============================] - 35s 831ms/step - loss: 0.4695 - val_loss: 0.5224\n",
            "Epoch 8/100\n",
            "42/42 [==============================] - 35s 840ms/step - loss: 0.4693 - val_loss: 0.5244\n",
            "Epoch 9/100\n",
            "42/42 [==============================] - 36s 843ms/step - loss: 0.4753 - val_loss: 0.5228\n",
            "Epoch 10/100\n",
            "42/42 [==============================] - 35s 834ms/step - loss: 0.4767 - val_loss: 0.5147\n",
            "Epoch 11/100\n",
            "42/42 [==============================] - 35s 836ms/step - loss: 0.4755 - val_loss: 0.5210\n",
            "Epoch 12/100\n",
            "42/42 [==============================] - 36s 845ms/step - loss: 0.4726 - val_loss: 0.5252\n",
            "Epoch 13/100\n",
            "42/42 [==============================] - 36s 844ms/step - loss: 0.4709 - val_loss: 0.5250\n",
            "Epoch 14/100\n",
            "42/42 [==============================] - 35s 840ms/step - loss: 0.4730 - val_loss: 0.5296\n",
            "Epoch 15/100\n",
            "42/42 [==============================] - 36s 844ms/step - loss: 0.4793 - val_loss: 0.5287\n",
            "Epoch 16/100\n",
            "42/42 [==============================] - 36s 844ms/step - loss: 0.4694 - val_loss: 0.5257\n",
            "Epoch 17/100\n",
            "42/42 [==============================] - 36s 842ms/step - loss: 0.4793 - val_loss: 0.5214\n",
            "Epoch 18/100\n",
            "42/42 [==============================] - 36s 843ms/step - loss: 0.4757 - val_loss: 0.5269\n",
            "Epoch 19/100\n",
            "42/42 [==============================] - 36s 842ms/step - loss: 0.4694 - val_loss: 0.5177\n",
            "Epoch 20/100\n",
            "42/42 [==============================] - 35s 841ms/step - loss: 0.4742 - val_loss: 0.5191\n",
            "Epoch 21/100\n",
            "42/42 [==============================] - 36s 845ms/step - loss: 0.4725 - val_loss: 0.5283\n",
            "Epoch 22/100\n",
            "42/42 [==============================] - 36s 846ms/step - loss: 0.4716 - val_loss: 0.5228\n",
            "Epoch 23/100\n",
            "42/42 [==============================] - 36s 847ms/step - loss: 0.4806 - val_loss: 0.5233\n",
            "Epoch 24/100\n",
            "42/42 [==============================] - 36s 844ms/step - loss: 0.4789 - val_loss: 0.5271\n",
            "Epoch 25/100\n",
            "42/42 [==============================] - 36s 844ms/step - loss: 0.4751 - val_loss: 0.5314\n",
            "Epoch 26/100\n",
            "42/42 [==============================] - 36s 845ms/step - loss: 0.4676 - val_loss: 0.5289\n",
            "Epoch 27/100\n",
            "42/42 [==============================] - 35s 841ms/step - loss: 0.4645 - val_loss: 0.5206\n",
            "Epoch 28/100\n",
            "42/42 [==============================] - 35s 841ms/step - loss: 0.4698 - val_loss: 0.5211\n",
            "Epoch 29/100\n",
            "42/42 [==============================] - 36s 845ms/step - loss: 0.4791 - val_loss: 0.5226\n",
            "Epoch 30/100\n",
            "42/42 [==============================] - 35s 842ms/step - loss: 0.4735 - val_loss: 0.5253\n",
            "Epoch 31/100\n",
            "42/42 [==============================] - 36s 842ms/step - loss: 0.4748 - val_loss: 0.5227\n",
            "Epoch 32/100\n",
            "42/42 [==============================] - 36s 846ms/step - loss: 0.4726 - val_loss: 0.5228\n",
            "Epoch 33/100\n",
            "42/42 [==============================] - 36s 843ms/step - loss: 0.4749 - val_loss: 0.5267\n",
            "Epoch 34/100\n",
            "42/42 [==============================] - 36s 843ms/step - loss: 0.4702 - val_loss: 0.5192\n",
            "Epoch 35/100\n",
            "42/42 [==============================] - 35s 840ms/step - loss: 0.4750 - val_loss: 0.5219\n",
            "Epoch 36/100\n",
            "42/42 [==============================] - 35s 841ms/step - loss: 0.4772 - val_loss: 0.5226\n",
            "Epoch 37/100\n",
            "42/42 [==============================] - 35s 837ms/step - loss: 0.4756 - val_loss: 0.5190\n",
            "Epoch 38/100\n",
            "42/42 [==============================] - 36s 846ms/step - loss: 0.4676 - val_loss: 0.5250\n",
            "Epoch 39/100\n",
            "42/42 [==============================] - 36s 846ms/step - loss: 0.4696 - val_loss: 0.5220\n",
            "Epoch 40/100\n",
            "42/42 [==============================] - 36s 848ms/step - loss: 0.4698 - val_loss: 0.5234\n",
            "Epoch 41/100\n",
            "42/42 [==============================] - 36s 850ms/step - loss: 0.4772 - val_loss: 0.5221\n",
            "Epoch 42/100\n",
            "42/42 [==============================] - 36s 849ms/step - loss: 0.4719 - val_loss: 0.5202\n",
            "Epoch 43/100\n",
            "42/42 [==============================] - 36s 850ms/step - loss: 0.4733 - val_loss: 0.5275\n",
            "Epoch 44/100\n",
            "42/42 [==============================] - 36s 846ms/step - loss: 0.4700 - val_loss: 0.5196\n",
            "Epoch 45/100\n",
            "42/42 [==============================] - 36s 845ms/step - loss: 0.4745 - val_loss: 0.5167\n",
            "Epoch 46/100\n",
            "42/42 [==============================] - 36s 846ms/step - loss: 0.4734 - val_loss: 0.5239\n",
            "Epoch 47/100\n",
            "42/42 [==============================] - 36s 848ms/step - loss: 0.4709 - val_loss: 0.5240\n",
            "Epoch 48/100\n",
            "42/42 [==============================] - 36s 845ms/step - loss: 0.4684 - val_loss: 0.5193\n",
            "Epoch 49/100\n",
            "42/42 [==============================] - 36s 845ms/step - loss: 0.4671 - val_loss: 0.5181\n",
            "Epoch 50/100\n",
            "42/42 [==============================] - 36s 845ms/step - loss: 0.4658 - val_loss: 0.5157\n",
            "Epoch 51/100\n",
            "42/42 [==============================] - 36s 846ms/step - loss: 0.4703 - val_loss: 0.5221\n",
            "Epoch 52/100\n",
            "42/42 [==============================] - 36s 845ms/step - loss: 0.4766 - val_loss: 0.5254\n",
            "Epoch 53/100\n",
            " 7/42 [====>.........................] - ETA: 26s - loss: 0.4725"
          ],
          "name": "stdout"
        },
        {
          "output_type": "error",
          "ename": "KeyboardInterrupt",
          "evalue": "ignored",
          "traceback": [
            "\u001b[0;31m---------------------------------------------------------------------------\u001b[0m",
            "\u001b[0;31mKeyboardInterrupt\u001b[0m                         Traceback (most recent call last)",
            "\u001b[0;32m<ipython-input-22-acd0174300b0>\u001b[0m in \u001b[0;36m<module>\u001b[0;34m()\u001b[0m\n\u001b[1;32m      5\u001b[0m     \u001b[0mvalidation_steps\u001b[0m \u001b[0;34m=\u001b[0m \u001b[0mval_generator\u001b[0m\u001b[0;34m.\u001b[0m\u001b[0msamples\u001b[0m \u001b[0;34m//\u001b[0m \u001b[0mbatch_size\u001b[0m\u001b[0;34m,\u001b[0m\u001b[0;34m\u001b[0m\u001b[0;34m\u001b[0m\u001b[0m\n\u001b[1;32m      6\u001b[0m     \u001b[0mepochs\u001b[0m \u001b[0;34m=\u001b[0m \u001b[0;36m100\u001b[0m\u001b[0;34m,\u001b[0m\u001b[0;34m\u001b[0m\u001b[0;34m\u001b[0m\u001b[0m\n\u001b[0;32m----> 7\u001b[0;31m     verbose = 1)\n\u001b[0m",
            "\u001b[0;32m/usr/local/lib/python3.7/dist-packages/tensorflow/python/keras/engine/training.py\u001b[0m in \u001b[0;36mfit\u001b[0;34m(self, x, y, batch_size, epochs, verbose, callbacks, validation_split, validation_data, shuffle, class_weight, sample_weight, initial_epoch, steps_per_epoch, validation_steps, validation_batch_size, validation_freq, max_queue_size, workers, use_multiprocessing)\u001b[0m\n\u001b[1;32m   1098\u001b[0m                 _r=1):\n\u001b[1;32m   1099\u001b[0m               \u001b[0mcallbacks\u001b[0m\u001b[0;34m.\u001b[0m\u001b[0mon_train_batch_begin\u001b[0m\u001b[0;34m(\u001b[0m\u001b[0mstep\u001b[0m\u001b[0;34m)\u001b[0m\u001b[0;34m\u001b[0m\u001b[0;34m\u001b[0m\u001b[0m\n\u001b[0;32m-> 1100\u001b[0;31m               \u001b[0mtmp_logs\u001b[0m \u001b[0;34m=\u001b[0m \u001b[0mself\u001b[0m\u001b[0;34m.\u001b[0m\u001b[0mtrain_function\u001b[0m\u001b[0;34m(\u001b[0m\u001b[0miterator\u001b[0m\u001b[0;34m)\u001b[0m\u001b[0;34m\u001b[0m\u001b[0;34m\u001b[0m\u001b[0m\n\u001b[0m\u001b[1;32m   1101\u001b[0m               \u001b[0;32mif\u001b[0m \u001b[0mdata_handler\u001b[0m\u001b[0;34m.\u001b[0m\u001b[0mshould_sync\u001b[0m\u001b[0;34m:\u001b[0m\u001b[0;34m\u001b[0m\u001b[0;34m\u001b[0m\u001b[0m\n\u001b[1;32m   1102\u001b[0m                 \u001b[0mcontext\u001b[0m\u001b[0;34m.\u001b[0m\u001b[0masync_wait\u001b[0m\u001b[0;34m(\u001b[0m\u001b[0;34m)\u001b[0m\u001b[0;34m\u001b[0m\u001b[0;34m\u001b[0m\u001b[0m\n",
            "\u001b[0;32m/usr/local/lib/python3.7/dist-packages/tensorflow/python/eager/def_function.py\u001b[0m in \u001b[0;36m__call__\u001b[0;34m(self, *args, **kwds)\u001b[0m\n\u001b[1;32m    826\u001b[0m     \u001b[0mtracing_count\u001b[0m \u001b[0;34m=\u001b[0m \u001b[0mself\u001b[0m\u001b[0;34m.\u001b[0m\u001b[0mexperimental_get_tracing_count\u001b[0m\u001b[0;34m(\u001b[0m\u001b[0;34m)\u001b[0m\u001b[0;34m\u001b[0m\u001b[0;34m\u001b[0m\u001b[0m\n\u001b[1;32m    827\u001b[0m     \u001b[0;32mwith\u001b[0m \u001b[0mtrace\u001b[0m\u001b[0;34m.\u001b[0m\u001b[0mTrace\u001b[0m\u001b[0;34m(\u001b[0m\u001b[0mself\u001b[0m\u001b[0;34m.\u001b[0m\u001b[0m_name\u001b[0m\u001b[0;34m)\u001b[0m \u001b[0;32mas\u001b[0m \u001b[0mtm\u001b[0m\u001b[0;34m:\u001b[0m\u001b[0;34m\u001b[0m\u001b[0;34m\u001b[0m\u001b[0m\n\u001b[0;32m--> 828\u001b[0;31m       \u001b[0mresult\u001b[0m \u001b[0;34m=\u001b[0m \u001b[0mself\u001b[0m\u001b[0;34m.\u001b[0m\u001b[0m_call\u001b[0m\u001b[0;34m(\u001b[0m\u001b[0;34m*\u001b[0m\u001b[0margs\u001b[0m\u001b[0;34m,\u001b[0m \u001b[0;34m**\u001b[0m\u001b[0mkwds\u001b[0m\u001b[0;34m)\u001b[0m\u001b[0;34m\u001b[0m\u001b[0;34m\u001b[0m\u001b[0m\n\u001b[0m\u001b[1;32m    829\u001b[0m       \u001b[0mcompiler\u001b[0m \u001b[0;34m=\u001b[0m \u001b[0;34m\"xla\"\u001b[0m \u001b[0;32mif\u001b[0m \u001b[0mself\u001b[0m\u001b[0;34m.\u001b[0m\u001b[0m_experimental_compile\u001b[0m \u001b[0;32melse\u001b[0m \u001b[0;34m\"nonXla\"\u001b[0m\u001b[0;34m\u001b[0m\u001b[0;34m\u001b[0m\u001b[0m\n\u001b[1;32m    830\u001b[0m       \u001b[0mnew_tracing_count\u001b[0m \u001b[0;34m=\u001b[0m \u001b[0mself\u001b[0m\u001b[0;34m.\u001b[0m\u001b[0mexperimental_get_tracing_count\u001b[0m\u001b[0;34m(\u001b[0m\u001b[0;34m)\u001b[0m\u001b[0;34m\u001b[0m\u001b[0;34m\u001b[0m\u001b[0m\n",
            "\u001b[0;32m/usr/local/lib/python3.7/dist-packages/tensorflow/python/eager/def_function.py\u001b[0m in \u001b[0;36m_call\u001b[0;34m(self, *args, **kwds)\u001b[0m\n\u001b[1;32m    853\u001b[0m       \u001b[0;31m# In this case we have created variables on the first call, so we run the\u001b[0m\u001b[0;34m\u001b[0m\u001b[0;34m\u001b[0m\u001b[0;34m\u001b[0m\u001b[0m\n\u001b[1;32m    854\u001b[0m       \u001b[0;31m# defunned version which is guaranteed to never create variables.\u001b[0m\u001b[0;34m\u001b[0m\u001b[0;34m\u001b[0m\u001b[0;34m\u001b[0m\u001b[0m\n\u001b[0;32m--> 855\u001b[0;31m       \u001b[0;32mreturn\u001b[0m \u001b[0mself\u001b[0m\u001b[0;34m.\u001b[0m\u001b[0m_stateless_fn\u001b[0m\u001b[0;34m(\u001b[0m\u001b[0;34m*\u001b[0m\u001b[0margs\u001b[0m\u001b[0;34m,\u001b[0m \u001b[0;34m**\u001b[0m\u001b[0mkwds\u001b[0m\u001b[0;34m)\u001b[0m  \u001b[0;31m# pylint: disable=not-callable\u001b[0m\u001b[0;34m\u001b[0m\u001b[0;34m\u001b[0m\u001b[0m\n\u001b[0m\u001b[1;32m    856\u001b[0m     \u001b[0;32melif\u001b[0m \u001b[0mself\u001b[0m\u001b[0;34m.\u001b[0m\u001b[0m_stateful_fn\u001b[0m \u001b[0;32mis\u001b[0m \u001b[0;32mnot\u001b[0m \u001b[0;32mNone\u001b[0m\u001b[0;34m:\u001b[0m\u001b[0;34m\u001b[0m\u001b[0;34m\u001b[0m\u001b[0m\n\u001b[1;32m    857\u001b[0m       \u001b[0;31m# Release the lock early so that multiple threads can perform the call\u001b[0m\u001b[0;34m\u001b[0m\u001b[0;34m\u001b[0m\u001b[0;34m\u001b[0m\u001b[0m\n",
            "\u001b[0;32m/usr/local/lib/python3.7/dist-packages/tensorflow/python/eager/function.py\u001b[0m in \u001b[0;36m__call__\u001b[0;34m(self, *args, **kwargs)\u001b[0m\n\u001b[1;32m   2941\u001b[0m        filtered_flat_args) = self._maybe_define_function(args, kwargs)\n\u001b[1;32m   2942\u001b[0m     return graph_function._call_flat(\n\u001b[0;32m-> 2943\u001b[0;31m         filtered_flat_args, captured_inputs=graph_function.captured_inputs)  # pylint: disable=protected-access\n\u001b[0m\u001b[1;32m   2944\u001b[0m \u001b[0;34m\u001b[0m\u001b[0m\n\u001b[1;32m   2945\u001b[0m   \u001b[0;34m@\u001b[0m\u001b[0mproperty\u001b[0m\u001b[0;34m\u001b[0m\u001b[0;34m\u001b[0m\u001b[0m\n",
            "\u001b[0;32m/usr/local/lib/python3.7/dist-packages/tensorflow/python/eager/function.py\u001b[0m in \u001b[0;36m_call_flat\u001b[0;34m(self, args, captured_inputs, cancellation_manager)\u001b[0m\n\u001b[1;32m   1917\u001b[0m       \u001b[0;31m# No tape is watching; skip to running the function.\u001b[0m\u001b[0;34m\u001b[0m\u001b[0;34m\u001b[0m\u001b[0;34m\u001b[0m\u001b[0m\n\u001b[1;32m   1918\u001b[0m       return self._build_call_outputs(self._inference_function.call(\n\u001b[0;32m-> 1919\u001b[0;31m           ctx, args, cancellation_manager=cancellation_manager))\n\u001b[0m\u001b[1;32m   1920\u001b[0m     forward_backward = self._select_forward_and_backward_functions(\n\u001b[1;32m   1921\u001b[0m         \u001b[0margs\u001b[0m\u001b[0;34m,\u001b[0m\u001b[0;34m\u001b[0m\u001b[0;34m\u001b[0m\u001b[0m\n",
            "\u001b[0;32m/usr/local/lib/python3.7/dist-packages/tensorflow/python/eager/function.py\u001b[0m in \u001b[0;36mcall\u001b[0;34m(self, ctx, args, cancellation_manager)\u001b[0m\n\u001b[1;32m    558\u001b[0m               \u001b[0minputs\u001b[0m\u001b[0;34m=\u001b[0m\u001b[0margs\u001b[0m\u001b[0;34m,\u001b[0m\u001b[0;34m\u001b[0m\u001b[0;34m\u001b[0m\u001b[0m\n\u001b[1;32m    559\u001b[0m               \u001b[0mattrs\u001b[0m\u001b[0;34m=\u001b[0m\u001b[0mattrs\u001b[0m\u001b[0;34m,\u001b[0m\u001b[0;34m\u001b[0m\u001b[0;34m\u001b[0m\u001b[0m\n\u001b[0;32m--> 560\u001b[0;31m               ctx=ctx)\n\u001b[0m\u001b[1;32m    561\u001b[0m         \u001b[0;32melse\u001b[0m\u001b[0;34m:\u001b[0m\u001b[0;34m\u001b[0m\u001b[0;34m\u001b[0m\u001b[0m\n\u001b[1;32m    562\u001b[0m           outputs = execute.execute_with_cancellation(\n",
            "\u001b[0;32m/usr/local/lib/python3.7/dist-packages/tensorflow/python/eager/execute.py\u001b[0m in \u001b[0;36mquick_execute\u001b[0;34m(op_name, num_outputs, inputs, attrs, ctx, name)\u001b[0m\n\u001b[1;32m     58\u001b[0m     \u001b[0mctx\u001b[0m\u001b[0;34m.\u001b[0m\u001b[0mensure_initialized\u001b[0m\u001b[0;34m(\u001b[0m\u001b[0;34m)\u001b[0m\u001b[0;34m\u001b[0m\u001b[0;34m\u001b[0m\u001b[0m\n\u001b[1;32m     59\u001b[0m     tensors = pywrap_tfe.TFE_Py_Execute(ctx._handle, device_name, op_name,\n\u001b[0;32m---> 60\u001b[0;31m                                         inputs, attrs, num_outputs)\n\u001b[0m\u001b[1;32m     61\u001b[0m   \u001b[0;32mexcept\u001b[0m \u001b[0mcore\u001b[0m\u001b[0;34m.\u001b[0m\u001b[0m_NotOkStatusException\u001b[0m \u001b[0;32mas\u001b[0m \u001b[0me\u001b[0m\u001b[0;34m:\u001b[0m\u001b[0;34m\u001b[0m\u001b[0;34m\u001b[0m\u001b[0m\n\u001b[1;32m     62\u001b[0m     \u001b[0;32mif\u001b[0m \u001b[0mname\u001b[0m \u001b[0;32mis\u001b[0m \u001b[0;32mnot\u001b[0m \u001b[0;32mNone\u001b[0m\u001b[0;34m:\u001b[0m\u001b[0;34m\u001b[0m\u001b[0;34m\u001b[0m\u001b[0m\n",
            "\u001b[0;31mKeyboardInterrupt\u001b[0m: "
          ]
        }
      ]
    },
    {
      "cell_type": "code",
      "metadata": {
        "colab": {
          "base_uri": "https://localhost:8080/"
        },
        "id": "yDTgTm-Ok0Gu",
        "outputId": "4f6116b4-87e1-44f4-d449-ccc8565073fa"
      },
      "source": [
        "for l in encoder.layers:\r\n",
        "    l.trainable = False\r\n",
        "    print(l.name, l.trainable)"
      ],
      "execution_count": null,
      "outputs": [
        {
          "output_type": "stream",
          "text": [
            "input_3 False\n",
            "conv2d_14 False\n",
            "max_pooling2d_6 False\n",
            "conv2d_15 False\n",
            "max_pooling2d_7 False\n",
            "conv2d_16 False\n",
            "max_pooling2d_8 False\n"
          ],
          "name": "stdout"
        }
      ]
    },
    {
      "cell_type": "code",
      "metadata": {
        "id": "i57M2CTRo-kF"
      },
      "source": [
        "x = layers.Conv2D(64, (3, 3), strides = (2,2), padding='same', input_shape=[50,50,32])(encoded)\r\n",
        "\r\n",
        "x = layers.ReLU()(x)\r\n",
        "x = layers.MaxPooling2D((2,2))(x)\r\n",
        "\r\n",
        "x = layers.Conv2D(128, (5, 5), strides = (2,2), padding='same')(x)\r\n",
        "\r\n",
        "x = layers.ReLU()(x)\r\n",
        "x = layers.MaxPooling2D((2,2))(x)\r\n",
        "\r\n",
        "x = layers.Conv2D(64, (3, 3), strides = (2,2), padding='same')(x)\r\n",
        "x = layers.ReLU()(x)\r\n",
        "x = layers.MaxPooling2D((2,2))(x)\r\n",
        "x = layers.Flatten()(x)\r\n",
        "x = layers.Dense(1)(x)\r\n",
        "\r\n",
        "model = keras.Model(input_img, x)"
      ],
      "execution_count": null,
      "outputs": []
    },
    {
      "cell_type": "code",
      "metadata": {
        "colab": {
          "base_uri": "https://localhost:8080/"
        },
        "id": "liRtBcVip-4t",
        "outputId": "8df4e732-0625-4b39-ac89-4cf0cd38d2f3"
      },
      "source": [
        "model.summary()"
      ],
      "execution_count": null,
      "outputs": [
        {
          "output_type": "stream",
          "text": [
            "Model: \"model_4\"\n",
            "_________________________________________________________________\n",
            "Layer (type)                 Output Shape              Param #   \n",
            "=================================================================\n",
            "input_3 (InputLayer)         [(None, 400, 400, 3)]     0         \n",
            "_________________________________________________________________\n",
            "conv2d_14 (Conv2D)           (None, 400, 400, 16)      448       \n",
            "_________________________________________________________________\n",
            "max_pooling2d_6 (MaxPooling2 (None, 200, 200, 16)      0         \n",
            "_________________________________________________________________\n",
            "conv2d_15 (Conv2D)           (None, 200, 200, 8)       1160      \n",
            "_________________________________________________________________\n",
            "max_pooling2d_7 (MaxPooling2 (None, 100, 100, 8)       0         \n",
            "_________________________________________________________________\n",
            "conv2d_16 (Conv2D)           (None, 100, 100, 8)       584       \n",
            "_________________________________________________________________\n",
            "max_pooling2d_8 (MaxPooling2 (None, 50, 50, 8)         0         \n",
            "_________________________________________________________________\n",
            "conv2d_25 (Conv2D)           (None, 25, 25, 64)        4672      \n",
            "_________________________________________________________________\n",
            "re_lu_4 (ReLU)               (None, 25, 25, 64)        0         \n",
            "_________________________________________________________________\n",
            "max_pooling2d_12 (MaxPooling (None, 12, 12, 64)        0         \n",
            "_________________________________________________________________\n",
            "conv2d_26 (Conv2D)           (None, 6, 6, 128)         204928    \n",
            "_________________________________________________________________\n",
            "re_lu_5 (ReLU)               (None, 6, 6, 128)         0         \n",
            "_________________________________________________________________\n",
            "max_pooling2d_13 (MaxPooling (None, 3, 3, 128)         0         \n",
            "_________________________________________________________________\n",
            "conv2d_27 (Conv2D)           (None, 2, 2, 64)          73792     \n",
            "_________________________________________________________________\n",
            "re_lu_6 (ReLU)               (None, 2, 2, 64)          0         \n",
            "_________________________________________________________________\n",
            "max_pooling2d_14 (MaxPooling (None, 1, 1, 64)          0         \n",
            "_________________________________________________________________\n",
            "flatten_1 (Flatten)          (None, 64)                0         \n",
            "_________________________________________________________________\n",
            "dense_1 (Dense)              (None, 1)                 65        \n",
            "=================================================================\n",
            "Total params: 285,649\n",
            "Trainable params: 283,457\n",
            "Non-trainable params: 2,192\n",
            "_________________________________________________________________\n"
          ],
          "name": "stdout"
        }
      ]
    },
    {
      "cell_type": "code",
      "metadata": {
        "id": "ZP_TlNvPrF0d"
      },
      "source": [
        "model.compile(optimizer='adam', loss='binary_crossentropy', metrics =[\"accuracy\"])"
      ],
      "execution_count": null,
      "outputs": []
    },
    {
      "cell_type": "code",
      "metadata": {
        "colab": {
          "base_uri": "https://localhost:8080/"
        },
        "id": "pqAMYwLXqOy7",
        "outputId": "d35f6293-159e-4b13-e7c3-9bcd34a6d8b7"
      },
      "source": [
        "model.fit(\r\n",
        "    train_generator,\r\n",
        "    steps_per_epoch = train_generator.samples // batch_size,\r\n",
        "    validation_data = val_generator, \r\n",
        "    validation_steps = val_generator.samples // batch_size,\r\n",
        "    epochs = 10, \r\n",
        "    verbose = 1)"
      ],
      "execution_count": null,
      "outputs": [
        {
          "output_type": "stream",
          "text": [
            "Epoch 1/10\n",
            "42/42 [==============================] - 26s 616ms/step - loss: 6.8713 - val_loss: 7.6246\n",
            "Epoch 2/10\n",
            "42/42 [==============================] - 25s 599ms/step - loss: 7.3505 - val_loss: 7.1481\n",
            "Epoch 3/10\n",
            "42/42 [==============================] - 25s 595ms/step - loss: 7.5504 - val_loss: 7.3863\n",
            "Epoch 4/10\n",
            "42/42 [==============================] - 25s 600ms/step - loss: 7.4409 - val_loss: 7.1481\n",
            "Epoch 5/10\n",
            "42/42 [==============================] - 25s 597ms/step - loss: 7.6011 - val_loss: 8.3394\n",
            "Epoch 6/10\n",
            "42/42 [==============================] - 25s 599ms/step - loss: 7.2739 - val_loss: 7.8629\n",
            "Epoch 7/10\n",
            "42/42 [==============================] - 25s 601ms/step - loss: 7.6765 - val_loss: 7.6246\n",
            "Epoch 8/10\n",
            "42/42 [==============================] - 25s 601ms/step - loss: 8.2357 - val_loss: 7.3863\n",
            "Epoch 9/10\n",
            "42/42 [==============================] - 25s 604ms/step - loss: 6.9795 - val_loss: 7.1481\n",
            "Epoch 10/10\n",
            "42/42 [==============================] - 25s 605ms/step - loss: 7.4777 - val_loss: 8.3394\n"
          ],
          "name": "stdout"
        },
        {
          "output_type": "execute_result",
          "data": {
            "text/plain": [
              "<tensorflow.python.keras.callbacks.History at 0x7f17e61433d0>"
            ]
          },
          "metadata": {
            "tags": []
          },
          "execution_count": 25
        }
      ]
    },
    {
      "cell_type": "code",
      "metadata": {
        "colab": {
          "base_uri": "https://localhost:8080/"
        },
        "id": "_V3yJtxHquVT",
        "outputId": "abbb55c3-60cf-4259-9c4b-3242fa834910"
      },
      "source": [
        "model.evaluate(test_generator, verbose = 1)"
      ],
      "execution_count": null,
      "outputs": [
        {
          "output_type": "stream",
          "text": [
            "14/14 [==============================] - 7s 493ms/step - loss: 7.3223 - accuracy: 0.5198\n"
          ],
          "name": "stdout"
        },
        {
          "output_type": "execute_result",
          "data": {
            "text/plain": [
              "[7.261542797088623, 0.523809552192688]"
            ]
          },
          "metadata": {
            "tags": []
          },
          "execution_count": 35
        }
      ]
    },
    {
      "cell_type": "code",
      "metadata": {
        "id": "dTlE3Tifup1c"
      },
      "source": [
        ""
      ],
      "execution_count": null,
      "outputs": []
    }
  ]
}