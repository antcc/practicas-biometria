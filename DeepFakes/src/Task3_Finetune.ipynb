{
 "cells": [
  {
   "cell_type": "code",
   "execution_count": null,
   "metadata": {
    "id": "sj2BVdZFaASv"
   },
   "outputs": [],
   "source": [
    "# Directorio de trabajo\n",
    "import sys\n",
    "import os\n",
    "from google.colab import drive\n",
    "drive.mount(\"/content/drive\", force_remount = True)\n",
    "DIR = \"/content/drive/My Drive/bio/\"\n",
    "\n",
    "%cd \"$DIR\""
   ]
  },
  {
   "cell_type": "code",
   "execution_count": 76,
   "metadata": {
    "colab": {
     "base_uri": "https://localhost:8080/"
    },
    "id": "kbY3sDukaBou",
    "outputId": "d026d9c1-4afb-4681-c158-07957d2eed39"
   },
   "outputs": [
    {
     "name": "stdout",
     "output_type": "stream",
     "text": [
      "The autoreload extension is already loaded. To reload it, use:\n",
      "  %reload_ext autoreload\n"
     ]
    }
   ],
   "source": [
    "import matplotlib.pyplot as plt\n",
    "import numpy as np\n",
    "\n",
    "import tensorflow as tf\n",
    "from tensorflow.keras.preprocessing.image import ImageDataGenerator\n",
    "\n",
    "from sklearn.metrics import plot_roc_curve\n",
    "\n",
    "%matplotlib inline\n",
    "%load_ext autoreload\n",
    "%autoreload 2\n",
    "\n",
    "seed = 2021"
   ]
  },
  {
   "cell_type": "code",
   "execution_count": 3,
   "metadata": {
    "id": "7rsTjm-0NKMP"
   },
   "outputs": [],
   "source": [
    "device_name = tf.test.gpu_device_name()\n",
    "if device_name != '/device:GPU:0':\n",
    "    raise SystemError('GPU device not found')\n",
    "_ = tf.device('/device:GPU:0')"
   ]
  },
  {
   "cell_type": "code",
   "execution_count": 4,
   "metadata": {
    "id": "RkEvAoDZd45K"
   },
   "outputs": [],
   "source": [
    "train_dir = 'UADFV+TIMIT_faces_training/'\n",
    "test_dir = 'CelebDF-Test/'\n",
    "top_model_weights = 'models/top-model.h5'\n",
    "target_size = (160, 160)\n",
    "input_shape = (160, 160, 3)"
   ]
  },
  {
   "cell_type": "code",
   "execution_count": 116,
   "metadata": {
    "colab": {
     "base_uri": "https://localhost:8080/"
    },
    "id": "vSeHp263hpwf",
    "outputId": "e425cc1c-43cf-40fe-f719-869f69a6d0b3"
   },
   "outputs": [
    {
     "name": "stdout",
     "output_type": "stream",
     "text": [
      "Found 1829 images belonging to 2 classes.\n",
      "Found 600 images belonging to 2 classes.\n"
     ]
    }
   ],
   "source": [
    "train_datagen = ImageDataGenerator(\n",
    "    rescale=1./255,\n",
    "    horizontal_flip=True,\n",
    "    shear_range=0.2,\n",
    "    zoom_range=0.2,\n",
    "    rotation_range=20,\n",
    "    preprocessing_function=tf.keras.applications.vgg19.preprocess_input\n",
    ")\n",
    "\n",
    "test_datagen = ImageDataGenerator(\n",
    "    rescale=1./255,\n",
    "    preprocessing_function=tf.keras.applications.vgg19.preprocess_input\n",
    ")\n",
    "\n",
    "train_data = train_datagen.flow_from_directory(\n",
    "    directory=train_dir,\n",
    "    class_mode='binary',\n",
    "    batch_size=16,\n",
    "    seed=seed,\n",
    "    target_size=target_size,\n",
    ")\n",
    "\n",
    "test_data = test_datagen.flow_from_directory(\n",
    "    directory=test_dir,\n",
    "    class_mode='binary',\n",
    "    batch_size=16,\n",
    "    shuffle = False,\n",
    "    seed=seed,\n",
    "    target_size=target_size,\n",
    ")"
   ]
  },
  {
   "cell_type": "code",
   "execution_count": 109,
   "metadata": {
    "colab": {
     "base_uri": "https://localhost:8080/"
    },
    "id": "9eNGuwP7_nvX",
    "outputId": "48acf136-323f-4742-8552-3c68698f480e"
   },
   "outputs": [
    {
     "name": "stdout",
     "output_type": "stream",
     "text": [
      "Model: \"model_17\"\n",
      "_________________________________________________________________\n",
      "Layer (type)                 Output Shape              Param #   \n",
      "=================================================================\n",
      "input_19 (InputLayer)        [(None, 160, 160, 3)]     0         \n",
      "_________________________________________________________________\n",
      "block1_conv1 (Conv2D)        (None, 160, 160, 64)      1792      \n",
      "_________________________________________________________________\n",
      "block1_conv2 (Conv2D)        (None, 160, 160, 64)      36928     \n",
      "_________________________________________________________________\n",
      "block1_pool (MaxPooling2D)   (None, 80, 80, 64)        0         \n",
      "_________________________________________________________________\n",
      "block2_conv1 (Conv2D)        (None, 80, 80, 128)       73856     \n",
      "_________________________________________________________________\n",
      "block2_conv2 (Conv2D)        (None, 80, 80, 128)       147584    \n",
      "_________________________________________________________________\n",
      "block2_pool (MaxPooling2D)   (None, 40, 40, 128)       0         \n",
      "_________________________________________________________________\n",
      "block3_conv1 (Conv2D)        (None, 40, 40, 256)       295168    \n",
      "_________________________________________________________________\n",
      "block3_conv2 (Conv2D)        (None, 40, 40, 256)       590080    \n",
      "_________________________________________________________________\n",
      "block3_conv3 (Conv2D)        (None, 40, 40, 256)       590080    \n",
      "_________________________________________________________________\n",
      "block3_conv4 (Conv2D)        (None, 40, 40, 256)       590080    \n",
      "_________________________________________________________________\n",
      "block3_pool (MaxPooling2D)   (None, 20, 20, 256)       0         \n",
      "_________________________________________________________________\n",
      "block4_conv1 (Conv2D)        (None, 20, 20, 512)       1180160   \n",
      "_________________________________________________________________\n",
      "block4_conv2 (Conv2D)        (None, 20, 20, 512)       2359808   \n",
      "_________________________________________________________________\n",
      "block4_conv3 (Conv2D)        (None, 20, 20, 512)       2359808   \n",
      "_________________________________________________________________\n",
      "block4_conv4 (Conv2D)        (None, 20, 20, 512)       2359808   \n",
      "_________________________________________________________________\n",
      "block4_pool (MaxPooling2D)   (None, 10, 10, 512)       0         \n",
      "_________________________________________________________________\n",
      "block5_conv1 (Conv2D)        (None, 10, 10, 512)       2359808   \n",
      "_________________________________________________________________\n",
      "block5_conv2 (Conv2D)        (None, 10, 10, 512)       2359808   \n",
      "_________________________________________________________________\n",
      "block5_conv3 (Conv2D)        (None, 10, 10, 512)       2359808   \n",
      "_________________________________________________________________\n",
      "block5_conv4 (Conv2D)        (None, 10, 10, 512)       2359808   \n",
      "_________________________________________________________________\n",
      "block5_pool (MaxPooling2D)   (None, 5, 5, 512)         0         \n",
      "_________________________________________________________________\n",
      "global_average_pooling2d_18  (None, 512)               0         \n",
      "_________________________________________________________________\n",
      "dense_46 (Dense)             (None, 512)               262656    \n",
      "_________________________________________________________________\n",
      "dropout_28 (Dropout)         (None, 512)               0         \n",
      "_________________________________________________________________\n",
      "dense_47 (Dense)             (None, 256)               131328    \n",
      "_________________________________________________________________\n",
      "dropout_29 (Dropout)         (None, 256)               0         \n",
      "_________________________________________________________________\n",
      "dense_48 (Dense)             (None, 1)                 257       \n",
      "=================================================================\n",
      "Total params: 20,418,625\n",
      "Trainable params: 394,241\n",
      "Non-trainable params: 20,024,384\n",
      "_________________________________________________________________\n"
     ]
    }
   ],
   "source": [
    "from keras.models import Sequential\n",
    "from keras.layers import Conv2D, MaxPooling2D\n",
    "from keras.layers import Dropout, Flatten, Dense\n",
    "\n",
    "# Load pre-trained model\n",
    "base_model = tf.keras.applications.VGG19(\n",
    "    include_top=False,\n",
    "    weights=\"imagenet\",\n",
    "    input_shape=input_shape,\n",
    "    pooling='avg',\n",
    ")\n",
    "base_model.trainable = False\n",
    "\n",
    "x = base_model.output\n",
    "\n",
    "# Create top model\n",
    "x = Dense(512, activation='relu')(x)\n",
    "x = Dropout(0.25)(x)\n",
    "x = Dense(256, activation='relu')(x)\n",
    "x = Dropout(0.5)(x)\n",
    "outputs = Dense(1, activation='sigmoid')(x)\n",
    "\n",
    "model = tf.keras.Model(base_model.input, outputs)\n",
    "\n",
    "model.summary()"
   ]
  },
  {
   "cell_type": "code",
   "execution_count": 110,
   "metadata": {
    "id": "K0F-64yHAviz"
   },
   "outputs": [],
   "source": [
    "# Compile model\n",
    "metric = tf.keras.metrics.AUC(name='auc')\n",
    "loss = 'binary_crossentropy'\n",
    "\n",
    "model.compile(loss=loss,\n",
    "              optimizer='rmsprop',\n",
    "              metrics=[metric])"
   ]
  },
  {
   "cell_type": "markdown",
   "metadata": {
    "id": "QSafJpfWu18S"
   },
   "source": [
    "## Step 1: train only top model"
   ]
  },
  {
   "cell_type": "code",
   "execution_count": 111,
   "metadata": {
    "colab": {
     "base_uri": "https://localhost:8080/"
    },
    "id": "cTsekmgUJcZq",
    "outputId": "5ad3c8d3-369b-457e-ab2b-a4a37d1f858e"
   },
   "outputs": [
    {
     "name": "stdout",
     "output_type": "stream",
     "text": [
      "Epoch 1/3\n",
      "115/115 [==============================] - 15s 123ms/step - loss: 0.7507 - auc: 0.5120\n",
      "Epoch 2/3\n",
      "115/115 [==============================] - 14s 122ms/step - loss: 0.6776 - auc: 0.6005\n",
      "Epoch 3/3\n",
      "115/115 [==============================] - 14s 121ms/step - loss: 0.6204 - auc: 0.6847\n"
     ]
    }
   ],
   "source": [
    "history = model.fit(\n",
    "    train_data,\n",
    "    epochs=3,\n",
    ")"
   ]
  },
  {
   "cell_type": "markdown",
   "metadata": {
    "id": "LnLcbeAFu6d7"
   },
   "source": [
    "## Step 2: unfreeze some layers and train with small learning rate"
   ]
  },
  {
   "cell_type": "code",
   "execution_count": 112,
   "metadata": {
    "id": "q4L5S_DHPOzI"
   },
   "outputs": [],
   "source": [
    "# Unfreeze some of the base model layers\n",
    "for layer in base_model.layers[17:]:\n",
    "    layer.trainable = True\n",
    "\n",
    "# Compile model\n",
    "metric = tf.keras.metrics.AUC(name='auc')\n",
    "sgd=tf.keras.optimizers.SGD(lr=5e-4, momentum=0.9)\n",
    "\n",
    "model.compile(loss='binary_crossentropy',\n",
    "              optimizer=sgd,\n",
    "              metrics=[metric])"
   ]
  },
  {
   "cell_type": "code",
   "execution_count": 113,
   "metadata": {
    "colab": {
     "base_uri": "https://localhost:8080/"
    },
    "id": "nt36khDKVgi6",
    "outputId": "e206ef23-b6ae-4b8b-e523-d054e73b1728"
   },
   "outputs": [
    {
     "name": "stdout",
     "output_type": "stream",
     "text": [
      "Epoch 1/15\n",
      "115/115 [==============================] - 15s 127ms/step - loss: 0.5782 - auc: 0.7457\n",
      "Epoch 2/15\n",
      "115/115 [==============================] - 14s 125ms/step - loss: 0.4016 - auc: 0.8972\n",
      "Epoch 3/15\n",
      "115/115 [==============================] - 15s 126ms/step - loss: 0.3240 - auc: 0.9368\n",
      "Epoch 4/15\n",
      "115/115 [==============================] - 14s 125ms/step - loss: 0.1990 - auc: 0.9752\n",
      "Epoch 5/15\n",
      "115/115 [==============================] - 15s 129ms/step - loss: 0.1747 - auc: 0.9808\n",
      "Epoch 6/15\n",
      "115/115 [==============================] - 14s 125ms/step - loss: 0.1233 - auc: 0.9908\n",
      "Epoch 7/15\n",
      "115/115 [==============================] - 15s 131ms/step - loss: 0.0964 - auc: 0.9948\n",
      "Epoch 8/15\n",
      "115/115 [==============================] - 15s 126ms/step - loss: 0.1334 - auc: 0.9889\n",
      "Epoch 9/15\n",
      "115/115 [==============================] - 14s 125ms/step - loss: 0.0663 - auc: 0.9966\n",
      "Epoch 10/15\n",
      "115/115 [==============================] - 15s 127ms/step - loss: 0.1631 - auc: 0.9832\n",
      "Epoch 11/15\n",
      "115/115 [==============================] - 14s 125ms/step - loss: 0.0719 - auc: 0.9971\n",
      "Epoch 12/15\n",
      "115/115 [==============================] - 15s 127ms/step - loss: 0.0673 - auc: 0.9953\n",
      "Epoch 13/15\n",
      "115/115 [==============================] - 14s 125ms/step - loss: 0.0494 - auc: 0.9984\n",
      "Epoch 14/15\n",
      "115/115 [==============================] - 14s 125ms/step - loss: 0.0248 - auc: 0.9997\n",
      "Epoch 15/15\n",
      "115/115 [==============================] - 15s 126ms/step - loss: 0.0357 - auc: 0.9990\n"
     ]
    }
   ],
   "source": [
    "history = model.fit(\n",
    "    train_data,\n",
    "    epochs=15,\n",
    ")"
   ]
  },
  {
   "cell_type": "code",
   "execution_count": 118,
   "metadata": {
    "colab": {
     "base_uri": "https://localhost:8080/"
    },
    "id": "slNuaGViS16W",
    "outputId": "640d7a15-3988-45ab-fa6e-8f8ef83cc96d"
   },
   "outputs": [
    {
     "name": "stdout",
     "output_type": "stream",
     "text": [
      "38/38 [==============================] - 2s 49ms/step - loss: 1.1641 - auc: 0.8107\n"
     ]
    }
   ],
   "source": [
    "_ , auc_test = model.evaluate(test_data)"
   ]
  },
  {
   "cell_type": "code",
   "execution_count": 119,
   "metadata": {
    "colab": {
     "base_uri": "https://localhost:8080/",
     "height": 279
    },
    "id": "Tr7-S5I-OTe6",
    "outputId": "faed0436-45c5-4a17-bfb6-0ee93c331242"
   },
   "outputs": [
    {
     "data": {
      "image/png": "[encoded data removed]",
      "text/plain": [
       "<Figure size 432x288 with 1 Axes>"
      ]
     },
     "metadata": {
      "needs_background": "light",
      "tags": []
     },
     "output_type": "display_data"
    }
   ],
   "source": [
    "from sklearn.metrics import roc_curve\n",
    "\n",
    "y_pred = model.predict(test_data).ravel()\n",
    "fpr, tpr, _ = roc_curve(test_data.classes, y_pred)\n",
    "plt.plot(fpr, tpr, label=f\"AUC = {auc_test:.2f}\")\n",
    "plt.xlabel(\"False Positive Rate\")\n",
    "plt.ylabel(\"True Positive Rate\")\n",
    "plt.legend()\n",
    "plt.show()"
   ]
  }
 ],
 "metadata": {
  "accelerator": "GPU",
  "colab": {
   "collapsed_sections": [],
   "name": "Task3_Finetune.ipynb",
   "provenance": []
  },
  "kernelspec": {
   "display_name": "Python 3",
   "language": "python",
   "name": "python3"
  },
  "language_info": {
   "codemirror_mode": {
    "name": "ipython",
    "version": 3
   },
   "file_extension": ".py",
   "mimetype": "text/x-python",
   "name": "python",
   "nbconvert_exporter": "python",
   "pygments_lexer": "ipython3",
   "version": "3.9.2"
  },
  "latex_envs": {
   "LaTeX_envs_menu_present": false,
   "autoclose": true,
   "autocomplete": false,
   "bibliofile": "bibliography.bib",
   "cite_by": "apalike",
   "current_citInitial": 1,
   "eqLabelWithNumbers": true,
   "eqNumInitial": 1,
   "hotkeys": {
    "equation": "Ctrl-E",
    "itemize": "Ctrl-I"
   },
   "labels_anchors": false,
   "latex_user_defs": false,
   "report_style_numbering": false,
   "user_envs_cfg": false
  },
  "toc": {
   "base_numbering": 1,
   "nav_menu": {},
   "number_sections": true,
   "sideBar": true,
   "skip_h1_title": false,
   "title_cell": "Table of Contents",
   "title_sidebar": "Contents",
   "toc_cell": false,
   "toc_position": {},
   "toc_section_display": true,
   "toc_window_display": false
  },
  "varInspector": {
   "cols": {
    "lenName": 16,
    "lenType": 16,
    "lenVar": 40
   },
   "kernels_config": {
    "python": {
     "delete_cmd_postfix": "",
     "delete_cmd_prefix": "del ",
     "library": "var_list.py",
     "varRefreshCmd": "print(var_dic_list())"
    },
    "r": {
     "delete_cmd_postfix": ") ",
     "delete_cmd_prefix": "rm(",
     "library": "var_list.r",
     "varRefreshCmd": "cat(var_dic_list()) "
    }
   },
   "types_to_exclude": [
    "module",
    "function",
    "builtin_function_or_method",
    "instance",
    "_Feature"
   ],
   "window_display": false
  }
 },
 "nbformat": 4,
 "nbformat_minor": 1
}
