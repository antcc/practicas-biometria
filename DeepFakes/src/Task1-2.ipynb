{
 "cells": [
  {
   "cell_type": "markdown",
   "metadata": {
    "id": "nEVXPlDt5JYC"
   },
   "source": [
    "# Task 1"
   ]
  },
  {
   "cell_type": "code",
   "execution_count": null,
   "metadata": {
    "deletable": false,
    "editable": false,
    "id": "xeyZGmUE5JYL",
    "run_control": {
     "frozen": true
    }
   },
   "outputs": [],
   "source": [
    "# Directorio de trabajo\n",
    "import sys\n",
    "import os\n",
    "from google.colab import drive\n",
    "drive.mount(\"/content/drive\", force_remount = True)\n",
    "DIR = \"/content/drive/My Drive/bio/\"\n",
    "\n",
    "%cd \"$DIR\"\n",
    "%pip install mtcnn"
   ]
  },
  {
   "cell_type": "code",
   "execution_count": 2,
   "metadata": {
    "ExecuteTime": {
     "end_time": "2021-03-19T18:59:53.297864Z",
     "start_time": "2021-03-19T18:59:53.211310Z"
    },
    "id": "GiadkRNUXxzK"
   },
   "outputs": [],
   "source": [
    "import matplotlib.pyplot as plt\n",
    "import numpy as np\n",
    "import cv2\n",
    "from mtcnn import MTCNN\n",
    "import time\n",
    "import dlib\n",
    "from tqdm.notebook import tqdm\n",
    "import tensorflow as tf\n",
    "from tensorflow.keras.preprocessing.image import ImageDataGenerator\n",
    "from sklearn.metrics import plot_roc_curve\n",
    "\n",
    "from warnings import simplefilter\n",
    "from sklearn.exceptions import ConvergenceWarning\n",
    "\n",
    "%matplotlib inline\n",
    "%load_ext autoreload\n",
    "%autoreload 2\n",
    "\n",
    "seed = 2021\n",
    "rng = np.random.default_rng(seed=seed)\n",
    "simplefilter(\"ignore\", category=ConvergenceWarning)"
   ]
  },
  {
   "cell_type": "code",
   "execution_count": 3,
   "metadata": {
    "id": "9uxG-fU9m4h-"
   },
   "outputs": [],
   "source": [
    "device_name = tf.test.gpu_device_name()\n",
    "if device_name != '/device:GPU:0':\n",
    "    raise SystemError('GPU device not found')\n",
    "_ = tf.device('/device:GPU:0')"
   ]
  },
  {
   "cell_type": "code",
   "execution_count": 4,
   "metadata": {
    "ExecuteTime": {
     "end_time": "2021-03-19T19:00:05.561985Z",
     "start_time": "2021-03-19T19:00:05.475265Z"
    },
    "id": "mLCwo9WZiYL1"
   },
   "outputs": [],
   "source": [
    "train_dir = 'UADFV/development/'\n",
    "test_dir = 'UADFV/evaluation/'\n",
    "target_size = (768, 768)"
   ]
  },
  {
   "cell_type": "code",
   "execution_count": 5,
   "metadata": {
    "ExecuteTime": {
     "end_time": "2021-03-19T19:03:47.001821Z",
     "start_time": "2021-03-19T19:03:46.896580Z"
    },
    "colab": {
     "base_uri": "https://localhost:8080/"
    },
    "id": "4sMAp_kJhrxE",
    "outputId": "c78da67c-7a45-49ff-fa46-b47a24ea554e"
   },
   "outputs": [
    {
     "name": "stdout",
     "output_type": "stream",
     "text": [
      "Found 758 images belonging to 2 classes.\n",
      "Found 210 images belonging to 2 classes.\n"
     ]
    }
   ],
   "source": [
    "train_datagen = ImageDataGenerator()\n",
    "test_datagen = ImageDataGenerator()\n",
    "\n",
    "train_data = train_datagen.flow_from_directory(\n",
    "    directory=train_dir,\n",
    "    class_mode='binary',\n",
    "    batch_size=1,\n",
    "    seed=seed,\n",
    "    target_size=target_size\n",
    ")\n",
    "\n",
    "test_data = test_datagen.flow_from_directory(\n",
    "    directory=test_dir,\n",
    "    class_mode='binary',\n",
    "    batch_size=1,\n",
    "    seed=seed,\n",
    "    target_size=target_size,\n",
    ")\n",
    "\n",
    "num_train = train_data.samples\n",
    "num_test = test_data.samples"
   ]
  },
  {
   "cell_type": "code",
   "execution_count": 6,
   "metadata": {
    "ExecuteTime": {
     "end_time": "2021-03-19T19:03:46.172830Z",
     "start_time": "2021-03-19T19:03:45.319952Z"
    },
    "id": "7Cov0SF25JYV"
   },
   "outputs": [],
   "source": [
    "face_detector = MTCNN()\n",
    "sp68 = dlib.shape_predictor('models/shape_predictor_68_face_landmarks.dat')"
   ]
  },
  {
   "cell_type": "code",
   "execution_count": 7,
   "metadata": {
    "ExecuteTime": {
     "end_time": "2021-03-19T19:03:55.673614Z",
     "start_time": "2021-03-19T19:03:55.599023Z"
    },
    "id": "z_-Z6qZ85JYW"
   },
   "outputs": [],
   "source": [
    "def preprocess(im, sigma):\n",
    "    if rng.random() < 0.5:\n",
    "        kernel_size = rng.choice([1, 3, 5, 7])\n",
    "        im_noise = cv2.GaussianBlur(im, (kernel_size, kernel_size), 0)\n",
    "    else:\n",
    "        std = sigma*rng.random()\n",
    "        noise = rng.normal(0, std, im.shape[:2])\n",
    "        im_noise = im + np.tile(noise[:, :, None], (1, 1, 3))\n",
    "    \n",
    "    return im_noise\n",
    "\n",
    "\n",
    "def shape_to_np(shape):\n",
    "    number_of_points = shape.num_parts\n",
    "    points = np.zeros((number_of_points, 2), dtype=np.int32)\n",
    "\n",
    "    for i in range(number_of_points):\n",
    "        points[i] = [shape.part(i).x, shape.part(i).y]\n",
    "\n",
    "    return points\n",
    "\n",
    "\n",
    "def get_crops_landmarks(im, sigma, blur, verbose):\n",
    "    \"\"\"\n",
    "    Detects faces and landmarks in image, crops image to face region.\n",
    "    We assume there is only one face on each dataset.\n",
    "    \"\"\"\n",
    "    img = im.reshape(*im.shape[1:]).astype('uint8')\n",
    "\n",
    "    dets = face_detector.detect_faces(img)\n",
    "    num_faces = len(dets)\n",
    "\n",
    "    if num_faces == 0:\n",
    "        if verbose:\n",
    "            print(\"[features] No face detected\")\n",
    "            plt.imshow(img)\n",
    "            plt.show()\n",
    "        return None, None\n",
    "\n",
    "    # Only one face\n",
    "    x1, y1, width, height = dets[0]['box']\n",
    "    x1, y1 = abs(x1), abs(y1)\n",
    "    x2, y2 = x1 + width, y1 + height\n",
    "    face = dlib.rectangle(x1, y1, x2, y2)\n",
    "\n",
    "    # Add noise\n",
    "    if blur:\n",
    "        img_prec = preprocess(img, sigma=sigma).astype('uint8')\n",
    "    else:\n",
    "        img_prec= img\n",
    "\n",
    "    # detect landmarks and transform to np array\n",
    "    landmarks = shape_to_np(sp68(img_prec, face))\n",
    "    gray = cv2.cvtColor(img_prec, cv2.COLOR_RGB2GRAY)\n",
    "    face_landmarks = gray[landmarks[:, 1], landmarks[:, 0]]\n",
    "    \n",
    "    # normalize landmarks\n",
    "    face_landmarks = face_landmarks.astype(np.float64)\n",
    "    face_landmarks -= face_landmarks.mean(axis=0)\n",
    "\n",
    "    return landmarks, face_landmarks\n",
    "\n",
    "\n",
    "def extract_features(\n",
    "    data_flow, \n",
    "    num_images, \n",
    "    sigma=3,\n",
    "    blur=False,\n",
    "    verbose=0,\n",
    "    skip=True\n",
    "):\n",
    "    X = np.zeros((num_images, 68*3))  # 68 landmarks\n",
    "    y = np.zeros(num_images,)\n",
    "\n",
    "    i = 0\n",
    "    for im, label in tqdm(data_flow):\n",
    "        landmarks, face_landmarks = \\\n",
    "            get_crops_landmarks(\n",
    "                im, sigma=sigma, \n",
    "                blur=blur, verbose=verbose)\n",
    "\n",
    "        if landmarks is None:\n",
    "            if skip:\n",
    "                continue  # skip sample \n",
    "            else:\n",
    "                if i > 0:\n",
    "                    prev_labels = y[:i] == label\n",
    "                    if np.sum(prev_labels) > 0:\n",
    "                        sz = prev_labels.size\n",
    "                        impute = sz - 1 - np.argmax(prev_labels[::-1])\n",
    "                        X[i] = X[impute]\n",
    "                y[i] = label\n",
    "                \n",
    "        else:\n",
    "            X[i] = np.concatenate((landmarks.flatten(),\n",
    "                                   face_landmarks.flatten()))\n",
    "            y[i] = label\n",
    "\n",
    "        i += 1\n",
    "        if i >= num_images:\n",
    "            break\n",
    "\n",
    "    if skip:\n",
    "        detected = X.sum(axis=1) > 0\n",
    "        X = X[detected]\n",
    "        y = y[detected]\n",
    "        \n",
    "    return X, y"
   ]
  },
  {
   "cell_type": "code",
   "execution_count": null,
   "metadata": {
    "ExecuteTime": {
     "end_time": "2021-03-19T19:04:24.363849Z",
     "start_time": "2021-03-19T19:03:56.784192Z"
    },
    "id": "LnZm54I75JYX"
   },
   "outputs": [],
   "source": [
    "X_train, y_train = extract_features(train_data, num_train, blur=True)\n",
    "print(\"X_train:\", X_train.shape)\n",
    "X_test, y_test = extract_features(test_data, num_test, skip=False)\n",
    "print(\"X_test:\", X_test.shape)"
   ]
  },
  {
   "cell_type": "code",
   "execution_count": null,
   "metadata": {
    "ExecuteTime": {
     "end_time": "2021-03-19T18:39:17.611185Z",
     "start_time": "2021-03-19T18:39:17.571810Z"
    },
    "deletable": false,
    "editable": false,
    "id": "K_7YUY_s5JYY",
    "run_control": {
     "frozen": true
    }
   },
   "outputs": [],
   "source": [
    "# Save data\n",
    "np.savez(\n",
    "    'data1', \n",
    "    X_train=X_train, \n",
    "    y_train=y_train,\n",
    "    X_test=X_test, \n",
    "    y_test=y_test\n",
    ")"
   ]
  },
  {
   "cell_type": "code",
   "execution_count": 8,
   "metadata": {
    "ExecuteTime": {
     "end_time": "2021-03-19T16:12:25.589100Z",
     "start_time": "2021-03-19T16:12:25.527552Z"
    },
    "deletable": false,
    "editable": false,
    "id": "jcqf9DuT5JYY",
    "run_control": {
     "frozen": true
    }
   },
   "outputs": [],
   "source": [
    "# Load data if needed\n",
    "data1 = np.load('data1.npz')\n",
    "X_train, y_train = data1['X_train'], data1['y_train']\n",
    "X_test, y_test = data1['X_test'], data1['y_test']"
   ]
  },
  {
   "cell_type": "code",
   "execution_count": 11,
   "metadata": {
    "ExecuteTime": {
     "end_time": "2021-03-19T18:39:18.019955Z",
     "start_time": "2021-03-19T18:39:17.922587Z"
    },
    "id": "0KtZfTic5JYa"
   },
   "outputs": [],
   "source": [
    "from sklearn.svm import SVC, LinearSVC\n",
    "from sklearn.preprocessing import StandardScaler\n",
    "from sklearn.pipeline import Pipeline\n",
    "from sklearn.linear_model import LogisticRegression\n",
    "from sklearn.model_selection import GridSearchCV, PredefinedSplit, StratifiedKFold\n",
    "from sklearn.neural_network import MLPClassifier\n",
    "from sklearn.decomposition import PCA\n",
    "\n",
    "# Models\n",
    "models = [\n",
    "    # SVC + RBF\n",
    "    (Pipeline([\n",
    "        ('standardize', StandardScaler()),\n",
    "        ('trf', None),\n",
    "        ('standardize2', None),\n",
    "        ('clf', SVC(kernel='rbf', random_state=seed))]),\n",
    "     \"SVC\"),\n",
    "    # SVC linear\n",
    "    (Pipeline([\n",
    "        ('standardize', StandardScaler()),\n",
    "        ('trf', None),\n",
    "        ('standardize2', None),\n",
    "        ('clf', LinearSVC(dual=False, random_state=seed))]),\n",
    "     \"L-SVC\"),\n",
    "    # MLP\n",
    "    (Pipeline([\n",
    "        ('standardize', StandardScaler()),\n",
    "        ('trf', None),\n",
    "        ('standardize2', None),\n",
    "        ('clf', MLPClassifier(max_iter=500,\n",
    "                              solver='lbfgs',\n",
    "                              random_state=seed))]),\n",
    "     \"MLP\"),\n",
    "    # Logistic Regression\n",
    "    (Pipeline([\n",
    "        ('standardize', StandardScaler()),\n",
    "        ('trf', None),\n",
    "        ('standardize2', None),\n",
    "        ('clf', LogisticRegression(max_iter=500,\n",
    "                                   random_state=seed))]),\n",
    "     \"LR\")\n",
    "]\n",
    "\n",
    "params_lst = [\n",
    "    # SVC + RBF\n",
    "    [\n",
    "        # No transformation\n",
    "        {\n",
    "            \"clf__gamma\": np.logspace(-4, 0, 10),\n",
    "            \"clf__C\": np.logspace(-2, 2, 10)\n",
    "        },\n",
    "        # PCA\n",
    "        {\n",
    "            \"clf__gamma\": np.logspace(-4, 0, 10),\n",
    "            \"clf__C\": np.logspace(-2, 2, 10),\n",
    "            \"trf\": [PCA()],\n",
    "            \"trf__n_components\": [0.9, 0.95, 0.99],\n",
    "            \"standardize2\": [StandardScaler()]\n",
    "        },\n",
    "    ],\n",
    "    # SVM Linear\n",
    "    [\n",
    "        # No transformation\n",
    "        {\n",
    "            \"clf__C\": np.logspace(-3, 3, 30),\n",
    "        },\n",
    "        # PCA\n",
    "        {\n",
    "            \"clf__C\": np.logspace(-3, 3, 30),\n",
    "            \"trf\": [PCA()],\n",
    "            \"trf__n_components\": [0.9, 0.95, 0.99],\n",
    "            \"standardize2\": [StandardScaler()]\n",
    "        },\n",
    "    ],\n",
    "    # MLP\n",
    "    [\n",
    "        # No transformation\n",
    "        {\n",
    "            \"clf__hidden_layer_sizes\": [(100,), (50, 50,), (100, 100,), (50,)],\n",
    "            \"clf__alpha\": np.logspace(-2, 2, 10),\n",
    "        },\n",
    "        # PCA\n",
    "        {\n",
    "            \"clf__hidden_layer_sizes\": [(100,), (50, 50,), (100, 100,), (50,)],\n",
    "            \"clf__alpha\": np.logspace(-2, 2, 10),\n",
    "            \"trf\": [PCA()],\n",
    "            \"trf__n_components\": [0.9, 0.95, 0.99],\n",
    "            \"standardize2\": [StandardScaler()]\n",
    "        },\n",
    "    ],\n",
    "    # Logistic Regression\n",
    "    [\n",
    "        # No transformation\n",
    "        {\n",
    "            \"clf__C\": np.logspace(-1, 1, 20),\n",
    "            \"clf__solver\": ['lbfgs', 'liblinear']\n",
    "        },\n",
    "        # PCA\n",
    "        {\n",
    "            \"clf__C\": np.logspace(-1, 1, 20),\n",
    "            \"clf__solver\": ['lbfgs', 'sag'],\n",
    "            \"trf\": [PCA()],\n",
    "            \"trf__n_components\": [0.9, 0.95, 0.99],\n",
    "            \"standardize2\": [StandardScaler()]\n",
    "        },\n",
    "    ],\n",
    "]"
   ]
  },
  {
   "cell_type": "code",
   "execution_count": 12,
   "metadata": {
    "ExecuteTime": {
     "end_time": "2021-03-19T18:43:38.400269Z",
     "start_time": "2021-03-19T18:42:15.200363Z"
    },
    "colab": {
     "base_uri": "https://localhost:8080/"
    },
    "id": "Ljzz4T4m5JYb",
    "outputId": "c1f4b05f-8781-4c99-fe1f-04c20660e932"
   },
   "outputs": [
    {
     "name": "stdout",
     "output_type": "stream",
     "text": [
      "[SVC] AUC Validation: 0.9937\n",
      "[SVC] Fit time: 59.9009s\n",
      "[SVC] Best classifier:\n",
      "Pipeline(memory=None,\n",
      "         steps=[('standardize',\n",
      "                 StandardScaler(copy=True, with_mean=True, with_std=True)),\n",
      "                ('trf', None), ('standardize2', None),\n",
      "                ('clf',\n",
      "                 SVC(C=1.6681005372000592, break_ties=False, cache_size=200,\n",
      "                     class_weight=None, coef0=0.0,\n",
      "                     decision_function_shape='ovr', degree=3,\n",
      "                     gamma=0.016681005372000592, kernel='rbf', max_iter=-1,\n",
      "                     probability=False, random_state=2021, shrinking=True,\n",
      "                     tol=0.001, verbose=False))],\n",
      "         verbose=False)\n",
      "[L-SVC] AUC Validation: 0.9186\n",
      "[L-SVC] Fit time: 4.5076s\n",
      "[L-SVC] Best classifier:\n",
      "Pipeline(memory=None,\n",
      "         steps=[('standardize',\n",
      "                 StandardScaler(copy=True, with_mean=True, with_std=True)),\n",
      "                ('trf', None), ('standardize2', None),\n",
      "                ('clf',\n",
      "                 LinearSVC(C=0.017433288221999882, class_weight=None,\n",
      "                           dual=False, fit_intercept=True, intercept_scaling=1,\n",
      "                           loss='squared_hinge', max_iter=1000,\n",
      "                           multi_class='ovr', penalty='l2', random_state=2021,\n",
      "                           tol=0.0001, verbose=0))],\n",
      "         verbose=False)\n",
      "[MLP] AUC Validation: 0.9883\n",
      "[MLP] Fit time: 396.3298s\n",
      "[MLP] Best classifier:\n",
      "Pipeline(memory=None,\n",
      "         steps=[('standardize',\n",
      "                 StandardScaler(copy=True, with_mean=True, with_std=True)),\n",
      "                ('trf', None), ('standardize2', None),\n",
      "                ('clf',\n",
      "                 MLPClassifier(activation='relu', alpha=0.21544346900318834,\n",
      "                               batch_size='auto', beta_1=0.9, beta_2=0.999,\n",
      "                               early_stopping=False, epsilon=1e-08,\n",
      "                               hidden_layer_sizes=(100, 100),\n",
      "                               learning_rate='constant',\n",
      "                               learning_rate_init=0.001, max_fun=15000,\n",
      "                               max_iter=500, momentum=0.9, n_iter_no_change=10,\n",
      "                               nesterovs_momentum=True, power_t=0.5,\n",
      "                               random_state=2021, shuffle=True, solver='lbfgs',\n",
      "                               tol=0.0001, validation_fraction=0.1,\n",
      "                               verbose=False, warm_start=False))],\n",
      "         verbose=False)\n",
      "[LR] AUC Validation: 0.9180\n",
      "[LR] Fit time: 10.1261s\n",
      "[LR] Best classifier:\n",
      "Pipeline(memory=None,\n",
      "         steps=[('standardize',\n",
      "                 StandardScaler(copy=True, with_mean=True, with_std=True)),\n",
      "                ('trf', None), ('standardize2', None),\n",
      "                ('clf',\n",
      "                 LogisticRegression(C=0.16237767391887217, class_weight=None,\n",
      "                                    dual=False, fit_intercept=True,\n",
      "                                    intercept_scaling=1, l1_ratio=None,\n",
      "                                    max_iter=500, multi_class='auto',\n",
      "                                    n_jobs=None, penalty='l2',\n",
      "                                    random_state=2021, solver='liblinear',\n",
      "                                    tol=0.0001, verbose=0, warm_start=False))],\n",
      "         verbose=False)\n"
     ]
    }
   ],
   "source": [
    "# Select features\n",
    "idx = np.arange(68*2, 68*3)\n",
    "\n",
    "# Set CV parameters\n",
    "folds = StratifiedKFold(\n",
    "    5,\n",
    "    shuffle=True,\n",
    "    random_state=seed\n",
    ")\n",
    "\n",
    "best_models = []\n",
    "best_auc_val = -1.0\n",
    "my_model = None\n",
    "for (model, name), params in zip(models, params_lst):\n",
    "    gs = GridSearchCV(\n",
    "        model,\n",
    "        params,\n",
    "        verbose=0,\n",
    "        scoring=\"roc_auc\",\n",
    "        cv=folds,\n",
    "        refit=True,\n",
    "        n_jobs=-1\n",
    "    )\n",
    "\n",
    "    start = time.time()\n",
    "    gs.fit(X_train[:, idx], y_train)\n",
    "    end = time.time() - start\n",
    "    best = gs.best_estimator_\n",
    "    auc_val = gs.best_score_\n",
    "\n",
    "    print(f\"[{name}] AUC Validation: {auc_val:.4f}\")\n",
    "    print(f\"[{name}] Fit time: {end:.4f}s\")\n",
    "    print(f\"[{name}] Best classifier:\")\n",
    "    print(best)\n",
    "\n",
    "    best_models.append(best)\n",
    "    \n",
    "    if auc_val > best_auc_val:\n",
    "        best_auc_val = auc_val\n",
    "        my_model = best"
   ]
  },
  {
   "cell_type": "code",
   "execution_count": 16,
   "metadata": {
    "ExecuteTime": {
     "end_time": "2021-03-19T18:44:13.559109Z",
     "start_time": "2021-03-19T18:44:12.581984Z"
    },
    "colab": {
     "base_uri": "https://localhost:8080/",
     "height": 296
    },
    "id": "iJKQ-kuC5JYc",
    "outputId": "07065a24-9e61-44d6-c1a8-e2071563ff04",
    "scrolled": true
   },
   "outputs": [
    {
     "name": "stdout",
     "output_type": "stream",
     "text": [
      "[SVC] Acc Test UADFV: 0.8667\n"
     ]
    },
    {
     "data": {
      "image/png": "[encoded data removed]",
      "text/plain": [
       "<Figure size 432x288 with 1 Axes>"
      ]
     },
     "metadata": {
      "needs_background": "light",
      "tags": []
     },
     "output_type": "display_data"
    }
   ],
   "source": [
    "# Evaluate our model on the UADFV test-set\n",
    "name = my_model['clf'].__class__.__name__\n",
    "acc_test = my_model.score(X_test[:, idx], y_test)\n",
    "print(f\"[{name}] Acc Test UADFV: {acc_test:.4f}\")\n",
    "plot_roc_curve(my_model, X_test[:, idx], y_test, name=name)\n",
    "plt.show()"
   ]
  },
  {
   "cell_type": "markdown",
   "metadata": {
    "id": "O25VvYPE5JYe"
   },
   "source": [
    "# Task 2"
   ]
  },
  {
   "cell_type": "code",
   "execution_count": null,
   "metadata": {
    "ExecuteTime": {
     "end_time": "2021-03-19T18:57:01.727137Z",
     "start_time": "2021-03-19T18:57:01.638665Z"
    },
    "colab": {
     "base_uri": "https://localhost:8080/"
    },
    "id": "3MZgyEdc5JYe",
    "outputId": "1249f204-520d-42bd-f84b-12473cf0f54b"
   },
   "outputs": [
    {
     "name": "stdout",
     "output_type": "stream",
     "text": [
      "Found 600 images belonging to 2 classes.\n"
     ]
    }
   ],
   "source": [
    "# Load Deleb-DF test data\n",
    "\n",
    "test_dir_2 = 'Celeb-DF/evaluation/'\n",
    "target_size_2 = (768, 768)\n",
    "\n",
    "test_datagen_2 = ImageDataGenerator()\n",
    "\n",
    "test_data_2 = test_datagen_2.flow_from_directory(\n",
    "    directory=test_dir_2,\n",
    "    class_mode='binary',\n",
    "    batch_size=1,\n",
    "    seed=seed,\n",
    "    target_size=target_size_2,\n",
    ")\n",
    "\n",
    "num_test_2 = test_data_2.samples"
   ]
  },
  {
   "cell_type": "code",
   "execution_count": null,
   "metadata": {
    "ExecuteTime": {
     "end_time": "2021-03-19T18:58:43.981028Z",
     "start_time": "2021-03-19T18:57:02.421596Z"
    },
    "id": "2PZqdaSY5JYe"
   },
   "outputs": [],
   "source": [
    "X_test_2, y_test_2 = extract_features(test_data_2, num_test_2, skip=False)\n",
    "print(\"X_test_2:\", X_test_2.shape)"
   ]
  },
  {
   "cell_type": "code",
   "execution_count": null,
   "metadata": {
    "id": "WzEx49D0MXnN"
   },
   "outputs": [],
   "source": [
    "# Save data\n",
    "np.savez('data2', X_test=X_test_2, y_test=y_test_2)"
   ]
  },
  {
   "cell_type": "code",
   "execution_count": 14,
   "metadata": {
    "id": "xYOzTT6rTJWx"
   },
   "outputs": [],
   "source": [
    "# Load data if needed\n",
    "data2 = np.load('data2.npz')\n",
    "X_test_2, y_test_2 = data2['X_test'], data2['y_test']"
   ]
  },
  {
   "cell_type": "code",
   "execution_count": 17,
   "metadata": {
    "ExecuteTime": {
     "end_time": "2021-03-19T18:58:50.806776Z",
     "start_time": "2021-03-19T18:58:49.866435Z"
    },
    "colab": {
     "base_uri": "https://localhost:8080/",
     "height": 296
    },
    "id": "QbS_m7sw5JYf",
    "outputId": "b6907450-8e86-4282-881d-0e1e306f8550"
   },
   "outputs": [
    {
     "name": "stdout",
     "output_type": "stream",
     "text": [
      "[SVC] Acc Test Celeb-DF: 0.5850\n"
     ]
    },
    {
     "data": {
      "image/png": "[encoded data removed]",
      "text/plain": [
       "<Figure size 432x288 with 1 Axes>"
      ]
     },
     "metadata": {
      "needs_background": "light",
      "tags": []
     },
     "output_type": "display_data"
    }
   ],
   "source": [
    "# Evaluate our model on the Celeb-DF test set\n",
    "name=my_model['clf'].__class__.__name__\n",
    "acc_test_2 = my_model.score(X_test_2[:, idx], y_test_2)\n",
    "print(f\"[{name}] Acc Test Celeb-DF: {acc_test_2:.4f}\")\n",
    "plot_roc_curve(my_model, X_test_2[:, idx], y_test_2, name=name)\n",
    "plt.show()"
   ]
  }
 ],
 "metadata": {
  "accelerator": "GPU",
  "colab": {
   "collapsed_sections": [],
   "name": "Task1-2.ipynb",
   "provenance": []
  },
  "kernelspec": {
   "display_name": "Python 3",
   "language": "python",
   "name": "python3"
  },
  "language_info": {
   "codemirror_mode": {
    "name": "ipython",
    "version": 3
   },
   "file_extension": ".py",
   "mimetype": "text/x-python",
   "name": "python",
   "nbconvert_exporter": "python",
   "pygments_lexer": "ipython3",
   "version": "3.9.2"
  },
  "latex_envs": {
   "LaTeX_envs_menu_present": false,
   "autoclose": true,
   "autocomplete": false,
   "bibliofile": "bibliography.bib",
   "cite_by": "apalike",
   "current_citInitial": 1,
   "eqLabelWithNumbers": true,
   "eqNumInitial": 1,
   "hotkeys": {
    "equation": "Ctrl-E",
    "itemize": "Ctrl-I"
   },
   "labels_anchors": false,
   "latex_user_defs": false,
   "report_style_numbering": false,
   "user_envs_cfg": false
  },
  "toc": {
   "base_numbering": 1,
   "nav_menu": {},
   "number_sections": true,
   "sideBar": true,
   "skip_h1_title": false,
   "title_cell": "Table of Contents",
   "title_sidebar": "Contents",
   "toc_cell": false,
   "toc_position": {},
   "toc_section_display": true,
   "toc_window_display": false
  },
  "varInspector": {
   "cols": {
    "lenName": 16,
    "lenType": 16,
    "lenVar": 40
   },
   "kernels_config": {
    "python": {
     "delete_cmd_postfix": "",
     "delete_cmd_prefix": "del ",
     "library": "var_list.py",
     "varRefreshCmd": "print(var_dic_list())"
    },
    "r": {
     "delete_cmd_postfix": ") ",
     "delete_cmd_prefix": "rm(",
     "library": "var_list.r",
     "varRefreshCmd": "cat(var_dic_list()) "
    }
   },
   "types_to_exclude": [
    "module",
    "function",
    "builtin_function_or_method",
    "instance",
    "_Feature"
   ],
   "window_display": false
  }
 },
 "nbformat": 4,
 "nbformat_minor": 1
}
