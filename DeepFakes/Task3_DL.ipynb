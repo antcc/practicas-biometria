{
  "nbformat": 4,
  "nbformat_minor": 0,
  "metadata": {
    "colab": {
      "name": "Task3_DL.ipynb",
      "provenance": [],
      "collapsed_sections": []
    },
    "kernelspec": {
      "name": "python3",
      "display_name": "Python 3"
    },
    "accelerator": "GPU"
  },
  "cells": [
    {
      "cell_type": "code",
      "metadata": {
        "id": "sj2BVdZFaASv"
      },
      "source": [
        "# Directorio de trabajo\n",
        "import sys\n",
        "import os\n",
        "from google.colab import drive\n",
        "drive.mount(\"/content/drive\", force_remount = True)\n",
        "DIR = \"/content/drive/My Drive/bio/\"\n",
        "\n",
        "%cd \"$DIR\""
      ],
      "execution_count": null,
      "outputs": []
    },
    {
      "cell_type": "code",
      "metadata": {
        "id": "kbY3sDukaBou"
      },
      "source": [
        "import matplotlib.pyplot as plt\n",
        "import numpy as np\n",
        "\n",
        "import tensorflow as tf\n",
        "from tensorflow.keras.preprocessing.image import ImageDataGenerator\n",
        "\n",
        "from sklearn.metrics import plot_roc_curve\n",
        "\n",
        "%matplotlib inline\n",
        "%load_ext autoreload\n",
        "%autoreload 2\n",
        "\n",
        "seed = 2021"
      ],
      "execution_count": null,
      "outputs": []
    },
    {
      "cell_type": "code",
      "metadata": {
        "id": "7rsTjm-0NKMP"
      },
      "source": [
        "device_name = tf.test.gpu_device_name()\n",
        "if device_name != '/device:GPU:0':\n",
        "  raise SystemError('GPU device not found')\n",
        "_ = tf.device('/device:GPU:0')"
      ],
      "execution_count": 3,
      "outputs": []
    },
    {
      "cell_type": "code",
      "metadata": {
        "id": "RkEvAoDZd45K"
      },
      "source": [
        "train_dir = 'UADFV+TIMIT_faces_training/'\n",
        "test_dir = 'CelebDF-Test/'\n",
        "log_dir = 'logs/'\n",
        "target_size = (256, 256)"
      ],
      "execution_count": 79,
      "outputs": []
    },
    {
      "cell_type": "code",
      "metadata": {
        "colab": {
          "base_uri": "https://localhost:8080/"
        },
        "id": "vSeHp263hpwf",
        "outputId": "ecaa36d5-b26b-40f7-e9b5-74d0a8f6f371"
      },
      "source": [
        "train_datagen = ImageDataGenerator(\n",
        "    horizontal_flip=True,\n",
        "    shear_range=0.3,\n",
        "    zoom_range=0.3,\n",
        "    validation_split=0.1\n",
        ")\n",
        "\n",
        "val_datagen = ImageDataGenerator(\n",
        "    validation_split=0.1\n",
        ")\n",
        "\n",
        "test_datagen = ImageDataGenerator()\n",
        "\n",
        "train_data = train_datagen.flow_from_directory(\n",
        "    directory=train_dir,\n",
        "    class_mode='binary',\n",
        "    batch_size=32,\n",
        "    seed=seed,\n",
        "    target_size=target_size,\n",
        "    subset=\"training\"\n",
        ")\n",
        "\n",
        "val_data = val_datagen.flow_from_directory(\n",
        "    directory=train_dir,\n",
        "    class_mode='binary',\n",
        "    batch_size=32,\n",
        "    seed=seed,\n",
        "    target_size=target_size,\n",
        "    subset=\"validation\"\n",
        ")\n",
        "\n",
        "test_data = test_datagen.flow_from_directory(\n",
        "    directory=test_dir,\n",
        "    class_mode='binary',\n",
        "    batch_size=32,\n",
        "    shuffle = False,\n",
        "    seed=seed,\n",
        "    target_size=target_size,\n",
        ")\n",
        "\n",
        "num_train = train_data.samples\n",
        "num_val = val_data.samples\n",
        "num_test = test_data.samples"
      ],
      "execution_count": 81,
      "outputs": [
        {
          "output_type": "stream",
          "text": [
            "Found 1647 images belonging to 2 classes.\n",
            "Found 182 images belonging to 2 classes.\n",
            "Found 600 images belonging to 2 classes.\n"
          ],
          "name": "stdout"
        }
      ]
    },
    {
      "cell_type": "code",
      "metadata": {
        "id": "9eNGuwP7_nvX"
      },
      "source": [
        "from keras.models import Sequential\n",
        "from keras.layers import Conv2D, MaxPooling2D, BatchNormalization\n",
        "from keras.layers import Activation, Dropout, Flatten, Dense\n",
        "\n",
        "\"\"\"\n",
        "- kernel_constraint=maxnorm(3) on conv and dense layers\n",
        "\"\"\"\n",
        "\n",
        "model = Sequential()\n",
        "model.add(Conv2D(16, (3, 3), input_shape=(*target_size, 3)))\n",
        "model.add(Activation('relu'))\n",
        "model.add(BatchNormalization())\n",
        "model.add(MaxPooling2D(pool_size=(2, 2)))\n",
        "\n",
        "model.add(Conv2D(32, (1, 1)))\n",
        "model.add(Activation('relu'))\n",
        "model.add(BatchNormalization())\n",
        "model.add(MaxPooling2D(pool_size=(2, 2)))\n",
        "\n",
        "model.add(Conv2D(32, (3, 3)))\n",
        "model.add(Activation('relu'))\n",
        "model.add(BatchNormalization())\n",
        "model.add(MaxPooling2D(pool_size=(2, 2)))\n",
        "\n",
        "model.add(Flatten()) \n",
        "model.add(Dense(128))\n",
        "model.add(Activation('relu'))\n",
        "model.add(Dropout(0.5))\n",
        "model.add(BatchNormalization())\n",
        "model.add(Dense(1))\n",
        "model.add(Activation('sigmoid'))"
      ],
      "execution_count": 82,
      "outputs": []
    },
    {
      "cell_type": "code",
      "metadata": {
        "id": "K0F-64yHAviz"
      },
      "source": [
        "# Compile model\n",
        "metric = tf.keras.metrics.AUC(name='auc')\n",
        "loss = 'binary_crossentropy' #'hinge'\n",
        "\n",
        "model.compile(loss='binary_crossentropy',\n",
        "              optimizer='adam',\n",
        "              metrics=[metric])\n",
        "\n",
        "cb_model_checkpoint = tf.keras.callbacks.ModelCheckpoint(\n",
        "    filepath=log_dir + 'data3-DL.h5',\n",
        "    save_weights_only=True,\n",
        "    monitor='auc',\n",
        "    mode='max',\n",
        "    save_best_only=True\n",
        ")\n",
        "\n",
        "callbacks = [\n",
        "    cb_model_checkpoint\n",
        "]"
      ],
      "execution_count": 83,
      "outputs": []
    },
    {
      "cell_type": "code",
      "metadata": {
        "id": "cTsekmgUJcZq"
      },
      "source": [
        "history = model.fit(\n",
        "    train_data,\n",
        "    epochs=50,\n",
        "    validation_data=val_data,\n",
        "    callbacks=callbacks\n",
        ")"
      ],
      "execution_count": null,
      "outputs": []
    },
    {
      "cell_type": "code",
      "metadata": {
        "colab": {
          "base_uri": "https://localhost:8080/"
        },
        "id": "slNuaGViS16W",
        "outputId": "2fe7eaf7-e09b-4607-b0e4-de09d6cd3522"
      },
      "source": [
        "_ , auc_test = model.evaluate(test_data)"
      ],
      "execution_count": 104,
      "outputs": [
        {
          "output_type": "stream",
          "text": [
            "19/19 [==============================] - 2s 80ms/step - loss: 1.2189 - auc: 0.6580\n"
          ],
          "name": "stdout"
        }
      ]
    },
    {
      "cell_type": "code",
      "metadata": {
        "colab": {
          "base_uri": "https://localhost:8080/",
          "height": 279
        },
        "id": "Tr7-S5I-OTe6",
        "outputId": "6dbec59e-0c84-44e4-b946-fc0770216b9a"
      },
      "source": [
        "from sklearn.metrics import roc_curve\n",
        "\n",
        "y_pred = model.predict(test_data).ravel()\n",
        "fpr, tpr, _ = roc_curve(test_data.classes, y_pred)\n",
        "plt.plot(fpr, tpr, label=f\"AUC = {auc_test:.4f}\")\n",
        "plt.xlabel(\"False Positive Rate\")\n",
        "plt.ylabel(\"True Positive Rate\")\n",
        "plt.legend()\n",
        "plt.show()"
      ],
      "execution_count": 105,
      "outputs": [
        {
          "output_type": "display_data",
          "data": {
            "image/png": "[encoded data removed]",
            "text/plain": [
              "<Figure size 432x288 with 1 Axes>"
            ]
          },
          "metadata": {
            "tags": [],
            "needs_background": "light"
          }
        }
      ]
    }
  ]
}