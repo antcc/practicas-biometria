{
  "nbformat": 4,
  "nbformat_minor": 0,
  "metadata": {
    "colab": {
      "name": "Task3_DL.ipynb",
      "provenance": [],
      "collapsed_sections": []
    },
    "kernelspec": {
      "name": "python3",
      "display_name": "Python 3"
    },
    "accelerator": "GPU"
  },
  "cells": [
    {
      "cell_type": "code",
      "metadata": {
        "id": "sj2BVdZFaASv"
      },
      "source": [
        "# Directorio de trabajo\n",
        "import sys\n",
        "import os\n",
        "from google.colab import drive\n",
        "drive.mount(\"/content/drive\", force_remount = True)\n",
        "DIR = \"/content/drive/My Drive/bio/\"\n",
        "\n",
        "%cd \"$DIR\""
      ],
      "execution_count": null,
      "outputs": []
    },
    {
      "cell_type": "code",
      "metadata": {
        "id": "kbY3sDukaBou"
      },
      "source": [
        "import matplotlib.pyplot as plt\n",
        "import numpy as np\n",
        "\n",
        "import tensorflow as tf\n",
        "from tensorflow.keras.preprocessing.image import ImageDataGenerator\n",
        "\n",
        "from sklearn.metrics import plot_roc_curve\n",
        "\n",
        "%matplotlib inline\n",
        "%load_ext autoreload\n",
        "%autoreload 2\n",
        "\n",
        "seed = 2021"
      ],
      "execution_count": 2,
      "outputs": []
    },
    {
      "cell_type": "code",
      "metadata": {
        "id": "7rsTjm-0NKMP"
      },
      "source": [
        "device_name = tf.test.gpu_device_name()\n",
        "if device_name != '/device:GPU:0':\n",
        "  raise SystemError('GPU device not found')\n",
        "_ = tf.device('/device:GPU:0')"
      ],
      "execution_count": 3,
      "outputs": []
    },
    {
      "cell_type": "code",
      "metadata": {
        "id": "RkEvAoDZd45K"
      },
      "source": [
        "train_dir = 'UADFV+TIMIT_faces_training/'\n",
        "test_dir = 'CelebDF-Test/'\n",
        "target_size = (160, 160)"
      ],
      "execution_count": 58,
      "outputs": []
    },
    {
      "cell_type": "code",
      "metadata": {
        "colab": {
          "base_uri": "https://localhost:8080/"
        },
        "id": "vSeHp263hpwf",
        "outputId": "68213868-c395-4b4a-8320-571509af496d"
      },
      "source": [
        "train_datagen = ImageDataGenerator(\n",
        "    rescale=1./255,\n",
        "    horizontal_flip=True,\n",
        "    shear_range=0.2,\n",
        "    zoom_range=0.2,\n",
        "    rotation_range=20,\n",
        "    validation_split=0.15\n",
        ")\n",
        "\n",
        "val_datagen = ImageDataGenerator(\n",
        "    rescale=1./255,\n",
        "    validation_split=0.15\n",
        ")\n",
        "\n",
        "test_datagen = ImageDataGenerator(\n",
        "    rescale=1./255,\n",
        ")\n",
        "\n",
        "train_data = train_datagen.flow_from_directory(\n",
        "    directory=train_dir,\n",
        "    class_mode='binary',\n",
        "    batch_size=16,\n",
        "    seed=seed,\n",
        "    target_size=target_size,\n",
        "    subset=\"training\"\n",
        ")\n",
        "\n",
        "val_data = val_datagen.flow_from_directory(\n",
        "    directory=train_dir,\n",
        "    class_mode='binary',\n",
        "    batch_size=16,\n",
        "    seed=seed,\n",
        "    target_size=target_size,\n",
        "    subset=\"validation\"\n",
        ")\n",
        "\n",
        "test_data = test_datagen.flow_from_directory(\n",
        "    directory=test_dir,\n",
        "    class_mode='binary',\n",
        "    batch_size=16,\n",
        "    shuffle = False,\n",
        "    seed=seed,\n",
        "    target_size=target_size,\n",
        ")\n",
        "\n",
        "num_train = train_data.samples\n",
        "num_val = val_data.samples\n",
        "num_test = test_data.samples"
      ],
      "execution_count": 59,
      "outputs": [
        {
          "output_type": "stream",
          "text": [
            "Found 1555 images belonging to 2 classes.\n",
            "Found 274 images belonging to 2 classes.\n",
            "Found 600 images belonging to 2 classes.\n"
          ],
          "name": "stdout"
        }
      ]
    },
    {
      "cell_type": "code",
      "metadata": {
        "id": "9eNGuwP7_nvX"
      },
      "source": [
        "from keras.models import Sequential\n",
        "from keras.layers import Conv2D, MaxPooling2D, BatchNormalization\n",
        "from keras.layers import Activation, Dropout, Flatten, Dense\n",
        "\n",
        "model = Sequential()\n",
        "model.add(Dropout(0.2, input_shape=(*target_size, 3)))\n",
        "model.add(Conv2D(16, (3, 3)))\n",
        "model.add(Activation('relu'))\n",
        "model.add(Dropout(0.25))\n",
        "model.add(MaxPooling2D(pool_size=(2, 2)))\n",
        "\n",
        "model.add(Conv2D(32, (3, 3)))\n",
        "model.add(Activation('relu'))\n",
        "model.add(Dropout(0.25))\n",
        "model.add(MaxPooling2D(pool_size=(2, 2)))\n",
        "\n",
        "model.add(Flatten()) \n",
        "model.add(Dense(64))\n",
        "model.add(Activation('relu'))\n",
        "model.add(Dropout(0.5))\n",
        "model.add(Dense(1))\n",
        "model.add(Activation('sigmoid'))"
      ],
      "execution_count": 60,
      "outputs": []
    },
    {
      "cell_type": "code",
      "metadata": {
        "colab": {
          "base_uri": "https://localhost:8080/"
        },
        "id": "K0F-64yHAviz",
        "outputId": "d65df5bc-6f9a-4b98-fb42-fc200f7361d9"
      },
      "source": [
        "# Compile model\n",
        "metric = tf.keras.metrics.AUC(name='auc')\n",
        "\n",
        "model.compile(loss='binary_crossentropy',\n",
        "              optimizer='rmsprop',\n",
        "              metrics=[metric])\n",
        "\n",
        "cb_model_checkpoint = tf.keras.callbacks.ModelCheckpoint(\n",
        "    filepath=log_dir + 'data3-DL.h5',\n",
        "    save_weights_only=True,\n",
        "    monitor='auc',\n",
        "    mode='max',\n",
        "    save_best_only=True\n",
        ")\n",
        "\n",
        "cb_early_stopping = tf.keras.callbacks.EarlyStopping(\n",
        "    monitor='auc', \n",
        "    mode='max',\n",
        "    patience=4,\n",
        "    verbose=1)\n",
        "\n",
        "callbacks = [\n",
        "    cb_model_checkpoint,\n",
        "    cb_early_stopping\n",
        "]\n",
        "\n",
        "model.summary()"
      ],
      "execution_count": 61,
      "outputs": [
        {
          "output_type": "stream",
          "text": [
            "Model: \"sequential_11\"\n",
            "_________________________________________________________________\n",
            "Layer (type)                 Output Shape              Param #   \n",
            "=================================================================\n",
            "dropout_43 (Dropout)         (None, 160, 160, 3)       0         \n",
            "_________________________________________________________________\n",
            "conv2d_24 (Conv2D)           (None, 158, 158, 16)      448       \n",
            "_________________________________________________________________\n",
            "activation_46 (Activation)   (None, 158, 158, 16)      0         \n",
            "_________________________________________________________________\n",
            "dropout_44 (Dropout)         (None, 158, 158, 16)      0         \n",
            "_________________________________________________________________\n",
            "max_pooling2d_24 (MaxPooling (None, 79, 79, 16)        0         \n",
            "_________________________________________________________________\n",
            "conv2d_25 (Conv2D)           (None, 77, 77, 32)        4640      \n",
            "_________________________________________________________________\n",
            "activation_47 (Activation)   (None, 77, 77, 32)        0         \n",
            "_________________________________________________________________\n",
            "dropout_45 (Dropout)         (None, 77, 77, 32)        0         \n",
            "_________________________________________________________________\n",
            "max_pooling2d_25 (MaxPooling (None, 38, 38, 32)        0         \n",
            "_________________________________________________________________\n",
            "flatten_11 (Flatten)         (None, 46208)             0         \n",
            "_________________________________________________________________\n",
            "dense_22 (Dense)             (None, 64)                2957376   \n",
            "_________________________________________________________________\n",
            "activation_48 (Activation)   (None, 64)                0         \n",
            "_________________________________________________________________\n",
            "dropout_46 (Dropout)         (None, 64)                0         \n",
            "_________________________________________________________________\n",
            "dense_23 (Dense)             (None, 1)                 65        \n",
            "_________________________________________________________________\n",
            "activation_49 (Activation)   (None, 1)                 0         \n",
            "=================================================================\n",
            "Total params: 2,962,529\n",
            "Trainable params: 2,962,529\n",
            "Non-trainable params: 0\n",
            "_________________________________________________________________\n"
          ],
          "name": "stdout"
        }
      ]
    },
    {
      "cell_type": "code",
      "metadata": {
        "colab": {
          "base_uri": "https://localhost:8080/"
        },
        "id": "cTsekmgUJcZq",
        "outputId": "84129ade-4307-43f5-805e-4e8cd6492069"
      },
      "source": [
        "history = model.fit(\n",
        "    train_data,\n",
        "    epochs=50,\n",
        "    validation_data=val_data,\n",
        "    callbacks=callbacks\n",
        ")"
      ],
      "execution_count": 62,
      "outputs": [
        {
          "output_type": "stream",
          "text": [
            "Epoch 1/50\n",
            "98/98 [==============================] - 58s 591ms/step - loss: 3.4976 - auc: 0.5393 - val_loss: 0.6916 - val_auc: 0.4979\n",
            "Epoch 2/50\n",
            "98/98 [==============================] - 11s 115ms/step - loss: 0.6832 - auc: 0.5864 - val_loss: 0.6877 - val_auc: 0.5679\n",
            "Epoch 3/50\n",
            "98/98 [==============================] - 11s 115ms/step - loss: 0.6484 - auc: 0.6603 - val_loss: 0.7012 - val_auc: 0.5699\n",
            "Epoch 4/50\n",
            "98/98 [==============================] - 11s 115ms/step - loss: 0.6773 - auc: 0.6491 - val_loss: 0.6935 - val_auc: 0.6143\n",
            "Epoch 5/50\n",
            "98/98 [==============================] - 11s 116ms/step - loss: 0.6451 - auc: 0.6684 - val_loss: 0.6543 - val_auc: 0.6532\n",
            "Epoch 6/50\n",
            "98/98 [==============================] - 11s 116ms/step - loss: 0.6223 - auc: 0.7056 - val_loss: 0.6807 - val_auc: 0.6860\n",
            "Epoch 7/50\n",
            "98/98 [==============================] - 11s 115ms/step - loss: 0.6219 - auc: 0.7164 - val_loss: 0.6880 - val_auc: 0.6617\n",
            "Epoch 8/50\n",
            "98/98 [==============================] - 11s 114ms/step - loss: 0.5792 - auc: 0.7691 - val_loss: 0.6827 - val_auc: 0.6723\n",
            "Epoch 9/50\n",
            "98/98 [==============================] - 11s 116ms/step - loss: 0.5496 - auc: 0.7953 - val_loss: 0.6899 - val_auc: 0.7019\n",
            "Epoch 10/50\n",
            "98/98 [==============================] - 11s 115ms/step - loss: 0.5398 - auc: 0.7916 - val_loss: 0.6179 - val_auc: 0.8027\n",
            "Epoch 11/50\n",
            "98/98 [==============================] - 11s 115ms/step - loss: 0.5387 - auc: 0.7993 - val_loss: 0.6478 - val_auc: 0.7531\n",
            "Epoch 12/50\n",
            "98/98 [==============================] - 11s 115ms/step - loss: 0.5500 - auc: 0.8038 - val_loss: 0.6253 - val_auc: 0.7900\n",
            "Epoch 13/50\n",
            "98/98 [==============================] - 12s 118ms/step - loss: 0.5334 - auc: 0.8121 - val_loss: 0.5866 - val_auc: 0.8318\n",
            "Epoch 14/50\n",
            "98/98 [==============================] - 11s 116ms/step - loss: 0.4873 - auc: 0.8345 - val_loss: 0.5406 - val_auc: 0.8427\n",
            "Epoch 15/50\n",
            "98/98 [==============================] - 11s 116ms/step - loss: 0.4916 - auc: 0.8405 - val_loss: 0.5636 - val_auc: 0.8472\n",
            "Epoch 16/50\n",
            "98/98 [==============================] - 11s 116ms/step - loss: 0.5311 - auc: 0.8180 - val_loss: 0.6193 - val_auc: 0.7841\n",
            "Epoch 17/50\n",
            "98/98 [==============================] - 11s 116ms/step - loss: 0.5257 - auc: 0.8187 - val_loss: 0.5617 - val_auc: 0.8397\n",
            "Epoch 18/50\n",
            "98/98 [==============================] - 11s 114ms/step - loss: 0.4883 - auc: 0.8448 - val_loss: 0.5908 - val_auc: 0.8373\n",
            "Epoch 19/50\n",
            "98/98 [==============================] - 11s 115ms/step - loss: 0.4737 - auc: 0.8535 - val_loss: 0.4973 - val_auc: 0.8571\n",
            "Epoch 20/50\n",
            "98/98 [==============================] - 11s 116ms/step - loss: 0.5066 - auc: 0.8412 - val_loss: 0.5105 - val_auc: 0.8873\n",
            "Epoch 21/50\n",
            "98/98 [==============================] - 11s 114ms/step - loss: 0.4553 - auc: 0.8606 - val_loss: 0.5681 - val_auc: 0.8392\n",
            "Epoch 22/50\n",
            "98/98 [==============================] - 11s 115ms/step - loss: 0.4501 - auc: 0.8646 - val_loss: 0.5339 - val_auc: 0.8897\n",
            "Epoch 23/50\n",
            "98/98 [==============================] - 11s 114ms/step - loss: 0.4545 - auc: 0.8669 - val_loss: 0.5507 - val_auc: 0.8652\n",
            "Epoch 24/50\n",
            "98/98 [==============================] - 11s 115ms/step - loss: 0.4109 - auc: 0.8953 - val_loss: 0.5081 - val_auc: 0.8769\n",
            "Epoch 25/50\n",
            "98/98 [==============================] - 11s 115ms/step - loss: 0.4466 - auc: 0.8661 - val_loss: 0.5159 - val_auc: 0.8803\n",
            "Epoch 26/50\n",
            "98/98 [==============================] - 11s 114ms/step - loss: 0.4259 - auc: 0.8849 - val_loss: 0.5725 - val_auc: 0.8529\n",
            "Epoch 27/50\n",
            "98/98 [==============================] - 11s 115ms/step - loss: 0.3882 - auc: 0.9056 - val_loss: 0.5565 - val_auc: 0.8282\n",
            "Epoch 28/50\n",
            "98/98 [==============================] - 11s 115ms/step - loss: 0.4327 - auc: 0.8782 - val_loss: 0.6125 - val_auc: 0.8126\n",
            "Epoch 29/50\n",
            "98/98 [==============================] - 11s 114ms/step - loss: 0.4350 - auc: 0.8853 - val_loss: 0.6034 - val_auc: 0.7829\n",
            "Epoch 30/50\n",
            "98/98 [==============================] - 11s 114ms/step - loss: 0.4324 - auc: 0.8795 - val_loss: 0.5931 - val_auc: 0.7914\n",
            "Epoch 31/50\n",
            "98/98 [==============================] - 11s 115ms/step - loss: 0.4089 - auc: 0.8980 - val_loss: 0.6208 - val_auc: 0.7830\n",
            "Epoch 00031: early stopping\n"
          ],
          "name": "stdout"
        }
      ]
    },
    {
      "cell_type": "code",
      "metadata": {
        "colab": {
          "base_uri": "https://localhost:8080/"
        },
        "id": "slNuaGViS16W",
        "outputId": "5b90cad8-9d80-41f8-8b61-a61af4ea3c52"
      },
      "source": [
        "_ , auc_test = model.evaluate(test_data)"
      ],
      "execution_count": 63,
      "outputs": [
        {
          "output_type": "stream",
          "text": [
            "38/38 [==============================] - 1s 31ms/step - loss: 0.7855 - auc: 0.5382\n"
          ],
          "name": "stdout"
        }
      ]
    },
    {
      "cell_type": "code",
      "metadata": {
        "id": "Tr7-S5I-OTe6",
        "colab": {
          "base_uri": "https://localhost:8080/",
          "height": 279
        },
        "outputId": "f576f31b-31b4-4d59-8642-d80aaf22e335"
      },
      "source": [
        "from sklearn.metrics import roc_curve\n",
        "\n",
        "y_pred = model.predict(test_data).ravel()\n",
        "fpr, tpr, _ = roc_curve(test_data.classes, y_pred)\n",
        "plt.plot(fpr, tpr, label=f\"AUC = {auc_test:.4f}\")\n",
        "plt.xlabel(\"False Positive Rate\")\n",
        "plt.ylabel(\"True Positive Rate\")\n",
        "plt.legend()\n",
        "plt.show()"
      ],
      "execution_count": 64,
      "outputs": [
        {
          "output_type": "display_data",
          "data": {
            "image/png": "[encoded data removed]",
            "text/plain": [
              "<Figure size 432x288 with 1 Axes>"
            ]
          },
          "metadata": {
            "tags": [],
            "needs_background": "light"
          }
        }
      ]
    }
  ]
}