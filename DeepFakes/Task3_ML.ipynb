{
 "cells": [
  {
   "cell_type": "code",
   "execution_count": null,
   "metadata": {
    "id": "sj2BVdZFaASv"
   },
   "outputs": [],
   "source": [
    "# Directorio de trabajo\n",
    "import sys\n",
    "import os\n",
    "from google.colab import drive\n",
    "drive.mount(\"/content/drive\", force_remount = True)\n",
    "DIR = \"/content/drive/My Drive/bio/\"\n",
    "\n",
    "%cd \"$DIR\""
   ]
  },
  {
   "cell_type": "code",
   "execution_count": 2,
   "metadata": {
    "id": "kbY3sDukaBou"
   },
   "outputs": [],
   "source": [
    "import matplotlib.pyplot as plt\n",
    "import numpy as np\n",
    "import cv2\n",
    "import dlib\n",
    "import time\n",
    "from tqdm.notebook import tqdm\n",
    "\n",
    "import tensorflow as tf\n",
    "from tensorflow.keras.preprocessing.image import ImageDataGenerator\n",
    "from keras.models import load_model\n",
    "\n",
    "from sklearn.metrics import plot_roc_curve\n",
    "\n",
    "from warnings import simplefilter\n",
    "from sklearn.exceptions import ConvergenceWarning\n",
    "\n",
    "%matplotlib inline\n",
    "%load_ext autoreload\n",
    "%autoreload 2\n",
    "\n",
    "seed = 2021\n",
    "rng = np.random.default_rng(seed=seed)\n",
    "simplefilter(\"ignore\", category=ConvergenceWarning)"
   ]
  },
  {
   "cell_type": "code",
   "execution_count": 3,
   "metadata": {
    "id": "7rsTjm-0NKMP"
   },
   "outputs": [],
   "source": [
    "device_name = tf.test.gpu_device_name()\n",
    "if device_name != '/device:GPU:0':\n",
    "  raise SystemError('GPU device not found')\n",
    "_ = tf.device('/device:GPU:0')"
   ]
  },
  {
   "cell_type": "code",
   "execution_count": 4,
   "metadata": {
    "id": "RkEvAoDZd45K"
   },
   "outputs": [],
   "source": [
    "train_dir = 'UADFV+TIMIT_faces_training/'\n",
    "test_dir = 'CelebDF-Test/'\n",
    "target_size = (160, 160)"
   ]
  },
  {
   "cell_type": "code",
   "execution_count": 5,
   "metadata": {
    "colab": {
     "base_uri": "https://localhost:8080/"
    },
    "id": "vSeHp263hpwf",
    "outputId": "369f061f-0a60-49a7-a556-af697b98d812"
   },
   "outputs": [
    {
     "name": "stdout",
     "output_type": "stream",
     "text": [
      "Found 1829 images belonging to 2 classes.\n",
      "Found 600 images belonging to 2 classes.\n"
     ]
    }
   ],
   "source": [
    "train_datagen = ImageDataGenerator()\n",
    "test_datagen = ImageDataGenerator()\n",
    "\n",
    "train_data = train_datagen.flow_from_directory(\n",
    "    directory=train_dir,\n",
    "    class_mode='binary',\n",
    "    batch_size=1,\n",
    "    seed=seed,\n",
    "    target_size=target_size,\n",
    "    subset=\"training\"\n",
    ")\n",
    "\n",
    "test_data = test_datagen.flow_from_directory(\n",
    "    directory=test_dir,\n",
    "    class_mode='binary',\n",
    "    batch_size=1,\n",
    "    seed=seed,\n",
    "    target_size=target_size,\n",
    ")\n",
    "\n",
    "num_train = train_data.samples\n",
    "num_test = test_data.samples"
   ]
  },
  {
   "cell_type": "code",
   "execution_count": 6,
   "metadata": {
    "id": "u9ouehqLaC_1"
   },
   "outputs": [],
   "source": [
    "# Load landmark detector\n",
    "sp68 = dlib.shape_predictor('models/shape_predictor_68_face_landmarks.dat')"
   ]
  },
  {
   "cell_type": "code",
   "execution_count": 9,
   "metadata": {
    "id": "cSw9OE3FjTnB"
   },
   "outputs": [],
   "source": [
    "def preprocess(im, sigma):\n",
    "    if rng.random() < 0.5:\n",
    "        kernel_size = rng.choice([1, 3, 5, 7])\n",
    "        im_noise = cv2.GaussianBlur(im, (kernel_size, kernel_size), 0)\n",
    "    else:\n",
    "        std = sigma*rng.random()\n",
    "        noise = rng.normal(0, std, im.shape[:2])\n",
    "        im_noise = im + np.tile(noise[:, :, None], (1, 1, 3))\n",
    "    \n",
    "    return im_noise\n",
    "\n",
    "\n",
    "def shape_to_np(shape):\n",
    "    number_of_points = shape.num_parts\n",
    "    points = np.zeros((number_of_points, 2), dtype=np.int32)\n",
    "\n",
    "    for i in range(number_of_points):\n",
    "        points[i] = [shape.part(i).x, shape.part(i).y]\n",
    "\n",
    "    return points\n",
    "\n",
    "\n",
    "def get_crops_landmarks(im, sigma, blur, verbose):\n",
    "    \"\"\"\n",
    "    Detects faces and landmarks in image, crops image to face region.\n",
    "    We assume there is only one face on each dataset.\n",
    "    \"\"\"\n",
    "    img = im.reshape(*im.shape[1:]).astype('uint8')\n",
    "\n",
    "    # Add noise\n",
    "    if blur:\n",
    "        img_prec = preprocess(img, sigma=sigma).astype('uint8')\n",
    "    else:\n",
    "        img_prec = img\n",
    "\n",
    "    # Detect landmarks and transform to np array\n",
    "    face = dlib.rectangle(0, 0, 159, 159)  # our face crops are 160x160\n",
    "    landmarks = shape_to_np(sp68(img_prec, face))\n",
    "    gray = cv2.cvtColor(img_prec, cv2.COLOR_RGB2GRAY)\n",
    "\n",
    "    # Truncate landmarks\n",
    "    landmarks[landmarks < 0] = 0\n",
    "    landmarks[landmarks > 159] = 159\n",
    "    face_landmarks = gray[landmarks[:, 1], landmarks[:, 0]]\n",
    "\n",
    "    # Plot images\n",
    "    if verbose:\n",
    "        cv2.rectangle(img, (0, 0), (159, 159), (0, 255, 0), 3)\n",
    "        for (sX, sY) in landmarks:\n",
    "            cv2.circle(img, (sX, sY), 1, (0, 0, 255), 2)\n",
    "        plt.imshow(img)\n",
    "        plt.show()\n",
    "\n",
    "    # normalize landmarks\n",
    "    face_landmarks = face_landmarks.astype(np.float64)\n",
    "    face_landmarks -= face_landmarks.mean(axis=0)\n",
    "\n",
    "    return face_landmarks\n",
    "\n",
    "\n",
    "def extract_features(\n",
    "    data_flow, \n",
    "    num_images, \n",
    "    sigma=3,\n",
    "    blur=False,\n",
    "    verbose=0,\n",
    "    skip=True\n",
    "):\n",
    "    X = np.zeros((num_images, 68))  # 68 landmarks\n",
    "    y = np.zeros(num_images,)\n",
    "\n",
    "    i = 0\n",
    "    for im, label in tqdm(data_flow):\n",
    "        face_landmarks = \\\n",
    "            get_crops_landmarks(\n",
    "                im, sigma=sigma, \n",
    "                blur=blur, verbose=verbose)\n",
    "\n",
    "        X[i] = face_landmarks.flatten()\n",
    "        y[i] = label\n",
    "\n",
    "        i += 1\n",
    "        if i >= num_images:\n",
    "            break\n",
    "        \n",
    "    return X, y"
   ]
  },
  {
   "cell_type": "code",
   "execution_count": null,
   "metadata": {
    "id": "UaEe4FBufEA3"
   },
   "outputs": [],
   "source": [
    "X_train, y_train = extract_features(train_data, num_train, blur=True)\n",
    "print(\"X_train:\", X_train.shape)\n",
    "X_test, y_test = extract_features(test_data, num_test)\n",
    "print(\"X_test:\", X_test.shape)"
   ]
  },
  {
   "cell_type": "code",
   "execution_count": null,
   "metadata": {
    "id": "LpOrfzlwxcyc"
   },
   "outputs": [],
   "source": [
    "np.savez(\n",
    "    'data3-ML', \n",
    "    X_train=X_train, \n",
    "    y_train=y_train,\n",
    "    X_test=X_test, \n",
    "    y_test=y_test\n",
    ")"
   ]
  },
  {
   "cell_type": "code",
   "execution_count": 11,
   "metadata": {
    "id": "hADXGvJWfGsc"
   },
   "outputs": [],
   "source": [
    "data3 = np.load('data3-ML.npz')\n",
    "X_train, y_train = data3['X_train'], data3['y_train']\n",
    "X_test, y_test = data3['X_test'], data3['y_test']"
   ]
  },
  {
   "cell_type": "code",
   "execution_count": 14,
   "metadata": {
    "id": "h-ivEXYuxkJy"
   },
   "outputs": [],
   "source": [
    "from sklearn.svm import SVC\n",
    "from sklearn.preprocessing import StandardScaler\n",
    "from sklearn.pipeline import Pipeline\n",
    "\n",
    "# Models\n",
    "my_model = Pipeline([\n",
    "    ('standardize', StandardScaler()),\n",
    "    ('clf', SVC(\n",
    "        kernel='rbf', \n",
    "        C=1.6681,\n",
    "        gamma=0.0167,\n",
    "        random_state=seed))])\n",
    "name = \"SVC\""
   ]
  },
  {
   "cell_type": "code",
   "execution_count": 15,
   "metadata": {
    "colab": {
     "base_uri": "https://localhost:8080/",
     "height": 296
    },
    "id": "z7osCICZzg6U",
    "outputId": "96931371-30b1-4e73-b680-b5db1abeb835"
   },
   "outputs": [
    {
     "name": "stdout",
     "output_type": "stream",
     "text": [
      "[SVC] Acc Test Celeb-DF: 0.6233\n"
     ]
    },
    {
     "data": {
      "image/png": "[encoded data removed]",
      "text/plain": [
       "<Figure size 432x288 with 1 Axes>"
      ]
     },
     "metadata": {
      "needs_background": "light",
      "tags": []
     },
     "output_type": "display_data"
    }
   ],
   "source": [
    "# Evaluate our model on the Celeb-DF test set\n",
    "my_model.fit(X_train, y_train)\n",
    "acc_test = my_model.score(X_test, y_test)\n",
    "print(f\"[{name}] Acc Test Celeb-DF: {acc_test:.4f}\")\n",
    "plot_roc_curve(my_model, X_test, y_test, name = name)\n",
    "plt.show()"
   ]
  }
 ],
 "metadata": {
  "accelerator": "GPU",
  "colab": {
   "collapsed_sections": [],
   "name": "Task3_ML.ipynb",
   "provenance": []
  },
  "kernelspec": {
   "display_name": "Python 3",
   "language": "python",
   "name": "python3"
  },
  "language_info": {
   "codemirror_mode": {
    "name": "ipython",
    "version": 3
   },
   "file_extension": ".py",
   "mimetype": "text/x-python",
   "name": "python",
   "nbconvert_exporter": "python",
   "pygments_lexer": "ipython3",
   "version": "3.9.2"
  },
  "latex_envs": {
   "LaTeX_envs_menu_present": false,
   "autoclose": true,
   "autocomplete": false,
   "bibliofile": "bibliography.bib",
   "cite_by": "apalike",
   "current_citInitial": 1,
   "eqLabelWithNumbers": true,
   "eqNumInitial": 1,
   "hotkeys": {
    "equation": "Ctrl-E",
    "itemize": "Ctrl-I"
   },
   "labels_anchors": false,
   "latex_user_defs": false,
   "report_style_numbering": false,
   "user_envs_cfg": false
  },
  "toc": {
   "base_numbering": 1,
   "nav_menu": {},
   "number_sections": true,
   "sideBar": true,
   "skip_h1_title": false,
   "title_cell": "Table of Contents",
   "title_sidebar": "Contents",
   "toc_cell": false,
   "toc_position": {},
   "toc_section_display": true,
   "toc_window_display": false
  },
  "varInspector": {
   "cols": {
    "lenName": 16,
    "lenType": 16,
    "lenVar": 40
   },
   "kernels_config": {
    "python": {
     "delete_cmd_postfix": "",
     "delete_cmd_prefix": "del ",
     "library": "var_list.py",
     "varRefreshCmd": "print(var_dic_list())"
    },
    "r": {
     "delete_cmd_postfix": ") ",
     "delete_cmd_prefix": "rm(",
     "library": "var_list.r",
     "varRefreshCmd": "cat(var_dic_list()) "
    }
   },
   "types_to_exclude": [
    "module",
    "function",
    "builtin_function_or_method",
    "instance",
    "_Feature"
   ],
   "window_display": false
  }
 },
 "nbformat": 4,
 "nbformat_minor": 1
}
