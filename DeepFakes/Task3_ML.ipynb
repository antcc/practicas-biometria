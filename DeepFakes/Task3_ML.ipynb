{
 "cells": [
  {
   "cell_type": "code",
   "execution_count": null,
   "metadata": {
    "id": "sj2BVdZFaASv"
   },
   "outputs": [],
   "source": [
    "# Directorio de trabajo\n",
    "import sys\n",
    "import os\n",
    "from google.colab import drive\n",
    "drive.mount(\"/content/drive\", force_remount = True)\n",
    "DIR = \"/content/drive/My Drive/bio/\"\n",
    "\n",
    "%cd \"$DIR\""
   ]
  },
  {
   "cell_type": "code",
   "execution_count": 2,
   "metadata": {
    "id": "kbY3sDukaBou"
   },
   "outputs": [],
   "source": [
    "import matplotlib.pyplot as plt\n",
    "import numpy as np\n",
    "import cv2\n",
    "import dlib\n",
    "import time\n",
    "from tqdm.notebook import tqdm\n",
    "\n",
    "import tensorflow as tf\n",
    "from tensorflow.keras.preprocessing.image import ImageDataGenerator\n",
    "from keras.models import load_model\n",
    "\n",
    "from sklearn.metrics import plot_roc_curve\n",
    "\n",
    "from warnings import simplefilter\n",
    "from sklearn.exceptions import ConvergenceWarning\n",
    "\n",
    "%matplotlib inline\n",
    "%load_ext autoreload\n",
    "%autoreload 2\n",
    "\n",
    "seed = 2021\n",
    "rng = np.random.default_rng(seed=seed)\n",
    "simplefilter(\"ignore\", category=ConvergenceWarning)"
   ]
  },
  {
   "cell_type": "code",
   "execution_count": 3,
   "metadata": {
    "id": "7rsTjm-0NKMP"
   },
   "outputs": [],
   "source": [
    "device_name = tf.test.gpu_device_name()\n",
    "if device_name != '/device:GPU:0':\n",
    "  raise SystemError('GPU device not found')\n",
    "_ = tf.device('/device:GPU:0')"
   ]
  },
  {
   "cell_type": "code",
   "execution_count": 4,
   "metadata": {
    "id": "RkEvAoDZd45K"
   },
   "outputs": [],
   "source": [
    "train_dir = 'UADFV+TIMIT_faces_training/'\n",
    "test_dir = 'CelebDF-Test/'\n",
    "target_size = (160, 160)"
   ]
  },
  {
   "cell_type": "code",
   "execution_count": 5,
   "metadata": {
    "colab": {
     "base_uri": "https://localhost:8080/"
    },
    "id": "vSeHp263hpwf",
    "outputId": "361f1c94-a3e0-4d7d-a473-e8dfea48b420"
   },
   "outputs": [
    {
     "name": "stdout",
     "output_type": "stream",
     "text": [
      "Found 1829 images belonging to 2 classes.\n",
      "Found 600 images belonging to 2 classes.\n"
     ]
    }
   ],
   "source": [
    "train_datagen = ImageDataGenerator()\n",
    "test_datagen = ImageDataGenerator()\n",
    "\n",
    "train_data = train_datagen.flow_from_directory(\n",
    "    directory=train_dir,\n",
    "    class_mode='binary',\n",
    "    batch_size=1,\n",
    "    seed=seed,\n",
    "    target_size=target_size,\n",
    "    subset=\"training\"\n",
    ")\n",
    "\n",
    "test_data = test_datagen.flow_from_directory(\n",
    "    directory=test_dir,\n",
    "    class_mode='binary',\n",
    "    batch_size=1,\n",
    "    seed=seed,\n",
    "    target_size=target_size,\n",
    ")\n",
    "\n",
    "num_train = train_data.samples\n",
    "num_test = test_data.samples"
   ]
  },
  {
   "cell_type": "code",
   "execution_count": 6,
   "metadata": {
    "id": "u9ouehqLaC_1"
   },
   "outputs": [],
   "source": [
    "# Load landmark detector\n",
    "sp68 = dlib.shape_predictor('models/shape_predictor_68_face_landmarks.dat')"
   ]
  },
  {
   "cell_type": "code",
   "execution_count": 7,
   "metadata": {
    "id": "cSw9OE3FjTnB"
   },
   "outputs": [],
   "source": [
    "def preprocess(im, sigma):\n",
    "    if rng.random() < 0.5:\n",
    "        kernel_size = rng.choice([1, 3, 5, 7])\n",
    "        im_noise = cv2.GaussianBlur(im, (kernel_size, kernel_size), 0)\n",
    "    else:\n",
    "        std = sigma*rng.random()\n",
    "        noise = rng.normal(0, std, im.shape[:2])\n",
    "        im_noise = im + np.tile(noise[:, :, None], (1, 1, 3))\n",
    "    \n",
    "    return im_noise\n",
    "\n",
    "\n",
    "def shape_to_np(shape):\n",
    "    number_of_points = shape.num_parts\n",
    "    points = np.zeros((number_of_points, 2), dtype=np.int32)\n",
    "\n",
    "    for i in range(number_of_points):\n",
    "        points[i] = [shape.part(i).x, shape.part(i).y]\n",
    "\n",
    "    return points\n",
    "\n",
    "\n",
    "def get_crops_landmarks(im, sigma, blur, verbose):\n",
    "    \"\"\"\n",
    "    Detects faces and landmarks in image, crops image to face region.\n",
    "    We assume there is only one face on each dataset.\n",
    "    \"\"\"\n",
    "    img = im.reshape(*im.shape[1:]).astype('uint8')\n",
    "\n",
    "    # Add noise\n",
    "    if blur:\n",
    "        img_prec = preprocess(img, sigma=sigma).astype('uint8')\n",
    "    else:\n",
    "        img_prec = img\n",
    "\n",
    "    # Detect landmarks and transform to np array\n",
    "    face = dlib.rectangle(0, 0, 159, 159)  # our face crops are 160x160\n",
    "    landmarks = shape_to_np(sp68(img_prec, face))\n",
    "    gray = cv2.cvtColor(img_prec, cv2.COLOR_RGB2GRAY)\n",
    "\n",
    "    # Truncate landmarks\n",
    "    landmarks[landmarks < 0] = 0\n",
    "    landmarks[landmarks > 159] = 159\n",
    "    face_landmarks = gray[landmarks[:, 1], landmarks[:, 0]]\n",
    "\n",
    "    # Plot images\n",
    "    if verbose:\n",
    "        cv2.rectangle(img, (0, 0), (159, 159), (0, 255, 0), 3)\n",
    "        for (sX, sY) in landmarks:\n",
    "            cv2.circle(img, (sX, sY), 1, (0, 0, 255), 2)\n",
    "        plt.imshow(img)\n",
    "        plt.show()\n",
    "\n",
    "    # normalize landmarks\n",
    "    face_landmarks = face_landmarks.astype(np.float64)\n",
    "    face_landmarks -= face_landmarks.mean(axis=0)\n",
    "\n",
    "    return face_landmarks\n",
    "\n",
    "\n",
    "def extract_features(\n",
    "    data_flow, \n",
    "    num_images, \n",
    "    sigma=3,\n",
    "    blur=False,\n",
    "    verbose=0,\n",
    "    skip=True\n",
    "):\n",
    "    X = np.zeros((num_images, 68))  # 68 landmarks\n",
    "    y = np.zeros(num_images,)\n",
    "\n",
    "    i = 0\n",
    "    for im, label in tqdm(data_flow):\n",
    "        face_landmarks = \\\n",
    "            get_crops_landmarks(\n",
    "                im, sigma=sigma, \n",
    "                blur=blur, verbose=verbose)\n",
    "\n",
    "        X[i] = face_landmarks.flatten()\n",
    "        y[i] = label\n",
    "\n",
    "        i += 1\n",
    "        if i >= num_images:\n",
    "            break\n",
    "        \n",
    "    return X, y"
   ]
  },
  {
   "cell_type": "code",
   "execution_count": null,
   "metadata": {
    "id": "nrj1seF_qV3Q"
   },
   "outputs": [],
   "source": [
    "X_train, y_train = extract_features(train_data, num_train, blur=True)\n",
    "print(\"X_train:\", X_train.shape)\n",
    "X_test, y_test = extract_features(test_data, num_test)\n",
    "print(\"X_test:\", X_test.shape)"
   ]
  },
  {
   "cell_type": "code",
   "execution_count": 18,
   "metadata": {
    "id": "LpOrfzlwxcyc"
   },
   "outputs": [],
   "source": [
    "np.savez(\n",
    "    'data3-ML', \n",
    "    X_train=X_train, \n",
    "    y_train=y_train,\n",
    "    X_test=X_test, \n",
    "    y_test=y_test\n",
    ")"
   ]
  },
  {
   "cell_type": "code",
   "execution_count": 14,
   "metadata": {
    "id": "h-ivEXYuxkJy"
   },
   "outputs": [],
   "source": [
    "from sklearn.svm import SVC, LinearSVC\n",
    "from sklearn.preprocessing import StandardScaler\n",
    "from sklearn.pipeline import Pipeline\n",
    "from sklearn.linear_model import LogisticRegression\n",
    "from sklearn.model_selection import GridSearchCV, PredefinedSplit\n",
    "from sklearn.neural_network import MLPClassifier\n",
    "from sklearn.decomposition import PCA\n",
    "\n",
    "# Models\n",
    "models = [\n",
    "    # SVC + RBF\n",
    "    (Pipeline([\n",
    "        ('standardize', StandardScaler()),\n",
    "        ('trf', None),\n",
    "        ('standardize2', None),\n",
    "        ('clf', SVC(kernel='rbf', random_state=seed))]),\n",
    "     \"SVC\"),\n",
    "    # SVC linear\n",
    "    (Pipeline([\n",
    "        ('standardize', StandardScaler()),\n",
    "        ('trf', None),\n",
    "        ('standardize2', None),\n",
    "        ('clf', LinearSVC(dual=False, random_state=seed))]),\n",
    "     \"L-SVC\"),\n",
    "    # MLP\n",
    "    (Pipeline([\n",
    "        ('standardize', StandardScaler()),\n",
    "        ('trf', None),\n",
    "        ('standardize2', None),\n",
    "        ('clf', MLPClassifier(max_iter=500,\n",
    "                              solver='lbfgs',\n",
    "                              random_state=seed))]),\n",
    "     \"MLP\"),\n",
    "    # Logistic Regression\n",
    "    (Pipeline([\n",
    "        ('standardize', StandardScaler()),\n",
    "        ('trf', None),\n",
    "        ('standardize2', None),\n",
    "        ('clf', LogisticRegression(max_iter=500,\n",
    "                                   random_state=seed))]),\n",
    "     \"LR\")\n",
    "]\n",
    "\n",
    "params_lst = [\n",
    "    # SVC + RBF\n",
    "    [\n",
    "        # No transformation\n",
    "        {\n",
    "            \"clf__gamma\": np.logspace(-4, 0, 10),\n",
    "            \"clf__C\": np.logspace(-2, 2, 10)\n",
    "        },\n",
    "        # PCA\n",
    "        {\n",
    "            \"clf__gamma\": np.logspace(-4, 0, 10),\n",
    "            \"clf__C\": np.logspace(-2, 2, 10),\n",
    "            \"trf\": [PCA()],\n",
    "            \"trf__n_components\": [0.9, 0.95, 0.99],\n",
    "            \"standardize2\": [StandardScaler()]\n",
    "        },\n",
    "    ],\n",
    "    # SVM Linear\n",
    "    [\n",
    "        # No transformation\n",
    "        {\n",
    "            \"clf__C\": np.logspace(-3, 3, 30),\n",
    "        },\n",
    "        # PCA\n",
    "        {\n",
    "            \"clf__C\": np.logspace(-3, 3, 30),\n",
    "            \"trf\": [PCA()],\n",
    "            \"trf__n_components\": [0.9, 0.95, 0.99],\n",
    "            \"standardize2\": [StandardScaler()]\n",
    "        },\n",
    "    ],\n",
    "    # MLP\n",
    "    [\n",
    "        # No transformation\n",
    "        {\n",
    "            \"clf__hidden_layer_sizes\": [(100,), (50, 50,), (100, 100,), (50,)],\n",
    "            \"clf__alpha\": np.logspace(-2, 2, 10),\n",
    "        },\n",
    "        # PCA\n",
    "        {\n",
    "            \"clf__hidden_layer_sizes\": [(100,), (50, 50,), (100, 100,), (50,)],\n",
    "            \"clf__alpha\": np.logspace(-2, 2, 10),\n",
    "            \"trf\": [PCA()],\n",
    "            \"trf__n_components\": [0.9, 0.95, 0.99],\n",
    "            \"standardize2\": [StandardScaler()]\n",
    "        },\n",
    "    ],\n",
    "    # Logistic Regression\n",
    "    [\n",
    "        # No transformation\n",
    "        {\n",
    "            \"clf__C\": np.logspace(-2, 2, 20),\n",
    "            \"clf__solver\": ['lbfgs', 'liblinear']\n",
    "        },\n",
    "        # PCA\n",
    "        {\n",
    "            \"clf__C\": np.logspace(-2, 2, 20),\n",
    "            \"clf__solver\": ['lbfgs', 'sag'],\n",
    "            \"trf\": [PCA()],\n",
    "            \"trf__n_components\": [0.9, 0.95, 0.99],\n",
    "            \"standardize2\": [StandardScaler()]\n",
    "        },\n",
    "    ],\n",
    "]"
   ]
  },
  {
   "cell_type": "code",
   "execution_count": 15,
   "metadata": {
    "colab": {
     "base_uri": "https://localhost:8080/"
    },
    "id": "lZB4pH6Lxs0x",
    "outputId": "585ae4d0-e041-4a1e-89b2-364e2e7c5b7e"
   },
   "outputs": [
    {
     "name": "stdout",
     "output_type": "stream",
     "text": [
      "[SVC] AUC Validation: 0.9968\n",
      "[SVC] Fit time: 293.7921s\n",
      "[SVC] Best classifier:\n",
      "Pipeline(memory=None,\n",
      "         steps=[('standardize',\n",
      "                 StandardScaler(copy=True, with_mean=True, with_std=True)),\n",
      "                ('trf', None), ('standardize2', None),\n",
      "                ('clf',\n",
      "                 SVC(C=4.6415888336127775, break_ties=False, cache_size=200,\n",
      "                     class_weight=None, coef0=0.0,\n",
      "                     decision_function_shape='ovr', degree=3,\n",
      "                     gamma=0.046415888336127774, kernel='rbf', max_iter=-1,\n",
      "                     probability=False, random_state=2021, shrinking=True,\n",
      "                     tol=0.001, verbose=False))],\n",
      "         verbose=False)\n",
      "[L-SVC] AUC Validation: 0.8456\n",
      "[L-SVC] Fit time: 8.1556s\n",
      "[L-SVC] Best classifier:\n",
      "Pipeline(memory=None,\n",
      "         steps=[('standardize',\n",
      "                 StandardScaler(copy=True, with_mean=True, with_std=True)),\n",
      "                ('trf', None), ('standardize2', None),\n",
      "                ('clf',\n",
      "                 LinearSVC(C=0.010826367338740546, class_weight=None,\n",
      "                           dual=False, fit_intercept=True, intercept_scaling=1,\n",
      "                           loss='squared_hinge', max_iter=1000,\n",
      "                           multi_class='ovr', penalty='l2', random_state=2021,\n",
      "                           tol=0.0001, verbose=0))],\n",
      "         verbose=False)\n",
      "[MLP] AUC Validation: 0.9885\n",
      "[MLP] Fit time: 760.8893s\n",
      "[MLP] Best classifier:\n",
      "Pipeline(memory=None,\n",
      "         steps=[('standardize',\n",
      "                 StandardScaler(copy=True, with_mean=True, with_std=True)),\n",
      "                ('trf', None), ('standardize2', None),\n",
      "                ('clf',\n",
      "                 MLPClassifier(activation='relu', alpha=0.5994842503189409,\n",
      "                               batch_size='auto', beta_1=0.9, beta_2=0.999,\n",
      "                               early_stopping=False, epsilon=1e-08,\n",
      "                               hidden_layer_sizes=(100, 100),\n",
      "                               learning_rate='constant',\n",
      "                               learning_rate_init=0.001, max_fun=15000,\n",
      "                               max_iter=500, momentum=0.9, n_iter_no_change=10,\n",
      "                               nesterovs_momentum=True, power_t=0.5,\n",
      "                               random_state=2021, shuffle=True, solver='lbfgs',\n",
      "                               tol=0.0001, validation_fraction=0.1,\n",
      "                               verbose=False, warm_start=False))],\n",
      "         verbose=False)\n",
      "[LR] AUC Validation: 0.8479\n",
      "[LR] Fit time: 15.3026s\n",
      "[LR] Best classifier:\n",
      "Pipeline(memory=None,\n",
      "         steps=[('standardize',\n",
      "                 StandardScaler(copy=True, with_mean=True, with_std=True)),\n",
      "                ('trf', None), ('standardize2', None),\n",
      "                ('clf',\n",
      "                 LogisticRegression(C=0.4832930238571752, class_weight=None,\n",
      "                                    dual=False, fit_intercept=True,\n",
      "                                    intercept_scaling=1, l1_ratio=None,\n",
      "                                    max_iter=500, multi_class='auto',\n",
      "                                    n_jobs=None, penalty='l2',\n",
      "                                    random_state=2021, solver='liblinear',\n",
      "                                    tol=0.0001, verbose=0, warm_start=False))],\n",
      "         verbose=False)\n"
     ]
    }
   ],
   "source": [
    "# Choose best model\n",
    "\n",
    "best_models = []\n",
    "best_auc_val = -1.0\n",
    "my_model = None\n",
    "for (model, name), params in zip(models, params_lst):\n",
    "    gs = GridSearchCV(\n",
    "        model,\n",
    "        params,\n",
    "        verbose=0,\n",
    "        scoring=\"roc_auc\",\n",
    "        cv=5,\n",
    "        refit=True,\n",
    "        n_jobs=-1\n",
    "    )\n",
    "\n",
    "    start = time.time()\n",
    "    gs.fit(X_train, y_train)\n",
    "    end = time.time() - start\n",
    "    best = gs.best_estimator_\n",
    "    auc_val = gs.best_score_\n",
    "\n",
    "    print(f\"[{name}] AUC Validation: {auc_val:.4f}\")\n",
    "    print(f\"[{name}] Fit time: {end:.4f}s\")\n",
    "    print(f\"[{name}] Best classifier:\")\n",
    "    print(best)\n",
    "\n",
    "    best_models.append(best)\n",
    "    \n",
    "    if auc_val > best_auc_val:\n",
    "        best_auc_val = auc_val\n",
    "        my_model = best"
   ]
  },
  {
   "cell_type": "code",
   "execution_count": 17,
   "metadata": {
    "colab": {
     "base_uri": "https://localhost:8080/",
     "height": 296
    },
    "id": "z7osCICZzg6U",
    "outputId": "aaf21154-70d0-44a9-825c-860df0ab8617"
   },
   "outputs": [
    {
     "name": "stdout",
     "output_type": "stream",
     "text": [
      "[SVC] Acc Test Celeb-DF: 0.5950\n"
     ]
    },
    {
     "data": {
      "image/png": "[encoded data removed]",
      "text/plain": [
       "<Figure size 432x288 with 1 Axes>"
      ]
     },
     "metadata": {
      "needs_background": "light",
      "tags": []
     },
     "output_type": "display_data"
    }
   ],
   "source": [
    "# Evaluate our model on the Celeb-DF test set\n",
    "name=my_model['clf'].__class__.__name__\n",
    "acc_test = my_model.score(X_test, y_test)\n",
    "print(f\"[{name}] Acc Test Celeb-DF: {acc_test:.4f}\")\n",
    "plot_roc_curve(my_model, X_test, y_test, name = name)\n",
    "plt.show()"
   ]
  }
 ],
 "metadata": {
  "accelerator": "GPU",
  "colab": {
   "collapsed_sections": [],
   "name": "Task3_ML.ipynb",
   "provenance": []
  },
  "kernelspec": {
   "display_name": "Python 3",
   "language": "python",
   "name": "python3"
  },
  "language_info": {
   "codemirror_mode": {
    "name": "ipython",
    "version": 3
   },
   "file_extension": ".py",
   "mimetype": "text/x-python",
   "name": "python",
   "nbconvert_exporter": "python",
   "pygments_lexer": "ipython3",
   "version": "3.9.2"
  },
  "latex_envs": {
   "LaTeX_envs_menu_present": false,
   "autoclose": true,
   "autocomplete": false,
   "bibliofile": "bibliography.bib",
   "cite_by": "apalike",
   "current_citInitial": 1,
   "eqLabelWithNumbers": true,
   "eqNumInitial": 1,
   "hotkeys": {
    "equation": "Ctrl-E",
    "itemize": "Ctrl-I"
   },
   "labels_anchors": false,
   "latex_user_defs": false,
   "report_style_numbering": false,
   "user_envs_cfg": false
  },
  "toc": {
   "base_numbering": 1,
   "nav_menu": {},
   "number_sections": true,
   "sideBar": true,
   "skip_h1_title": false,
   "title_cell": "Table of Contents",
   "title_sidebar": "Contents",
   "toc_cell": false,
   "toc_position": {},
   "toc_section_display": true,
   "toc_window_display": false
  },
  "varInspector": {
   "cols": {
    "lenName": 16,
    "lenType": 16,
    "lenVar": 40
   },
   "kernels_config": {
    "python": {
     "delete_cmd_postfix": "",
     "delete_cmd_prefix": "del ",
     "library": "var_list.py",
     "varRefreshCmd": "print(var_dic_list())"
    },
    "r": {
     "delete_cmd_postfix": ") ",
     "delete_cmd_prefix": "rm(",
     "library": "var_list.r",
     "varRefreshCmd": "cat(var_dic_list()) "
    }
   },
   "types_to_exclude": [
    "module",
    "function",
    "builtin_function_or_method",
    "instance",
    "_Feature"
   ],
   "window_display": false
  }
 },
 "nbformat": 4,
 "nbformat_minor": 1
}
