{
  "nbformat": 4,
  "nbformat_minor": 0,
  "metadata": {
    "colab": {
      "name": "Task3_Facenet.ipynb",
      "provenance": [],
      "collapsed_sections": []
    },
    "kernelspec": {
      "name": "python3",
      "display_name": "Python 3"
    },
    "accelerator": "GPU"
  },
  "cells": [
    {
      "cell_type": "code",
      "metadata": {
        "id": "sj2BVdZFaASv"
      },
      "source": [
        "# Directorio de trabajo\n",
        "import sys\n",
        "import os\n",
        "from google.colab import drive\n",
        "drive.mount(\"/content/drive\", force_remount = True)\n",
        "DIR = \"/content/drive/My Drive/bio/\"\n",
        "\n",
        "%cd \"$DIR\""
      ],
      "execution_count": null,
      "outputs": []
    },
    {
      "cell_type": "code",
      "metadata": {
        "id": "kbY3sDukaBou"
      },
      "source": [
        "import matplotlib.pyplot as plt\n",
        "import numpy as np\n",
        "import cv2\n",
        "import dlib\n",
        "import time\n",
        "from tqdm.notebook import tqdm\n",
        "\n",
        "import tensorflow as tf\n",
        "from tensorflow.keras.preprocessing.image import ImageDataGenerator\n",
        "from keras.models import load_model\n",
        "\n",
        "from sklearn.metrics import plot_roc_curve\n",
        "\n",
        "from warnings import simplefilter\n",
        "from sklearn.exceptions import ConvergenceWarning\n",
        "\n",
        "%matplotlib inline\n",
        "%load_ext autoreload\n",
        "%autoreload 2\n",
        "\n",
        "seed = 2021\n",
        "rng = np.random.default_rng(seed=seed)\n",
        "simplefilter(\"ignore\", category=ConvergenceWarning)"
      ],
      "execution_count": 2,
      "outputs": []
    },
    {
      "cell_type": "code",
      "metadata": {
        "id": "7rsTjm-0NKMP"
      },
      "source": [
        "device_name = tf.test.gpu_device_name()\n",
        "if device_name != '/device:GPU:0':\n",
        "  raise SystemError('GPU device not found')\n",
        "_ = tf.device('/device:GPU:0')"
      ],
      "execution_count": 3,
      "outputs": []
    },
    {
      "cell_type": "code",
      "metadata": {
        "id": "RkEvAoDZd45K"
      },
      "source": [
        "train_dir = 'UADFV+TIMIT_faces_training/'\n",
        "test_dir = 'CelebDF-Test/'\n",
        "target_size = (160, 160)"
      ],
      "execution_count": 4,
      "outputs": []
    },
    {
      "cell_type": "code",
      "metadata": {
        "colab": {
          "base_uri": "https://localhost:8080/"
        },
        "id": "vSeHp263hpwf",
        "outputId": "d1b2d89d-1357-48da-a9e7-a69446d8abe0"
      },
      "source": [
        "train_datagen = ImageDataGenerator()\n",
        "test_datagen = ImageDataGenerator()\n",
        "\n",
        "train_data = train_datagen.flow_from_directory(\n",
        "    directory=train_dir,\n",
        "    class_mode='binary',\n",
        "    batch_size=1,\n",
        "    seed=seed,\n",
        "    target_size=target_size,\n",
        "    subset=\"training\"\n",
        ")\n",
        "\n",
        "test_data = test_datagen.flow_from_directory(\n",
        "    directory=test_dir,\n",
        "    class_mode='binary',\n",
        "    batch_size=1,\n",
        "    seed=seed,\n",
        "    target_size=target_size,\n",
        ")\n",
        "\n",
        "num_train = train_data.samples\n",
        "num_test = test_data.samples"
      ],
      "execution_count": 5,
      "outputs": [
        {
          "output_type": "stream",
          "text": [
            "Found 1829 images belonging to 2 classes.\n",
            "Found 600 images belonging to 2 classes.\n"
          ],
          "name": "stdout"
        }
      ]
    },
    {
      "cell_type": "code",
      "metadata": {
        "id": "u9ouehqLaC_1"
      },
      "source": [
        "# Load Facenet model and landmark detector\n",
        "facenet = load_model('models/facenet_keras.h5')\n",
        "sp68 = dlib.shape_predictor('models/shape_predictor_68_face_landmarks.dat')"
      ],
      "execution_count": null,
      "outputs": []
    },
    {
      "cell_type": "code",
      "metadata": {
        "id": "cSw9OE3FjTnB"
      },
      "source": [
        "def preprocess(im, sigma):\n",
        "    if rng.random() < 0.5:\n",
        "        kernel_size = rng.choice([1, 3, 5, 7])\n",
        "        im_noise = cv2.GaussianBlur(im, (kernel_size, kernel_size), 0)\n",
        "    else:\n",
        "        std = sigma*rng.random()\n",
        "        noise = rng.normal(0, std, im.shape[:2])\n",
        "        im_noise = im + np.tile(noise[:, :, None], (1, 1, 3))\n",
        "    \n",
        "    return im_noise\n",
        "\n",
        "\n",
        "def shape_to_np(shape):\n",
        "    number_of_points = shape.num_parts\n",
        "    points = np.zeros((number_of_points, 2), dtype=np.int32)\n",
        "\n",
        "    for i in range(number_of_points):\n",
        "        points[i] = [shape.part(i).x, shape.part(i).y]\n",
        "\n",
        "    return points\n",
        "\n",
        "\n",
        "def get_crops_landmarks(im, sigma, blur, verbose):\n",
        "    \"\"\"\n",
        "    Detects faces and landmarks in image, crops image to face region.\n",
        "    We assume there is only one face on each dataset.\n",
        "    \"\"\"\n",
        "    img = im.reshape(*im.shape[1:]).astype('uint8')\n",
        "\n",
        "    # Add noise\n",
        "    if blur:\n",
        "        img_prec = preprocess(img, sigma=sigma).astype('uint8')\n",
        "    else:\n",
        "        img_prec = img\n",
        "\n",
        "    # Detect landmarks and transform to np array\n",
        "    face = dlib.rectangle(0, 0, 159, 159)  # our face crops are 160x160\n",
        "    landmarks = shape_to_np(sp68(img_prec, face))\n",
        "    gray = cv2.cvtColor(img_prec, cv2.COLOR_RGB2GRAY)\n",
        "\n",
        "    # Truncate landmarks\n",
        "    landmarks[landmarks < 0] = 0\n",
        "    landmarks[landmarks > 159] = 159\n",
        "    face_landmarks = gray[landmarks[:, 1], landmarks[:, 0]]\n",
        "\n",
        "    # Plot images\n",
        "    if verbose:\n",
        "        cv2.rectangle(img, (0, 0), (159, 159), (0, 255, 0), 3)\n",
        "        for (sX, sY) in landmarks:\n",
        "            cv2.circle(img, (sX, sY), 1, (0, 0, 255), 2)\n",
        "        plt.imshow(img)\n",
        "        plt.show()\n",
        "\n",
        "    # Get face ROI\n",
        "    x1, y1, x2, y2 = (\n",
        "        np.min(landmarks[:, 0]), \n",
        "        np.min(landmarks[:, 1]), \n",
        "        np.max(landmarks[:, 0]), \n",
        "        np.max(landmarks[:, 1])\n",
        "    )\n",
        "    face_crop = img_prec[y1:y2, x1:x2, :]\n",
        "    face_crop = cv2.resize(face_crop, (160, 160))\n",
        "\n",
        "    # normalize landmarks and face\n",
        "    face_landmarks = face_landmarks.astype(np.float64)\n",
        "    face_landmarks -= face_landmarks.mean(axis=0)\n",
        "    face_crop = face_crop.astype(np.float64)\n",
        "    face_crop = (face_crop - face_crop.mean())\n",
        "    face_crop = np.expand_dims(face_crop, axis=0)\n",
        "\n",
        "    return face_landmarks, face_crop\n",
        "\n",
        "\n",
        "def extract_features(\n",
        "    data_flow, \n",
        "    num_images, \n",
        "    sigma=3,\n",
        "    blur=False,\n",
        "    verbose=0,\n",
        "    skip=True\n",
        "):\n",
        "    X = np.zeros((num_images, 68+128))  # 68 landmarks and 128 embedding\n",
        "    y = np.zeros(num_images,)\n",
        "\n",
        "    i = 0\n",
        "    for im, label in tqdm(data_flow):\n",
        "        face_landmarks, face_crop = \\\n",
        "            get_crops_landmarks(\n",
        "                im, sigma=sigma, \n",
        "                blur=blur, verbose=verbose)\n",
        "\n",
        "        embedding = facenet.predict(face_crop)[0]\n",
        "        X[i] = np.concatenate((face_landmarks.flatten(),\n",
        "                               embedding))\n",
        "        y[i] = label\n",
        "\n",
        "        i += 1\n",
        "        if i >= num_images:\n",
        "            break\n",
        "        \n",
        "    return X, y"
      ],
      "execution_count": null,
      "outputs": []
    },
    {
      "cell_type": "code",
      "metadata": {
        "id": "m9FATaFw8biM"
      },
      "source": [
        "X_train, y_train = extract_features(train_data, num_train, blur=False)\n",
        "print(\"X_train:\", X_train.shape)\n",
        "X_test, y_test = extract_features(test_data, num_test)\n",
        "print(\"X_test:\", X_test.shape)"
      ],
      "execution_count": null,
      "outputs": []
    },
    {
      "cell_type": "code",
      "metadata": {
        "id": "LpOrfzlwxcyc"
      },
      "source": [
        "np.savez(\n",
        "    'data3-Facenet', \n",
        "    X_train=X_train, \n",
        "    y_train=y_train,\n",
        "    X_test=X_test, \n",
        "    y_test=y_test\n",
        ")"
      ],
      "execution_count": null,
      "outputs": []
    },
    {
      "cell_type": "code",
      "metadata": {
        "id": "pV0uqGoR2V91"
      },
      "source": [
        "data3 = np.load('data3-Facenet.npz')\n",
        "X_train, y_train = data3['X_train'], data3['y_train']\n",
        "X_test, y_test = data3['X_test'], data3['y_test']"
      ],
      "execution_count": 6,
      "outputs": []
    },
    {
      "cell_type": "code",
      "metadata": {
        "id": "h-ivEXYuxkJy"
      },
      "source": [
        "from sklearn.svm import SVC, LinearSVC\n",
        "from sklearn.preprocessing import StandardScaler\n",
        "from sklearn.pipeline import Pipeline\n",
        "from sklearn.linear_model import LogisticRegression\n",
        "from sklearn.model_selection import GridSearchCV, PredefinedSplit, StratifiedKFold\n",
        "from sklearn.neural_network import MLPClassifier\n",
        "from sklearn.decomposition import PCA\n",
        "\n",
        "# Models\n",
        "models = [\n",
        "    # SVC + RBF\n",
        "    (Pipeline([\n",
        "        ('standardize', StandardScaler()),\n",
        "        ('trf', None),\n",
        "        ('standardize2', None),\n",
        "        ('clf', SVC(kernel='rbf', random_state=seed))]),\n",
        "     \"SVC\"),\n",
        "    # SVC linear\n",
        "    (Pipeline([\n",
        "        ('standardize', StandardScaler()),\n",
        "        ('trf', None),\n",
        "        ('standardize2', None),\n",
        "        ('clf', LinearSVC(dual=False, random_state=seed))]),\n",
        "     \"L-SVC\"),\n",
        "    # MLP\n",
        "    (Pipeline([\n",
        "        ('standardize', StandardScaler()),\n",
        "        ('trf', None),\n",
        "        ('standardize2', None),\n",
        "        ('clf', MLPClassifier(max_iter=500,\n",
        "                              solver='lbfgs',\n",
        "                              random_state=seed))]),\n",
        "     \"MLP\"),\n",
        "    # Logistic Regression\n",
        "    (Pipeline([\n",
        "        ('standardize', StandardScaler()),\n",
        "        ('trf', None),\n",
        "        ('standardize2', None),\n",
        "        ('clf', LogisticRegression(max_iter=500,\n",
        "                                   random_state=seed))]),\n",
        "     \"LR\")\n",
        "]\n",
        "\n",
        "params_lst = [\n",
        "    # SVC + RBF\n",
        "    [\n",
        "        # No transformation\n",
        "        {\n",
        "            \"clf__gamma\": np.logspace(-4, 0, 10),\n",
        "            \"clf__C\": np.logspace(-2, 2, 10)\n",
        "        },\n",
        "        # PCA\n",
        "        {\n",
        "            \"clf__gamma\": np.logspace(-4, 0, 10),\n",
        "            \"clf__C\": np.logspace(-2, 2, 10),\n",
        "            \"trf\": [PCA()],\n",
        "            \"trf__n_components\": [0.9, 0.95, 0.99],\n",
        "            \"standardize2\": [StandardScaler()]\n",
        "        },\n",
        "    ],\n",
        "    # SVM Linear\n",
        "    [\n",
        "        # No transformation\n",
        "        {\n",
        "            \"clf__C\": np.logspace(-3, 3, 30),\n",
        "        },\n",
        "        # PCA\n",
        "        {\n",
        "            \"clf__C\": np.logspace(-3, 3, 30),\n",
        "            \"trf\": [PCA()],\n",
        "            \"trf__n_components\": [0.9, 0.95, 0.99],\n",
        "            \"standardize2\": [StandardScaler()]\n",
        "        },\n",
        "    ],\n",
        "    # MLP\n",
        "    [\n",
        "        # No transformation\n",
        "        {\n",
        "            \"clf__hidden_layer_sizes\": [(100,), (50, 50,), (100, 100,), (50,)],\n",
        "            \"clf__alpha\": np.logspace(-2, 2, 10),\n",
        "        },\n",
        "        # PCA\n",
        "        {\n",
        "            \"clf__hidden_layer_sizes\": [(100,), (50, 50,), (100, 100,), (50,)],\n",
        "            \"clf__alpha\": np.logspace(-2, 2, 10),\n",
        "            \"trf\": [PCA()],\n",
        "            \"trf__n_components\": [0.9, 0.95, 0.99],\n",
        "            \"standardize2\": [StandardScaler()]\n",
        "        },\n",
        "    ],\n",
        "    # Logistic Regression\n",
        "    [\n",
        "        # No transformation\n",
        "        {\n",
        "            \"clf__C\": np.logspace(-2, 2, 20),\n",
        "            \"clf__solver\": ['lbfgs', 'liblinear']\n",
        "        },\n",
        "        # PCA\n",
        "        {\n",
        "            \"clf__C\": np.logspace(-2, 2, 20),\n",
        "            \"clf__solver\": ['lbfgs', 'sag'],\n",
        "            \"trf\": [PCA()],\n",
        "            \"trf__n_components\": [0.9, 0.95, 0.99],\n",
        "            \"standardize2\": [StandardScaler()]\n",
        "        },\n",
        "    ],\n",
        "]"
      ],
      "execution_count": 9,
      "outputs": []
    },
    {
      "cell_type": "code",
      "metadata": {
        "colab": {
          "base_uri": "https://localhost:8080/"
        },
        "id": "a66ce4WljqwI",
        "outputId": "a337336b-92d8-4803-89a5-3dfd6c994130"
      },
      "source": [
        "# Select features\n",
        "idx = np.arange(68+128)\n",
        "\n",
        "# Set CV parameters\n",
        "folds = StratifiedKFold(\n",
        "    5,\n",
        "    shuffle=True,\n",
        "    random_state=seed\n",
        ")\n",
        "\n",
        "# Choose best model\n",
        "\n",
        "best_models = []\n",
        "best_auc_val = -1.0\n",
        "my_model = None\n",
        "for (model, name), params in zip(models, params_lst):\n",
        "    gs = GridSearchCV(\n",
        "        model,\n",
        "        params,\n",
        "        verbose=0,\n",
        "        scoring=\"roc_auc\",\n",
        "        cv=folds,\n",
        "        refit=True,\n",
        "        n_jobs=-1\n",
        "    )\n",
        "\n",
        "    start = time.time()\n",
        "    gs.fit(X_train[:, idx], y_train)\n",
        "    end = time.time() - start\n",
        "    best = gs.best_estimator_\n",
        "    auc_val = gs.best_score_\n",
        "\n",
        "    print(f\"[{name}] AUC Validation: {auc_val:.4f}\")\n",
        "    print(f\"[{name}] Fit time: {end:.4f}s\")\n",
        "    print(f\"[{name}] Best classifier:\")\n",
        "    print(best)\n",
        "\n",
        "    best_models.append(best)\n",
        "    \n",
        "    if auc_val > best_auc_val:\n",
        "        best_auc_val = auc_val\n",
        "        my_model = best"
      ],
      "execution_count": 10,
      "outputs": [
        {
          "output_type": "stream",
          "text": [
            "[SVC] AUC Validation: 0.9996\n",
            "[SVC] Fit time: 552.8948s\n",
            "[SVC] Best classifier:\n",
            "Pipeline(memory=None,\n",
            "         steps=[('standardize',\n",
            "                 StandardScaler(copy=True, with_mean=True, with_std=True)),\n",
            "                ('trf', None), ('standardize2', None),\n",
            "                ('clf',\n",
            "                 SVC(C=4.6415888336127775, break_ties=False, cache_size=200,\n",
            "                     class_weight=None, coef0=0.0,\n",
            "                     decision_function_shape='ovr', degree=3,\n",
            "                     gamma=0.016681005372000592, kernel='rbf', max_iter=-1,\n",
            "                     probability=False, random_state=2021, shrinking=True,\n",
            "                     tol=0.001, verbose=False))],\n",
            "         verbose=False)\n",
            "[L-SVC] AUC Validation: 0.9706\n",
            "[L-SVC] Fit time: 88.7473s\n",
            "[L-SVC] Best classifier:\n",
            "Pipeline(memory=None,\n",
            "         steps=[('standardize',\n",
            "                 StandardScaler(copy=True, with_mean=True, with_std=True)),\n",
            "                ('trf', None), ('standardize2', None),\n",
            "                ('clf',\n",
            "                 LinearSVC(C=13.738237958832638, class_weight=None, dual=False,\n",
            "                           fit_intercept=True, intercept_scaling=1,\n",
            "                           loss='squared_hinge', max_iter=1000,\n",
            "                           multi_class='ovr', penalty='l2', random_state=2021,\n",
            "                           tol=0.0001, verbose=0))],\n",
            "         verbose=False)\n",
            "[MLP] AUC Validation: 0.9980\n",
            "[MLP] Fit time: 961.0945s\n",
            "[MLP] Best classifier:\n",
            "Pipeline(memory=None,\n",
            "         steps=[('standardize',\n",
            "                 StandardScaler(copy=True, with_mean=True, with_std=True)),\n",
            "                ('trf', None), ('standardize2', None),\n",
            "                ('clf',\n",
            "                 MLPClassifier(activation='relu', alpha=0.5994842503189409,\n",
            "                               batch_size='auto', beta_1=0.9, beta_2=0.999,\n",
            "                               early_stopping=False, epsilon=1e-08,\n",
            "                               hidden_layer_sizes=(50,),\n",
            "                               learning_rate='constant',\n",
            "                               learning_rate_init=0.001, max_fun=15000,\n",
            "                               max_iter=500, momentum=0.9, n_iter_no_change=10,\n",
            "                               nesterovs_momentum=True, power_t=0.5,\n",
            "                               random_state=2021, shuffle=True, solver='lbfgs',\n",
            "                               tol=0.0001, validation_fraction=0.1,\n",
            "                               verbose=False, warm_start=False))],\n",
            "         verbose=False)\n",
            "[LR] AUC Validation: 0.9695\n",
            "[LR] Fit time: 70.1079s\n",
            "[LR] Best classifier:\n",
            "Pipeline(memory=None,\n",
            "         steps=[('standardize',\n",
            "                 StandardScaler(copy=True, with_mean=True, with_std=True)),\n",
            "                ('trf', None), ('standardize2', None),\n",
            "                ('clf',\n",
            "                 LogisticRegression(C=100.0, class_weight=None, dual=False,\n",
            "                                    fit_intercept=True, intercept_scaling=1,\n",
            "                                    l1_ratio=None, max_iter=500,\n",
            "                                    multi_class='auto', n_jobs=None,\n",
            "                                    penalty='l2', random_state=2021,\n",
            "                                    solver='lbfgs', tol=0.0001, verbose=0,\n",
            "                                    warm_start=False))],\n",
            "         verbose=False)\n"
          ],
          "name": "stdout"
        }
      ]
    },
    {
      "cell_type": "code",
      "metadata": {
        "colab": {
          "base_uri": "https://localhost:8080/",
          "height": 296
        },
        "id": "ehYeVSjujtxl",
        "outputId": "e8f7659b-0d02-40cd-d0aa-65e8e0b4d66a"
      },
      "source": [
        "# Evaluate our model on the Celeb-DF test set\n",
        "name=my_model['clf'].__class__.__name__\n",
        "acc_test = my_model.score(X_test[:, idx], y_test)\n",
        "print(f\"[{name}] Acc Test Celeb-DF: {acc_test:.4f}\")\n",
        "plot_roc_curve(my_model, X_test[:, idx], y_test, name = name)\n",
        "plt.show()"
      ],
      "execution_count": 12,
      "outputs": [
        {
          "output_type": "stream",
          "text": [
            "[SVC] Acc Test Celeb-DF: 0.5433\n"
          ],
          "name": "stdout"
        },
        {
          "output_type": "display_data",
          "data": {
            "image/png": "[encoded data removed]",
            "text/plain": [
              "<Figure size 432x288 with 1 Axes>"
            ]
          },
          "metadata": {
            "tags": [],
            "needs_background": "light"
          }
        }
      ]
    }
  ]
}