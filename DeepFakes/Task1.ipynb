{
 "cells": [
  {
   "cell_type": "markdown",
   "metadata": {
    "id": "PkxKKmhX1JIQ"
   },
   "source": [
    "**UADFV**: 380 real and 380 fakes for training; 110 real and 100 fake for testing."
   ]
  },
  {
   "cell_type": "markdown",
   "metadata": {
    "heading_collapsed": true
   },
   "source": [
    "# Aux and testing functions"
   ]
  },
  {
   "cell_type": "code",
   "execution_count": 24,
   "metadata": {
    "ExecuteTime": {
     "end_time": "2021-03-17T20:23:06.155607Z",
     "start_time": "2021-03-17T20:23:06.133930Z"
    },
    "deletable": false,
    "editable": false,
    "hidden": true,
    "run_control": {
     "frozen": true
    }
   },
   "outputs": [],
   "source": [
    "\"\"\"Taken from https://github.com/fled/blur_detection\"\"\"\n",
    "def get_blur_map(image_file, win_size=10, sv_num=3):\n",
    "    img = cv2.imread(image_file, cv2.IMREAD_GRAYSCALE)\n",
    "    new_img = np.zeros((img.shape[0]+win_size*2, img.shape[1]+win_size*2))\n",
    "    for i in range(new_img.shape[0]):\n",
    "        for j in range(new_img.shape[1]):\n",
    "            if i<win_size:\n",
    "                p = win_size-i\n",
    "            elif i>img.shape[0]+win_size-1:\n",
    "                p = img.shape[0]*2-i\n",
    "            else:\n",
    "                p = i-win_size\n",
    "            if j<win_size:\n",
    "                q = win_size-j\n",
    "            elif j>img.shape[1]+win_size-1:\n",
    "                q = img.shape[1]*2-j\n",
    "            else:\n",
    "                q = j-win_size\n",
    "            #print p,q, i, j\n",
    "            new_img[i,j] = img[p,q]\n",
    "\n",
    "    #cv2.imwrite('test.jpg', new_img)\n",
    "    #cv2.imwrite('testin.jpg', img)\n",
    "    blur_map = np.zeros((img.shape[0], img.shape[1]))\n",
    "    max_sv = 0\n",
    "    min_sv = 1\n",
    "    for i in range(img.shape[0]):\n",
    "        for j in range(img.shape[1]):\n",
    "            block = new_img[i:i+win_size*2, j:j+win_size*2]\n",
    "            u, s, v = np.linalg.svd(block)\n",
    "            top_sv = np.sum(s[0:sv_num])\n",
    "            total_sv = np.sum(s)\n",
    "            sv_degree = top_sv/total_sv\n",
    "            if max_sv < sv_degree:\n",
    "                max_sv = sv_degree\n",
    "            if min_sv > sv_degree:\n",
    "                min_sv = sv_degree\n",
    "            blur_map[i, j] = sv_degree\n",
    "    #cv2.imwrite('blurmap.jpg', (1 - blur_map) * 255)\n",
    "\n",
    "    blur_map = (blur_map-min_sv)/(max_sv-min_sv)\n",
    "    #cv2.imwrite('blurmap_norm.jpg', (1-blur_map)*255)\n",
    "    return blur_map"
   ]
  },
  {
   "cell_type": "markdown",
   "metadata": {},
   "source": [
    "# Workflow"
   ]
  },
  {
   "cell_type": "code",
   "execution_count": 1,
   "metadata": {
    "ExecuteTime": {
     "end_time": "2021-03-19T00:17:46.213914Z",
     "start_time": "2021-03-19T00:17:37.158062Z"
    },
    "executionInfo": {
     "elapsed": 2509,
     "status": "ok",
     "timestamp": 1616010140029,
     "user": {
      "displayName": "Antonio CC",
      "photoUrl": "https://lh3.googleusercontent.com/a-/AOh14Gi-t2Yu-h1nXt0LwF4i3Y-WUvQFuqaIOVrzjcrU=s64",
      "userId": "15294922141235348228"
     },
     "user_tz": -60
    },
    "id": "GiadkRNUXxzK"
   },
   "outputs": [],
   "source": [
    "import matplotlib.pyplot as plt\n",
    "import numpy as np\n",
    "import cv2\n",
    "import dlib\n",
    "import pickle\n",
    "from tqdm.notebook import tqdm\n",
    "\n",
    "import tensorflow as tf\n",
    "from tensorflow.keras.preprocessing.image import ImageDataGenerator\n",
    "\n",
    "%load_ext autoreload"
   ]
  },
  {
   "cell_type": "code",
   "execution_count": 2,
   "metadata": {
    "ExecuteTime": {
     "end_time": "2021-03-19T00:17:46.245377Z",
     "start_time": "2021-03-19T00:17:46.226008Z"
    },
    "executionInfo": {
     "elapsed": 1188,
     "status": "ok",
     "timestamp": 1616010140034,
     "user": {
      "displayName": "Antonio CC",
      "photoUrl": "https://lh3.googleusercontent.com/a-/AOh14Gi-t2Yu-h1nXt0LwF4i3Y-WUvQFuqaIOVrzjcrU=s64",
      "userId": "15294922141235348228"
     },
     "user_tz": -60
    },
    "id": "mLCwo9WZiYL1"
   },
   "outputs": [],
   "source": [
    "seed = 2021\n",
    "train_dir = 'UADFV/development/'\n",
    "test_dir = 'UADFV/evaluation/'\n",
    "target_size = (768, 768)"
   ]
  },
  {
   "cell_type": "code",
   "execution_count": 3,
   "metadata": {
    "ExecuteTime": {
     "end_time": "2021-03-19T00:17:46.277535Z",
     "start_time": "2021-03-19T00:17:46.261789Z"
    }
   },
   "outputs": [],
   "source": [
    "def preprocess(x):\n",
    "    \"\"\"\n",
    "    Can't change dimensions.\n",
    "    \n",
    "    x: (*target_size, channels)\n",
    "    \"\"\"\n",
    "    #TODO: maybe random Gaussian blur?(random kernel size)\n",
    "    return x"
   ]
  },
  {
   "cell_type": "code",
   "execution_count": 4,
   "metadata": {
    "ExecuteTime": {
     "end_time": "2021-03-19T00:17:46.693577Z",
     "start_time": "2021-03-19T00:17:46.287937Z"
    },
    "colab": {
     "base_uri": "https://localhost:8080/"
    },
    "id": "4sMAp_kJhrxE",
    "outputId": "6905a250-ed1e-4b4e-c48c-08e9afa47886"
   },
   "outputs": [
    {
     "name": "stdout",
     "output_type": "stream",
     "text": [
      "Found 608 images belonging to 2 classes.\n",
      "Found 152 images belonging to 2 classes.\n",
      "Found 210 images belonging to 2 classes.\n"
     ]
    }
   ],
   "source": [
    "train_datagen = ImageDataGenerator(\n",
    "    #rescale=1./255,\n",
    "    shear_range=0.2,\n",
    "    horizontal_flip=True,\n",
    "    rotation_range=30,\n",
    "#    channel_shift_range=50,\n",
    "    preprocessing_function=preprocess,\n",
    "    validation_split=0.2\n",
    ")\n",
    "\n",
    "val_datagen = ImageDataGenerator(\n",
    "    #rescale=1./255,\n",
    "    preprocessing_function=preprocess,\n",
    "    validation_split=0.2\n",
    ")\n",
    "\n",
    "test_datagen = ImageDataGenerator(\n",
    "    #rescale=1./255,\n",
    "    preprocessing_function=preprocess\n",
    ")\n",
    "\n",
    "train_data = train_datagen.flow_from_directory(\n",
    "    directory=train_dir,\n",
    "    class_mode='binary',\n",
    "    batch_size=1,\n",
    "    seed=seed,\n",
    "    target_size=target_size,\n",
    "    subset=\"training\"\n",
    ")\n",
    "\n",
    "val_data = val_datagen.flow_from_directory(\n",
    "    directory=train_dir,\n",
    "    class_mode='binary',\n",
    "    batch_size=1,\n",
    "    seed=seed,\n",
    "    target_size=target_size,\n",
    "    subset=\"validation\"\n",
    ")\n",
    "\n",
    "test_data = test_datagen.flow_from_directory(\n",
    "    directory=test_dir,\n",
    "    class_mode='binary',\n",
    "    batch_size=1,\n",
    "    seed=seed,\n",
    "    target_size=target_size,\n",
    ")"
   ]
  },
  {
   "cell_type": "code",
   "execution_count": 5,
   "metadata": {
    "ExecuteTime": {
     "end_time": "2021-03-19T00:17:46.722763Z",
     "start_time": "2021-03-19T00:17:46.704785Z"
    }
   },
   "outputs": [],
   "source": [
    "num_train = train_data.samples\n",
    "num_val = val_data.samples\n",
    "num_test = test_data.samples"
   ]
  },
  {
   "cell_type": "code",
   "execution_count": 6,
   "metadata": {
    "ExecuteTime": {
     "end_time": "2021-03-19T00:17:52.444820Z",
     "start_time": "2021-03-19T00:17:46.736006Z"
    }
   },
   "outputs": [],
   "source": [
    "face_detector = dlib.get_frontal_face_detector()\n",
    "sp68 = dlib.shape_predictor('utils/shape_predictor_68_face_landmarks.dat')"
   ]
  },
  {
   "cell_type": "code",
   "execution_count": 7,
   "metadata": {
    "ExecuteTime": {
     "end_time": "2021-03-19T00:17:52.534033Z",
     "start_time": "2021-03-19T00:17:52.453963Z"
    }
   },
   "outputs": [],
   "source": [
    "def shape_to_np(shape):\n",
    "    number_of_points = shape.num_parts\n",
    "    points = np.zeros((number_of_points, 2), dtype=np.int32)\n",
    "    for i in range(number_of_points):\n",
    "        points[i] = (shape.part(i).x, shape.part(i).y)\n",
    "\n",
    "    return points\n",
    "\n",
    "\n",
    "def get_crops_landmarks(im, roi_delta = 0.1):\n",
    "    \"\"\"\n",
    "    Detects faces and landmarks in image, crops image to face region.\n",
    "    We assume there is only one face on each dataset.\n",
    "    \"\"\"\n",
    "    img = im.reshape(*target_size, 3).astype('uint8')\n",
    "    gray = cv2.cvtColor(img, cv2.COLOR_RGB2GRAY)\n",
    "    \n",
    "    dets = face_detector(img, 0)\n",
    "\n",
    "    num_faces = len(dets)\n",
    "    if num_faces == 0:\n",
    "        return None, None\n",
    "\n",
    "    # Only one face\n",
    "    detection = dets[0]\n",
    "    \n",
    "    # detect landmarks and transform to np array\n",
    "    landmarks = shape_to_np(sp68(gray, detection))\n",
    "\n",
    "    # copy landmarks and get crop\n",
    "    face_roi = detection\n",
    "    face_roi = dlib.rectangle(\n",
    "        max(0, face_roi.left()), \n",
    "        max(0, face_roi.top()), \n",
    "        max(0, face_roi.right()),\n",
    "        max(0, face_roi.bottom()))\n",
    "\n",
    "    # extend face ROI if needed\n",
    "    delta_percent = roi_delta\n",
    "    height = face_roi.bottom() - face_roi.top()\n",
    "    delta = int(delta_percent * height)\n",
    "    extended_roi_top = np.clip(face_roi.top() - delta, 0, img.shape[0])\n",
    "    extended_roi_bottom = np.clip(face_roi.bottom() + delta, 0, img.shape[0])\n",
    "    extended_roi_left = np.clip(face_roi.left() - delta, 0, img.shape[1])\n",
    "    extended_roi_right = np.clip(face_roi.right() + delta, 0, img.shape[1])\n",
    "    cropped_face = img[extended_roi_top:extended_roi_bottom, \n",
    "                       extended_roi_left:extended_roi_right, \n",
    "                       :]\n",
    "\n",
    "    face_landmarks = landmarks.copy()\n",
    "    face_landmarks[:, 0] = face_landmarks[:, 0] - extended_roi_left\n",
    "    face_landmarks[:, 1] = face_landmarks[:, 1] - extended_roi_top\n",
    "\n",
    "    return cropped_face, face_landmarks\n",
    "\n",
    "\n",
    "def extract_features(data_flow, num_images):\n",
    "    X = np.zeros((num_images, 68*2))  # 68 landmarks\n",
    "    y = np.zeros(num_images,)\n",
    "    faces = []\n",
    "    \n",
    "    i = 0\n",
    "    for im, label in data_flow:\n",
    "        cropped_face, face_landmarks = get_crops_landmarks(im)\n",
    "        \n",
    "        if cropped_face is None or face_landmarks is None:\n",
    "            continue  # TODO: revise\n",
    "        \n",
    "        X[i] = np.asarray(face_landmarks.flatten())\n",
    "        y[i] = label\n",
    "        faces.append(np.asarray(cropped_face))\n",
    "        \n",
    "        i+= 1\n",
    "        print(i, end=\" \")\n",
    "        if i >= num_images:\n",
    "            break\n",
    "            \n",
    "    return X, y, np.array(faces, dtype=object)"
   ]
  },
  {
   "cell_type": "code",
   "execution_count": 8,
   "metadata": {
    "ExecuteTime": {
     "end_time": "2021-03-19T00:22:08.781438Z",
     "start_time": "2021-03-19T00:17:52.550160Z"
    }
   },
   "outputs": [
    {
     "name": "stdout",
     "output_type": "stream",
     "text": [
      "1 2 3 4 5 6 7 8 9 10 11 12 13 14 15 16 17 18 19 20 21 22 23 24 25 26 27 28 29 30 31 32 33 34 35 36 37 38 39 40 41 42 43 44 45 46 47 48 49 50 51 52 53 54 55 56 57 58 59 60 61 62 63 64 65 66 67 68 69 70 71 72 73 74 75 76 77 78 79 80 81 82 83 84 85 86 87 88 89 90 91 92 93 94 95 96 97 98 99 100 101 102 103 104 105 106 107 108 109 110 111 112 113 114 115 116 117 118 119 120 121 122 123 124 125 126 127 128 129 130 131 132 133 134 135 136 137 138 139 140 141 142 143 144 145 146 147 148 149 150 151 152 153 154 155 156 157 158 159 160 161 162 163 164 165 166 167 168 169 170 171 172 173 174 175 176 177 178 179 180 181 182 183 184 185 186 187 188 189 190 191 192 193 194 195 196 197 198 199 200 201 202 203 204 205 206 207 208 209 210 211 212 213 214 215 216 217 218 219 220 221 222 223 224 225 226 227 228 229 230 231 232 233 234 235 236 237 238 239 240 241 242 243 244 245 246 247 248 249 250 251 252 253 254 255 256 257 258 259 260 261 262 263 264 265 266 267 268 269 270 271 272 273 274 275 276 277 278 279 280 281 282 283 284 285 286 287 288 289 290 291 292 293 294 295 296 297 298 299 300 301 302 303 304 305 306 307 308 309 310 311 312 313 314 315 316 317 318 319 320 321 322 323 324 325 326 327 328 329 330 331 332 333 334 335 336 337 338 339 340 341 342 343 344 345 346 347 348 349 350 351 352 353 354 355 356 357 358 359 360 361 362 363 364 365 366 367 368 369 370 371 372 373 374 375 376 377 378 379 380 381 382 383 384 385 386 387 388 389 390 391 392 393 394 395 396 397 398 399 400 401 402 403 404 405 406 407 408 409 410 411 412 413 414 415 416 417 418 419 420 421 422 423 424 425 426 427 428 429 430 431 432 433 434 435 436 437 438 439 440 441 442 443 444 445 446 447 448 449 450 451 452 453 454 455 456 457 458 459 460 461 462 463 464 465 466 467 468 469 470 471 472 473 474 475 476 477 478 479 480 481 482 483 484 485 486 487 488 489 490 491 492 493 494 495 496 497 498 499 500 501 502 503 504 505 506 507 508 509 510 511 512 513 514 515 516 517 518 519 520 521 522 523 524 525 526 527 528 529 530 531 532 533 534 535 536 537 538 539 540 541 542 543 544 545 546 547 548 549 550 551 552 553 554 555 556 557 558 559 560 561 562 563 564 565 566 567 568 569 570 571 572 573 574 575 576 577 578 579 580 581 582 583 584 585 586 587 588 589 590 591 592 593 594 595 596 597 598 599 600 601 602 603 604 605 606 607 608 1 2 3 4 5 6 7 8 9 10 11 12 13 14 15 16 17 18 19 20 21 22 23 24 25 26 27 28 29 30 31 32 33 34 35 36 37 38 39 40 41 42 43 44 45 46 47 48 49 50 51 52 53 54 55 56 57 58 59 60 61 62 63 64 65 66 67 68 69 70 71 72 73 74 75 76 77 78 79 80 81 82 83 84 85 86 87 88 89 90 91 92 93 94 95 96 97 98 99 100 101 102 103 104 105 106 107 108 109 110 111 112 113 114 115 116 117 118 119 120 121 122 123 124 125 126 127 128 129 130 131 132 133 134 135 136 137 138 139 140 141 142 143 144 145 146 147 148 149 150 151 152 1 2 3 4 5 6 7 8 9 10 11 12 13 14 15 16 17 18 19 20 21 22 23 24 25 26 27 28 29 30 31 32 33 34 35 36 37 38 39 40 41 42 43 44 45 46 47 48 49 50 51 52 53 54 55 56 57 58 59 60 61 62 63 64 65 66 67 68 69 70 71 72 73 74 75 76 77 78 79 80 81 82 83 84 85 86 87 88 89 90 91 92 93 94 95 96 97 98 99 100 101 102 103 104 105 106 107 108 109 110 111 112 113 114 115 116 117 118 119 120 121 122 123 124 125 126 127 128 129 130 131 132 133 134 135 136 137 138 139 140 141 142 143 144 145 146 147 148 149 150 151 152 153 154 155 156 157 158 159 160 161 162 163 164 165 166 167 168 169 170 171 172 173 174 175 176 177 178 179 180 181 182 183 184 185 186 187 188 189 190 191 192 193 194 195 196 197 198 199 200 201 202 203 204 205 206 207 208 209 210 "
     ]
    }
   ],
   "source": [
    "X_train, y_train, faces_train = extract_features(train_data, num_train)\n",
    "X_val, y_val, faces_val = extract_features(val_data, num_val)\n",
    "X_test, y_test, faces_test = extract_features(test_data, num_test)"
   ]
  },
  {
   "cell_type": "code",
   "execution_count": 9,
   "metadata": {
    "ExecuteTime": {
     "end_time": "2021-03-19T00:22:12.010970Z",
     "start_time": "2021-03-19T00:22:08.785427Z"
    },
    "deletable": false,
    "editable": false,
    "run_control": {
     "frozen": true
    }
   },
   "outputs": [],
   "source": [
    "np.savez('train', X_train=X_train,\n",
    "         y_train=y_train, faces_train=faces_train)\n",
    "np.savez('validation', X_val=X_val,\n",
    "         y_val=y_val, faces_val=faces_val)\n",
    "np.savez('test', X_test=X_test,\n",
    "         y_test=y_test, faces_test=faces_test)"
   ]
  },
  {
   "cell_type": "code",
   "execution_count": 10,
   "metadata": {
    "ExecuteTime": {
     "end_time": "2021-03-19T00:22:12.547757Z",
     "start_time": "2021-03-19T00:22:12.012806Z"
    }
   },
   "outputs": [],
   "source": [
    "from sklearn.tree import DecisionTreeClassifier\n",
    "\n",
    "# Learn ccp_alpha for trees\n",
    "clf = DecisionTreeClassifier(random_state=seed)\n",
    "path = clf.cost_complexity_pruning_path(X_train, y_train)\n",
    "ccp_alphas = path.ccp_alphas[:-1]\n",
    "k = len(ccp_alphas)\n",
    "ccp_alphas = ccp_alphas[k//2-3:k//2+3]"
   ]
  },
  {
   "cell_type": "code",
   "execution_count": 11,
   "metadata": {
    "ExecuteTime": {
     "end_time": "2021-03-19T00:27:08.186612Z",
     "start_time": "2021-03-19T00:22:12.549632Z"
    }
   },
   "outputs": [
    {
     "name": "stdout",
     "output_type": "stream",
     "text": [
      "Fitting 1 folds for each of 225 candidates, totalling 225 fits\n",
      "[SVC+RBF] Acc Train: 1.0000\n",
      "[SVC+RBF] Acc Test: 0.8838\n",
      "Fitting 1 folds for each of 252 candidates, totalling 252 fits\n",
      "[MLP] Acc Train: 0.9704\n",
      "[MLP] Acc Test: 0.7588\n",
      "Fitting 1 folds for each of 120 candidates, totalling 120 fits\n",
      "[ExtraTreesClassifier] Acc Train: 0.9898\n",
      "[ExtraTreesClassifier] Acc Test: 0.6005\n",
      "Fitting 1 folds for each of 72 candidates, totalling 72 fits\n",
      "[GradientBoosting] Acc Train: 1.0000\n",
      "[GradientBoosting] Acc Test: 0.6522\n"
     ]
    }
   ],
   "source": [
    "from sklearn.svm import SVC\n",
    "from sklearn.preprocessing import StandardScaler\n",
    "from sklearn.pipeline import Pipeline\n",
    "from sklearn.ensemble import ExtraTreesClassifier, GradientBoostingClassifier\n",
    "from sklearn.model_selection import GridSearchCV, PredefinedSplit\n",
    "from sklearn.neural_network import MLPClassifier\n",
    "from sklearn.metrics import plot_roc_curve\n",
    "\n",
    "models = [\n",
    "    # SVM + RBF\n",
    "    (Pipeline([\n",
    "        ('standardize', StandardScaler()),\n",
    "        ('clf', SVC(kernel='rbf', random_state=seed))]),\n",
    "    \"SVC+RBF\"),\n",
    "    # MLP\n",
    "    (Pipeline([\n",
    "        ('standardize', StandardScaler()),\n",
    "        ('clf', MLPClassifier(random_state=seed))]),\n",
    "    \"MLP\"),\n",
    "    # Random Forest\n",
    "    (Pipeline([\n",
    "        ('standardize', StandardScaler()),\n",
    "        ('clf', ExtraTreesClassifier(random_state=seed, bootstrap=True))]),\n",
    "    \"ExtraTreesClassifier\"),\n",
    "    # Gradient Boosting\n",
    "    (Pipeline([\n",
    "        ('standardize', StandardScaler()),\n",
    "        ('clf', GradientBoostingClassifier(random_state=seed))]),\n",
    "    \"GradientBoosting\"),\n",
    "]\n",
    "\n",
    "params_lst = [\n",
    "    {\n",
    "        \"clf__gamma\": np.logspace(-7, 0, 15),\n",
    "        \"clf__C\": np.logspace(0, 7, 15)\n",
    "    },\n",
    "    {\n",
    "        \"clf__hidden_layer_sizes\": [(100,), (50, 50,), (150, 50,)],\n",
    "        \"clf__learning_rate\": ['constant', 'invscaling'],\n",
    "        \"clf__learning_rate_init\": np.logspace(-5, 0, 7),\n",
    "        \"clf__alpha\": np.logspace(-7, -2, 6)\n",
    "    },\n",
    "    {\n",
    "        \"clf__n_estimators\": [100, 200, 300, 400],\n",
    "        \"clf__max_depth\": [None, 10, 25, 50, 100],\n",
    "        \"clf__ccp_alpha\": ccp_alphas\n",
    "    },\n",
    "    {\n",
    "        \"clf__learning_rate\": np.logspace(-2, 1, 4),\n",
    "        \"clf__n_estimators\": [100, 200, 300],\n",
    "        \"clf__subsample\": [0.75, 1.0],\n",
    "        \"clf__max_depth\": [3, 5, 7]\n",
    "    },\n",
    "]\n",
    "\n",
    "# Create a list where train data indices are -1 and validation data indices are 0\n",
    "split_index = np.repeat([-1, 0], [num_train, num_val])\n",
    "\n",
    "# Use the list to create PredefinedSplit\n",
    "ps = PredefinedSplit(test_fold=split_index)\n",
    "\n",
    "# Concatenate training and validation\n",
    "X = np.vstack((X_train, X_val))\n",
    "y = np.concatenate((y_train, y_val))\n",
    "\n",
    "best_models = []\n",
    "for (model, name), params in zip(models, params_lst):\n",
    "    gs = GridSearchCV(\n",
    "        model, \n",
    "        params, \n",
    "        verbose=1,\n",
    "        scoring=\"roc_auc\",\n",
    "        cv=ps,\n",
    "        refit = True,\n",
    "        n_jobs=-1\n",
    "    )\n",
    "    \n",
    "    gs.fit(X, y)\n",
    "    score_train = gs.score(X_train, y_train)\n",
    "    score_test = gs.score(X_test, y_test)\n",
    "\n",
    "    best_models.append(gs.best_estimator_)\n",
    "    print(f\"[{name}] AUC Train: {score_train:.4f}\")\n",
    "    print(f\"[{name}] AUC Test: {score_test:.4f}\")"
   ]
  },
  {
   "cell_type": "code",
   "execution_count": 15,
   "metadata": {
    "ExecuteTime": {
     "end_time": "2021-03-19T00:32:24.806416Z",
     "start_time": "2021-03-19T00:32:23.912280Z"
    }
   },
   "outputs": [
    {
     "name": "stdout",
     "output_type": "stream",
     "text": [
      "SVC(C=316227.7660168379, gamma=0.0001, random_state=2021)\n",
      "[SVC] Acc Test: 0.7333\n"
     ]
    },
    {
     "data": {
      "image/png": "[encoded data removed]",
      "text/plain": [
       "<Figure size 432x288 with 1 Axes>"
      ]
     },
     "metadata": {
      "needs_background": "light"
     },
     "output_type": "display_data"
    },
    {
     "name": "stdout",
     "output_type": "stream",
     "text": [
      "MLPClassifier(alpha=1e-06, learning_rate_init=0.0031622776601683794,\n",
      "              random_state=2021)\n",
      "[MLPClassifier] Acc Test: 0.5810\n"
     ]
    },
    {
     "data": {
      "image/png": "[encoded data removed]",
      "text/plain": [
       "<Figure size 432x288 with 1 Axes>"
      ]
     },
     "metadata": {
      "needs_background": "light"
     },
     "output_type": "display_data"
    },
    {
     "name": "stdout",
     "output_type": "stream",
     "text": [
      "ExtraTreesClassifier(bootstrap=True, ccp_alpha=0.0031980994152046795,\n",
      "                     max_depth=25, n_estimators=300, random_state=2021)\n",
      "[ExtraTreesClassifier] Acc Test: 0.5810\n"
     ]
    },
    {
     "data": {
      "image/png": "[encoded data removed]",
      "text/plain": [
       "<Figure size 432x288 with 1 Axes>"
      ]
     },
     "metadata": {
      "needs_background": "light"
     },
     "output_type": "display_data"
    },
    {
     "name": "stdout",
     "output_type": "stream",
     "text": [
      "GradientBoostingClassifier(learning_rate=1.0, n_estimators=300,\n",
      "                           random_state=2021)\n",
      "[GradientBoostingClassifier] Acc Test: 0.6143\n"
     ]
    },
    {
     "data": {
      "image/png": "[encoded data removed]",
      "text/plain": [
       "<Figure size 432x288 with 1 Axes>"
      ]
     },
     "metadata": {
      "needs_background": "light"
     },
     "output_type": "display_data"
    }
   ],
   "source": [
    "from sklearn.metrics import plot_roc_curve\n",
    "for clf in best_models:\n",
    "    name = clf['clf'].__class__.__name__\n",
    "    acc_test = clf.score(X_test, y_test)\n",
    "    print(clf['clf'])\n",
    "    print(f\"[{name}] Acc Test: {acc_test:.4f}\")\n",
    "    plot_roc_curve(clf, X_test, y_test, name=name)\n",
    "    plt.show()"
   ]
  }
 ],
 "metadata": {
  "colab": {
   "collapsed_sections": [],
   "name": "Task1.ipynb",
   "provenance": [
    {
     "file_id": "https://github.com/antcc/practicas-biometria/blob/main/DeepFakes/Attempts.ipynb",
     "timestamp": 1615976637507
    }
   ]
  },
  "kernelspec": {
   "display_name": "py38-appib",
   "language": "python",
   "name": "py38-appib"
  },
  "language_info": {
   "codemirror_mode": {
    "name": "ipython",
    "version": 3
   },
   "file_extension": ".py",
   "mimetype": "text/x-python",
   "name": "python",
   "nbconvert_exporter": "python",
   "pygments_lexer": "ipython3",
   "version": "3.8.8"
  },
  "latex_envs": {
   "LaTeX_envs_menu_present": false,
   "autoclose": true,
   "autocomplete": false,
   "bibliofile": "bibliography.bib",
   "cite_by": "apalike",
   "current_citInitial": 1,
   "eqLabelWithNumbers": true,
   "eqNumInitial": 1,
   "hotkeys": {
    "equation": "Ctrl-E",
    "itemize": "Ctrl-I"
   },
   "labels_anchors": false,
   "latex_user_defs": false,
   "report_style_numbering": false,
   "user_envs_cfg": false
  },
  "toc": {
   "base_numbering": 1,
   "nav_menu": {},
   "number_sections": true,
   "sideBar": true,
   "skip_h1_title": false,
   "title_cell": "Table of Contents",
   "title_sidebar": "Contents",
   "toc_cell": false,
   "toc_position": {},
   "toc_section_display": true,
   "toc_window_display": false
  },
  "varInspector": {
   "cols": {
    "lenName": 16,
    "lenType": 16,
    "lenVar": 40
   },
   "kernels_config": {
    "python": {
     "delete_cmd_postfix": "",
     "delete_cmd_prefix": "del ",
     "library": "var_list.py",
     "varRefreshCmd": "print(var_dic_list())"
    },
    "r": {
     "delete_cmd_postfix": ") ",
     "delete_cmd_prefix": "rm(",
     "library": "var_list.r",
     "varRefreshCmd": "cat(var_dic_list()) "
    }
   },
   "types_to_exclude": [
    "module",
    "function",
    "builtin_function_or_method",
    "instance",
    "_Feature"
   ],
   "window_display": false
  }
 },
 "nbformat": 4,
 "nbformat_minor": 1
}
