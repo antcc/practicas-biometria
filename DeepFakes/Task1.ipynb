{
  "nbformat": 4,
  "nbformat_minor": 0,
  "metadata": {
    "colab": {
      "name": "Task1.ipynb",
      "provenance": [],
      "collapsed_sections": []
    },
    "kernelspec": {
      "name": "python3",
      "display_name": "Python 3"
    },
    "latex_envs": {
      "LaTeX_envs_menu_present": false,
      "autoclose": true,
      "autocomplete": false,
      "bibliofile": "bibliography.bib",
      "cite_by": "apalike",
      "current_citInitial": 1,
      "eqLabelWithNumbers": true,
      "eqNumInitial": 1,
      "hotkeys": {
        "equation": "Ctrl-E",
        "itemize": "Ctrl-I"
      },
      "labels_anchors": false,
      "latex_user_defs": false,
      "report_style_numbering": false,
      "user_envs_cfg": false
    },
    "toc": {
      "base_numbering": 1,
      "nav_menu": {},
      "number_sections": true,
      "sideBar": true,
      "skip_h1_title": false,
      "title_cell": "Table of Contents",
      "title_sidebar": "Contents",
      "toc_cell": false,
      "toc_position": {},
      "toc_section_display": true,
      "toc_window_display": false
    },
    "varInspector": {
      "cols": {
        "lenName": 16,
        "lenType": 16,
        "lenVar": 40
      },
      "kernels_config": {
        "python": {
          "delete_cmd_postfix": "",
          "delete_cmd_prefix": "del ",
          "library": "var_list.py",
          "varRefreshCmd": "print(var_dic_list())"
        },
        "r": {
          "delete_cmd_postfix": ") ",
          "delete_cmd_prefix": "rm(",
          "library": "var_list.r",
          "varRefreshCmd": "cat(var_dic_list()) "
        }
      },
      "types_to_exclude": [
        "module",
        "function",
        "builtin_function_or_method",
        "instance",
        "_Feature"
      ],
      "window_display": false
    },
    "language_info": {
      "name": "python"
    },
    "accelerator": "GPU",
    "widgets": {
      "application/vnd.jupyter.widget-state+json": {
        "aeaf7fc69dfe48fc92a73beffd462ee2": {
          "model_module": "@jupyter-widgets/controls",
          "model_name": "HBoxModel",
          "state": {
            "_view_name": "HBoxView",
            "_dom_classes": [],
            "_model_name": "HBoxModel",
            "_view_module": "@jupyter-widgets/controls",
            "_model_module_version": "1.5.0",
            "_view_count": null,
            "_view_module_version": "1.5.0",
            "box_style": "",
            "layout": "IPY_MODEL_3e511387de5d4ad4bbaa50527af92ae9",
            "_model_module": "@jupyter-widgets/controls",
            "children": [
              "IPY_MODEL_a26f5a5f71bf4f5f80e6d1b4bae3b791",
              "IPY_MODEL_8f5ff20b354741e48559ca96ffb3576c"
            ]
          }
        },
        "3e511387de5d4ad4bbaa50527af92ae9": {
          "model_module": "@jupyter-widgets/base",
          "model_name": "LayoutModel",
          "state": {
            "_view_name": "LayoutView",
            "grid_template_rows": null,
            "right": null,
            "justify_content": null,
            "_view_module": "@jupyter-widgets/base",
            "overflow": null,
            "_model_module_version": "1.2.0",
            "_view_count": null,
            "flex_flow": null,
            "width": null,
            "min_width": null,
            "border": null,
            "align_items": null,
            "bottom": null,
            "_model_module": "@jupyter-widgets/base",
            "top": null,
            "grid_column": null,
            "overflow_y": null,
            "overflow_x": null,
            "grid_auto_flow": null,
            "grid_area": null,
            "grid_template_columns": null,
            "flex": null,
            "_model_name": "LayoutModel",
            "justify_items": null,
            "grid_row": null,
            "max_height": null,
            "align_content": null,
            "visibility": null,
            "align_self": null,
            "height": null,
            "min_height": null,
            "padding": null,
            "grid_auto_rows": null,
            "grid_gap": null,
            "max_width": null,
            "order": null,
            "_view_module_version": "1.2.0",
            "grid_template_areas": null,
            "object_position": null,
            "object_fit": null,
            "grid_auto_columns": null,
            "margin": null,
            "display": null,
            "left": null
          }
        },
        "a26f5a5f71bf4f5f80e6d1b4bae3b791": {
          "model_module": "@jupyter-widgets/controls",
          "model_name": "FloatProgressModel",
          "state": {
            "_view_name": "ProgressView",
            "style": "IPY_MODEL_c8d3453dce214c85b9fd23f0fde2fcb2",
            "_dom_classes": [],
            "description": " 32%",
            "_model_name": "FloatProgressModel",
            "bar_style": "",
            "max": 607,
            "_view_module": "@jupyter-widgets/controls",
            "_model_module_version": "1.5.0",
            "value": 195,
            "_view_count": null,
            "_view_module_version": "1.5.0",
            "orientation": "horizontal",
            "min": 0,
            "description_tooltip": null,
            "_model_module": "@jupyter-widgets/controls",
            "layout": "IPY_MODEL_9d7a343490ce4467a634446e94465eef"
          }
        },
        "8f5ff20b354741e48559ca96ffb3576c": {
          "model_module": "@jupyter-widgets/controls",
          "model_name": "HTMLModel",
          "state": {
            "_view_name": "HTMLView",
            "style": "IPY_MODEL_fb2f8d562c9e425b86e72833ed1d4151",
            "_dom_classes": [],
            "description": "",
            "_model_name": "HTMLModel",
            "placeholder": "​",
            "_view_module": "@jupyter-widgets/controls",
            "_model_module_version": "1.5.0",
            "value": " 195/607 [04:17&lt;07:18,  1.06s/it]",
            "_view_count": null,
            "_view_module_version": "1.5.0",
            "description_tooltip": null,
            "_model_module": "@jupyter-widgets/controls",
            "layout": "IPY_MODEL_7bb889f90a98423595aaa0fff5ba0480"
          }
        },
        "c8d3453dce214c85b9fd23f0fde2fcb2": {
          "model_module": "@jupyter-widgets/controls",
          "model_name": "ProgressStyleModel",
          "state": {
            "_view_name": "StyleView",
            "_model_name": "ProgressStyleModel",
            "description_width": "initial",
            "_view_module": "@jupyter-widgets/base",
            "_model_module_version": "1.5.0",
            "_view_count": null,
            "_view_module_version": "1.2.0",
            "bar_color": null,
            "_model_module": "@jupyter-widgets/controls"
          }
        },
        "9d7a343490ce4467a634446e94465eef": {
          "model_module": "@jupyter-widgets/base",
          "model_name": "LayoutModel",
          "state": {
            "_view_name": "LayoutView",
            "grid_template_rows": null,
            "right": null,
            "justify_content": null,
            "_view_module": "@jupyter-widgets/base",
            "overflow": null,
            "_model_module_version": "1.2.0",
            "_view_count": null,
            "flex_flow": null,
            "width": null,
            "min_width": null,
            "border": null,
            "align_items": null,
            "bottom": null,
            "_model_module": "@jupyter-widgets/base",
            "top": null,
            "grid_column": null,
            "overflow_y": null,
            "overflow_x": null,
            "grid_auto_flow": null,
            "grid_area": null,
            "grid_template_columns": null,
            "flex": null,
            "_model_name": "LayoutModel",
            "justify_items": null,
            "grid_row": null,
            "max_height": null,
            "align_content": null,
            "visibility": null,
            "align_self": null,
            "height": null,
            "min_height": null,
            "padding": null,
            "grid_auto_rows": null,
            "grid_gap": null,
            "max_width": null,
            "order": null,
            "_view_module_version": "1.2.0",
            "grid_template_areas": null,
            "object_position": null,
            "object_fit": null,
            "grid_auto_columns": null,
            "margin": null,
            "display": null,
            "left": null
          }
        },
        "fb2f8d562c9e425b86e72833ed1d4151": {
          "model_module": "@jupyter-widgets/controls",
          "model_name": "DescriptionStyleModel",
          "state": {
            "_view_name": "StyleView",
            "_model_name": "DescriptionStyleModel",
            "description_width": "",
            "_view_module": "@jupyter-widgets/base",
            "_model_module_version": "1.5.0",
            "_view_count": null,
            "_view_module_version": "1.2.0",
            "_model_module": "@jupyter-widgets/controls"
          }
        },
        "7bb889f90a98423595aaa0fff5ba0480": {
          "model_module": "@jupyter-widgets/base",
          "model_name": "LayoutModel",
          "state": {
            "_view_name": "LayoutView",
            "grid_template_rows": null,
            "right": null,
            "justify_content": null,
            "_view_module": "@jupyter-widgets/base",
            "overflow": null,
            "_model_module_version": "1.2.0",
            "_view_count": null,
            "flex_flow": null,
            "width": null,
            "min_width": null,
            "border": null,
            "align_items": null,
            "bottom": null,
            "_model_module": "@jupyter-widgets/base",
            "top": null,
            "grid_column": null,
            "overflow_y": null,
            "overflow_x": null,
            "grid_auto_flow": null,
            "grid_area": null,
            "grid_template_columns": null,
            "flex": null,
            "_model_name": "LayoutModel",
            "justify_items": null,
            "grid_row": null,
            "max_height": null,
            "align_content": null,
            "visibility": null,
            "align_self": null,
            "height": null,
            "min_height": null,
            "padding": null,
            "grid_auto_rows": null,
            "grid_gap": null,
            "max_width": null,
            "order": null,
            "_view_module_version": "1.2.0",
            "grid_template_areas": null,
            "object_position": null,
            "object_fit": null,
            "grid_auto_columns": null,
            "margin": null,
            "display": null,
            "left": null
          }
        },
        "d2e46921541c4c56b3f7f9a2fb4bcdcd": {
          "model_module": "@jupyter-widgets/controls",
          "model_name": "HBoxModel",
          "state": {
            "_view_name": "HBoxView",
            "_dom_classes": [],
            "_model_name": "HBoxModel",
            "_view_module": "@jupyter-widgets/controls",
            "_model_module_version": "1.5.0",
            "_view_count": null,
            "_view_module_version": "1.5.0",
            "box_style": "",
            "layout": "IPY_MODEL_767a7338763f47d7b5df9f0ed0e3efe9",
            "_model_module": "@jupyter-widgets/controls",
            "children": [
              "IPY_MODEL_e2eb578fde0944dca75e6b15d82d5490",
              "IPY_MODEL_24baee91acc4424798c085a2100a9bf5"
            ]
          }
        },
        "767a7338763f47d7b5df9f0ed0e3efe9": {
          "model_module": "@jupyter-widgets/base",
          "model_name": "LayoutModel",
          "state": {
            "_view_name": "LayoutView",
            "grid_template_rows": null,
            "right": null,
            "justify_content": null,
            "_view_module": "@jupyter-widgets/base",
            "overflow": null,
            "_model_module_version": "1.2.0",
            "_view_count": null,
            "flex_flow": null,
            "width": null,
            "min_width": null,
            "border": null,
            "align_items": null,
            "bottom": null,
            "_model_module": "@jupyter-widgets/base",
            "top": null,
            "grid_column": null,
            "overflow_y": null,
            "overflow_x": null,
            "grid_auto_flow": null,
            "grid_area": null,
            "grid_template_columns": null,
            "flex": null,
            "_model_name": "LayoutModel",
            "justify_items": null,
            "grid_row": null,
            "max_height": null,
            "align_content": null,
            "visibility": null,
            "align_self": null,
            "height": null,
            "min_height": null,
            "padding": null,
            "grid_auto_rows": null,
            "grid_gap": null,
            "max_width": null,
            "order": null,
            "_view_module_version": "1.2.0",
            "grid_template_areas": null,
            "object_position": null,
            "object_fit": null,
            "grid_auto_columns": null,
            "margin": null,
            "display": null,
            "left": null
          }
        },
        "e2eb578fde0944dca75e6b15d82d5490": {
          "model_module": "@jupyter-widgets/controls",
          "model_name": "FloatProgressModel",
          "state": {
            "_view_name": "ProgressView",
            "style": "IPY_MODEL_c958351a4971471598c1dcd667310bb2",
            "_dom_classes": [],
            "description": "100%",
            "_model_name": "FloatProgressModel",
            "bar_style": "danger",
            "max": 600,
            "_view_module": "@jupyter-widgets/controls",
            "_model_module_version": "1.5.0",
            "value": 599,
            "_view_count": null,
            "_view_module_version": "1.5.0",
            "orientation": "horizontal",
            "min": 0,
            "description_tooltip": null,
            "_model_module": "@jupyter-widgets/controls",
            "layout": "IPY_MODEL_1c6724002343474ba2680ab7c7ca017e"
          }
        },
        "24baee91acc4424798c085a2100a9bf5": {
          "model_module": "@jupyter-widgets/controls",
          "model_name": "HTMLModel",
          "state": {
            "_view_name": "HTMLView",
            "style": "IPY_MODEL_18fed12d34a94e97af79854bdb744f04",
            "_dom_classes": [],
            "description": "",
            "_model_name": "HTMLModel",
            "placeholder": "​",
            "_view_module": "@jupyter-widgets/controls",
            "_model_module_version": "1.5.0",
            "value": " 599/600 [05:17&lt;00:00,  1.93it/s]",
            "_view_count": null,
            "_view_module_version": "1.5.0",
            "description_tooltip": null,
            "_model_module": "@jupyter-widgets/controls",
            "layout": "IPY_MODEL_de6996ca8e204f9da549ebfe0062439e"
          }
        },
        "c958351a4971471598c1dcd667310bb2": {
          "model_module": "@jupyter-widgets/controls",
          "model_name": "ProgressStyleModel",
          "state": {
            "_view_name": "StyleView",
            "_model_name": "ProgressStyleModel",
            "description_width": "initial",
            "_view_module": "@jupyter-widgets/base",
            "_model_module_version": "1.5.0",
            "_view_count": null,
            "_view_module_version": "1.2.0",
            "bar_color": null,
            "_model_module": "@jupyter-widgets/controls"
          }
        },
        "1c6724002343474ba2680ab7c7ca017e": {
          "model_module": "@jupyter-widgets/base",
          "model_name": "LayoutModel",
          "state": {
            "_view_name": "LayoutView",
            "grid_template_rows": null,
            "right": null,
            "justify_content": null,
            "_view_module": "@jupyter-widgets/base",
            "overflow": null,
            "_model_module_version": "1.2.0",
            "_view_count": null,
            "flex_flow": null,
            "width": null,
            "min_width": null,
            "border": null,
            "align_items": null,
            "bottom": null,
            "_model_module": "@jupyter-widgets/base",
            "top": null,
            "grid_column": null,
            "overflow_y": null,
            "overflow_x": null,
            "grid_auto_flow": null,
            "grid_area": null,
            "grid_template_columns": null,
            "flex": null,
            "_model_name": "LayoutModel",
            "justify_items": null,
            "grid_row": null,
            "max_height": null,
            "align_content": null,
            "visibility": null,
            "align_self": null,
            "height": null,
            "min_height": null,
            "padding": null,
            "grid_auto_rows": null,
            "grid_gap": null,
            "max_width": null,
            "order": null,
            "_view_module_version": "1.2.0",
            "grid_template_areas": null,
            "object_position": null,
            "object_fit": null,
            "grid_auto_columns": null,
            "margin": null,
            "display": null,
            "left": null
          }
        },
        "18fed12d34a94e97af79854bdb744f04": {
          "model_module": "@jupyter-widgets/controls",
          "model_name": "DescriptionStyleModel",
          "state": {
            "_view_name": "StyleView",
            "_model_name": "DescriptionStyleModel",
            "description_width": "",
            "_view_module": "@jupyter-widgets/base",
            "_model_module_version": "1.5.0",
            "_view_count": null,
            "_view_module_version": "1.2.0",
            "_model_module": "@jupyter-widgets/controls"
          }
        },
        "de6996ca8e204f9da549ebfe0062439e": {
          "model_module": "@jupyter-widgets/base",
          "model_name": "LayoutModel",
          "state": {
            "_view_name": "LayoutView",
            "grid_template_rows": null,
            "right": null,
            "justify_content": null,
            "_view_module": "@jupyter-widgets/base",
            "overflow": null,
            "_model_module_version": "1.2.0",
            "_view_count": null,
            "flex_flow": null,
            "width": null,
            "min_width": null,
            "border": null,
            "align_items": null,
            "bottom": null,
            "_model_module": "@jupyter-widgets/base",
            "top": null,
            "grid_column": null,
            "overflow_y": null,
            "overflow_x": null,
            "grid_auto_flow": null,
            "grid_area": null,
            "grid_template_columns": null,
            "flex": null,
            "_model_name": "LayoutModel",
            "justify_items": null,
            "grid_row": null,
            "max_height": null,
            "align_content": null,
            "visibility": null,
            "align_self": null,
            "height": null,
            "min_height": null,
            "padding": null,
            "grid_auto_rows": null,
            "grid_gap": null,
            "max_width": null,
            "order": null,
            "_view_module_version": "1.2.0",
            "grid_template_areas": null,
            "object_position": null,
            "object_fit": null,
            "grid_auto_columns": null,
            "margin": null,
            "display": null,
            "left": null
          }
        }
      }
    }
  },
  "cells": [
    {
      "cell_type": "markdown",
      "metadata": {
        "id": "nEVXPlDt5JYC"
      },
      "source": [
        "# Workflow"
      ]
    },
    {
      "cell_type": "code",
      "metadata": {
        "deletable": false,
        "editable": false,
        "run_control": {
          "frozen": true
        },
        "id": "xeyZGmUE5JYL"
      },
      "source": [
        "# Directorio de trabajo\n",
        "import sys\n",
        "import os\n",
        "from google.colab import drive\n",
        "drive.mount(\"/content/drive\", force_remount = True)\n",
        "DIR = \"/content/drive/My Drive/bio/\"\n",
        "\n",
        "%cd \"$DIR\"\n",
        "%pip install mtcnn"
      ],
      "execution_count": null,
      "outputs": []
    },
    {
      "cell_type": "code",
      "metadata": {
        "ExecuteTime": {
          "end_time": "2021-03-19T18:59:53.297864Z",
          "start_time": "2021-03-19T18:59:53.211310Z"
        },
        "id": "GiadkRNUXxzK"
      },
      "source": [
        "import matplotlib.pyplot as plt\n",
        "import numpy as np\n",
        "import cv2\n",
        "from mtcnn import MTCNN\n",
        "import time\n",
        "import dlib\n",
        "from tqdm.notebook import tqdm\n",
        "\n",
        "from tensorflow.keras.preprocessing.image import ImageDataGenerator\n",
        "from sklearn.metrics import plot_roc_curve\n",
        "\n",
        "from warnings import simplefilter\n",
        "from sklearn.exceptions import ConvergenceWarning\n",
        "\n",
        "%matplotlib inline\n",
        "%load_ext autoreload\n",
        "%autoreload 2\n",
        "\n",
        "seed = 2021\n",
        "rng = np.random.default_rng(seed=seed)\n",
        "simplefilter(\"ignore\", category=ConvergenceWarning)"
      ],
      "execution_count": 2,
      "outputs": []
    },
    {
      "cell_type": "code",
      "metadata": {
        "ExecuteTime": {
          "end_time": "2021-03-19T19:00:05.561985Z",
          "start_time": "2021-03-19T19:00:05.475265Z"
        },
        "id": "mLCwo9WZiYL1"
      },
      "source": [
        "train_dir = 'UADFV/development/'\n",
        "test_dir = 'UADFV/evaluation/'\n",
        "target_size = (768, 768)"
      ],
      "execution_count": 3,
      "outputs": []
    },
    {
      "cell_type": "code",
      "metadata": {
        "ExecuteTime": {
          "end_time": "2021-03-19T19:03:47.001821Z",
          "start_time": "2021-03-19T19:03:46.896580Z"
        },
        "colab": {
          "base_uri": "https://localhost:8080/"
        },
        "id": "4sMAp_kJhrxE",
        "outputId": "433b66c4-0174-4e35-9c10-63c19d9acba6"
      },
      "source": [
        "train_datagen = ImageDataGenerator(\n",
        "    validation_split=0.2\n",
        ")\n",
        "\n",
        "val_datagen = ImageDataGenerator(\n",
        "    validation_split=0.2\n",
        ")\n",
        "\n",
        "test_datagen = ImageDataGenerator()\n",
        "\n",
        "train_data = train_datagen.flow_from_directory(\n",
        "    directory=train_dir,\n",
        "    class_mode='binary',\n",
        "    batch_size=1,\n",
        "    seed=seed,\n",
        "    target_size=target_size,\n",
        "    subset=\"training\"\n",
        ")\n",
        "\n",
        "val_data = val_datagen.flow_from_directory(\n",
        "    directory=train_dir,\n",
        "    class_mode='binary',\n",
        "    batch_size=1,\n",
        "    seed=seed,\n",
        "    target_size=target_size,\n",
        "    subset=\"validation\"\n",
        ")\n",
        "\n",
        "test_data = test_datagen.flow_from_directory(\n",
        "    directory=test_dir,\n",
        "    class_mode='binary',\n",
        "    batch_size=1,\n",
        "    seed=seed,\n",
        "    target_size=target_size,\n",
        ")\n",
        "\n",
        "num_train = train_data.samples\n",
        "num_val = val_data.samples\n",
        "num_test = test_data.samples"
      ],
      "execution_count": 4,
      "outputs": [
        {
          "output_type": "stream",
          "text": [
            "Found 607 images belonging to 2 classes.\n",
            "Found 151 images belonging to 2 classes.\n",
            "Found 210 images belonging to 2 classes.\n"
          ],
          "name": "stdout"
        }
      ]
    },
    {
      "cell_type": "code",
      "metadata": {
        "ExecuteTime": {
          "end_time": "2021-03-19T19:03:46.172830Z",
          "start_time": "2021-03-19T19:03:45.319952Z"
        },
        "id": "7Cov0SF25JYV"
      },
      "source": [
        "#face_detector = dlib.get_frontal_face_detector()\n",
        "#face_detector = dlib.cnn_face_detection_model_v1('models/mmod_human_face_detector.dat')\n",
        "face_detector = MTCNN()\n",
        "sp68 = dlib.shape_predictor('models/shape_predictor_68_face_landmarks.dat')"
      ],
      "execution_count": 6,
      "outputs": []
    },
    {
      "cell_type": "code",
      "metadata": {
        "ExecuteTime": {
          "end_time": "2021-03-19T19:03:55.673614Z",
          "start_time": "2021-03-19T19:03:55.599023Z"
        },
        "id": "z_-Z6qZ85JYW"
      },
      "source": [
        "def preprocess(im, sigma):\n",
        "    if rng.random() < 0.5:\n",
        "        kernel_size = rng.choice([1, 3, 5, 7])\n",
        "        im_noise = cv2.GaussianBlur(im, (kernel_size, kernel_size), 0)\n",
        "    else:\n",
        "        std = sigma*rng.random()\n",
        "        noise = rng.normal(0, std, im.shape[:2])\n",
        "        im_noise = im + np.tile(noise[:, :, None], (1, 1, 3))\n",
        "    \n",
        "    return im_noise\n",
        "\n",
        "\n",
        "def shape_to_np(shape):\n",
        "    number_of_points = shape.num_parts\n",
        "    points = np.zeros((number_of_points, 2), dtype=np.int32)\n",
        "\n",
        "    for i in range(number_of_points):\n",
        "        points[i] = [shape.part(i).x, shape.part(i).y]\n",
        "\n",
        "    return points\n",
        "\n",
        "\n",
        "def get_crops_landmarks(im, sigma, verbose):\n",
        "    \"\"\"\n",
        "    Detects faces and landmarks in image, crops image to face region.\n",
        "    We assume there is only one face on each dataset.\n",
        "    \"\"\"\n",
        "    img = im.reshape(*im.shape[1:]).astype('uint8')\n",
        "\n",
        "    dets = face_detector.detect_faces(img)\n",
        "    num_faces = len(dets)\n",
        "\n",
        "    if num_faces == 0:\n",
        "        if verbose:\n",
        "            print(\"[features] No face detected\")\n",
        "            plt.imshow(img)\n",
        "            plt.show()\n",
        "        return None, None\n",
        "\n",
        "    # Only one face\n",
        "    x1, y1, width, height = dets[0]['box']\n",
        "    x1, y1 = abs(x1), abs(y1)\n",
        "    x2, y2 = x1 + width, y1 + height\n",
        "    face = dlib.rectangle(x1, y1, x2, y2)\n",
        "\n",
        "    # Add noise\n",
        "    img_prec = preprocess(img, sigma=sigma).astype('uint8')\n",
        "\n",
        "    # detect landmarks and transform to np array\n",
        "    landmarks = shape_to_np(sp68(img_prec, face))\n",
        "    gray = cv2.cvtColor(img_prec, cv2.COLOR_RGB2GRAY)\n",
        "    face_landmarks = gray[landmarks[:, 1], landmarks[:, 0]]\n",
        "\n",
        "    # Plot images\n",
        "    \"\"\"cv2.rectangle(img, (x1, y1), (x2, y2), (0, 255, 0), 2)\n",
        "    for (sX, sY) in landmarks:\n",
        "\t    cv2.circle(img, (sX, sY), 1, (0, 0, 255), 2)\n",
        "    plt.imshow(img)\n",
        "    plt.show()\"\"\"\n",
        "\n",
        "    # normalize landmarks\n",
        "    landmarks = landmarks.astype(np.float64)\n",
        "    landmarks[:, 0] -= landmarks[:, 0].mean()\n",
        "    landmarks[:, 1] -= landmarks[:, 1].mean()\n",
        "\n",
        "    return landmarks, face_landmarks\n",
        "\n",
        "\n",
        "def extract_features(\n",
        "    data_flow, \n",
        "    num_images, \n",
        "    sigma=5,\n",
        "    verbose=0,\n",
        "    skip=True\n",
        "):\n",
        "    X = np.zeros((num_images, 68*3))  # 68 landmarks\n",
        "    y = np.zeros(num_images,)\n",
        "\n",
        "    i = 0\n",
        "    for im, label in tqdm(data_flow):\n",
        "        landmarks, face_landmarks = \\\n",
        "            get_crops_landmarks(im, sigma=sigma, verbose=verbose)\n",
        "\n",
        "        if landmarks is None:\n",
        "            if skip:\n",
        "                continue  # skip sample \n",
        "            else:\n",
        "                if i > 0:\n",
        "                    prev_labels = y[:i] == label\n",
        "                    if np.sum(prev_labels) > 0:\n",
        "                        sz = prev_labels.size\n",
        "                        impute = sz - 1 - np.argmax(prev_labels[::-1])\n",
        "                        X[i] = X[impute]\n",
        "                y[i] = label\n",
        "                \n",
        "        else:\n",
        "            X[i] = np.concatenate((landmarks.flatten(),\n",
        "                                   face_landmarks.flatten()))\n",
        "            y[i] = label\n",
        "\n",
        "        i += 1\n",
        "        if i >= num_images:\n",
        "            break\n",
        "\n",
        "    if skip:\n",
        "        detected = X.sum(axis=1) > 0\n",
        "        X = X[detected]\n",
        "        y = y[detected]\n",
        "        \n",
        "    return X, y"
      ],
      "execution_count": 8,
      "outputs": []
    },
    {
      "cell_type": "code",
      "metadata": {
        "ExecuteTime": {
          "end_time": "2021-03-19T19:04:24.363849Z",
          "start_time": "2021-03-19T19:03:56.784192Z"
        },
        "colab": {
          "base_uri": "https://localhost:8080/",
          "height": 49,
          "referenced_widgets": [
            "aeaf7fc69dfe48fc92a73beffd462ee2",
            "3e511387de5d4ad4bbaa50527af92ae9",
            "a26f5a5f71bf4f5f80e6d1b4bae3b791",
            "8f5ff20b354741e48559ca96ffb3576c",
            "c8d3453dce214c85b9fd23f0fde2fcb2",
            "9d7a343490ce4467a634446e94465eef",
            "fb2f8d562c9e425b86e72833ed1d4151",
            "7bb889f90a98423595aaa0fff5ba0480"
          ]
        },
        "id": "LnZm54I75JYX",
        "outputId": "4f3c9b01-493f-451f-f738-73b9a1cfb31c"
      },
      "source": [
        "X_train, y_train = extract_features(train_data, num_train)\n",
        "print(\"X_train:\", X_train.shape)\n",
        "X_val, y_val = extract_features(val_data, num_val)\n",
        "print(\"X_val:\", X_val.shape)\n",
        "X_test, y_test = extract_features(test_data, num_test, skip=False)\n",
        "print(\"X_test:\", X_test.shape)"
      ],
      "execution_count": null,
      "outputs": [
        {
          "output_type": "display_data",
          "data": {
            "application/vnd.jupyter.widget-view+json": {
              "model_id": "aeaf7fc69dfe48fc92a73beffd462ee2",
              "version_minor": 0,
              "version_major": 2
            },
            "text/plain": [
              "HBox(children=(FloatProgress(value=0.0, max=607.0), HTML(value='')))"
            ]
          },
          "metadata": {
            "tags": []
          }
        }
      ]
    },
    {
      "cell_type": "code",
      "metadata": {
        "id": "ac0jTR2plKWP"
      },
      "source": [
        "from warnings import simplefilter\n",
        "from sklearn.exceptions import ConvergenceWarning\n",
        "simplefilter(\"ignore\", category=ConvergenceWarning)"
      ],
      "execution_count": null,
      "outputs": []
    },
    {
      "cell_type": "code",
      "metadata": {
        "ExecuteTime": {
          "end_time": "2021-03-19T18:39:17.611185Z",
          "start_time": "2021-03-19T18:39:17.571810Z"
        },
        "deletable": false,
        "editable": false,
        "run_control": {
          "frozen": true
        },
        "id": "K_7YUY_s5JYY"
      },
      "source": [
        "np.savez('train', X_train=X_train, y_train=y_train)\n",
        "np.savez('validation', X_val=X_val, y_val=y_val)\n",
        "np.savez('test', X_test=X_test, y_test=y_test)"
      ],
      "execution_count": null,
      "outputs": []
    },
    {
      "cell_type": "code",
      "metadata": {
        "ExecuteTime": {
          "end_time": "2021-03-19T16:12:25.589100Z",
          "start_time": "2021-03-19T16:12:25.527552Z"
        },
        "deletable": false,
        "editable": false,
        "run_control": {
          "frozen": true
        },
        "id": "jcqf9DuT5JYY"
      },
      "source": [
        "train = np.load('train.npz')\n",
        "X_train, y_train = train['X_train'], train['y_train']\n",
        "val = np.load('validation.npz')\n",
        "X_val, y_val = val['X_val'], val['y_val']\n",
        "test = np.load('test.npz')\n",
        "X_test, y_test = test['X_test'], test['y_test']"
      ],
      "execution_count": null,
      "outputs": []
    },
    {
      "cell_type": "code",
      "metadata": {
        "ExecuteTime": {
          "end_time": "2021-03-19T18:39:18.019955Z",
          "start_time": "2021-03-19T18:39:17.922587Z"
        },
        "id": "0KtZfTic5JYa"
      },
      "source": [
        "from sklearn.svm import SVC, LinearSVC\n",
        "from sklearn.preprocessing import StandardScaler\n",
        "from sklearn.pipeline import Pipeline\n",
        "from sklearn.linear_model import LogisticRegression\n",
        "from sklearn.model_selection import GridSearchCV, PredefinedSplit\n",
        "from sklearn.neural_network import MLPClassifier\n",
        "from sklearn.decomposition import PCA\n",
        "from sklearn.kernel_approximation import RBFSampler\n",
        "\n",
        "# Models\n",
        "models = [\n",
        "    # SVC + RBF\n",
        "    (Pipeline([\n",
        "        ('standardize', StandardScaler()),\n",
        "        ('trf', None),\n",
        "        ('clf', SVC(kernel='rbf', random_state=seed))]),\n",
        "     \"SVC\"),\n",
        "    # SVC linear\n",
        "    (Pipeline([\n",
        "        ('standardize', StandardScaler()),\n",
        "        ('trf', None),\n",
        "        ('clf', LinearSVC(dual=False, random_state=seed))]),\n",
        "     \"L-SVC\"),\n",
        "    # MLP\n",
        "    (Pipeline([\n",
        "        ('standardize', StandardScaler()),\n",
        "        ('trf', None),\n",
        "        ('clf', MLPClassifier(max_iter=1000,\n",
        "                              solver='lbfgs',\n",
        "                              random_state=seed))]),\n",
        "     \"MLP\"),\n",
        "    # Logistic Regression\n",
        "    (Pipeline([\n",
        "        ('standardize', StandardScaler()),\n",
        "        ('trf', None),\n",
        "        ('clf', LogisticRegression(max_iter=500,\n",
        "                                   random_state=seed))]),\n",
        "     \"LR\")\n",
        "]\n",
        "\n",
        "params_lst = [\n",
        "    # SVC + RBF\n",
        "    [\n",
        "        # No transformation\n",
        "        {\n",
        "            \"clf__gamma\": np.logspace(-6, -2, 10),\n",
        "            \"clf__C\": np.logspace(-1, 5, 10)\n",
        "        },\n",
        "        # PCA\n",
        "        {\n",
        "            \"clf__gamma\": np.logspace(-6, -2, 10),\n",
        "            \"clf__C\": np.logspace(-1, 5, 10),\n",
        "            \"trf\": [PCA()],\n",
        "            \"trf__n_components\": [0.9, 0.95, 0.99],\n",
        "        },\n",
        "    ],\n",
        "    # SVM Linear\n",
        "    [\n",
        "        # No transformation\n",
        "        {\n",
        "            \"clf__C\": np.logspace(-5, -1, 40),\n",
        "        },\n",
        "        # PCA\n",
        "        {\n",
        "            \"clf__C\": np.logspace(-5, -1, 40),\n",
        "            \"trf\": [PCA()],\n",
        "            \"trf__n_components\": [0.9, 0.95, 0.99],\n",
        "        },\n",
        "    ],\n",
        "    # MLP\n",
        "    [\n",
        "        # No transformation\n",
        "        {\n",
        "            \"clf__hidden_layer_sizes\": [(50,), (100,), (50, 50,), (100, 100,)],\n",
        "            \"clf__alpha\": np.logspace(-2, 2, 10),\n",
        "        },\n",
        "        # PCA\n",
        "        {\n",
        "            \"clf__hidden_layer_sizes\": [(50,), (100,), (50, 50,), (100, 100,)],\n",
        "            \"clf__alpha\": np.logspace(-2, 2, 5),\n",
        "            \"clf__solver\": ['adam'],\n",
        "            \"clf__learning_rate\": ['invscaling'],\n",
        "            \"trf\": [PCA()],\n",
        "            \"trf__n_components\": [0.9, 0.95, 0.99],\n",
        "        },\n",
        "    ],\n",
        "    # Logistic Regression\n",
        "    [\n",
        "        # No transformation\n",
        "        {\n",
        "            \"clf__C\": np.logspace(-4, 4, 20),\n",
        "            \"clf__solver\": ['lbfgs', 'liblinear']\n",
        "        },\n",
        "        # PCA\n",
        "        {\n",
        "            \"clf__C\": np.logspace(-4, 4, 20),\n",
        "            \"clf__solver\": ['lbfgs', 'sag'],\n",
        "            \"trf\": [PCA()],\n",
        "            \"trf__n_components\": [0.9, 0.95, 0.99],\n",
        "        },\n",
        "    ],\n",
        "]"
      ],
      "execution_count": null,
      "outputs": []
    },
    {
      "cell_type": "code",
      "metadata": {
        "id": "wfkfbm01JtFP"
      },
      "source": [
        "# Select features\n",
        "idx = np.arange(68*2, 68*3)"
      ],
      "execution_count": null,
      "outputs": []
    },
    {
      "cell_type": "code",
      "metadata": {
        "ExecuteTime": {
          "end_time": "2021-03-19T18:43:38.400269Z",
          "start_time": "2021-03-19T18:42:15.200363Z"
        },
        "colab": {
          "base_uri": "https://localhost:8080/"
        },
        "id": "Ljzz4T4m5JYb",
        "outputId": "a06708b5-5b8c-4ff1-f8dc-ec1ffc9bfd03"
      },
      "source": [
        "# Create a list where train data indices are -1 and validation data indices are 0\n",
        "split_index = np.repeat([-1, 0], [X_train.shape[0], X_val.shape[0]])\n",
        "\n",
        "# Use the list to create PredefinedSplit\n",
        "ps = PredefinedSplit(test_fold=split_index)\n",
        "\n",
        "# Concatenate training and validation\n",
        "X = np.vstack((X_train[:, idx], X_val[:, idx]))\n",
        "y = np.concatenate((y_train, y_val))\n",
        "\n",
        "best_models = []\n",
        "for (model, name), params in zip(models, params_lst):\n",
        "    gs = GridSearchCV(\n",
        "        model,\n",
        "        params,\n",
        "        verbose=0,\n",
        "        scoring=\"roc_auc\",\n",
        "        cv=ps,\n",
        "        refit=True,\n",
        "        n_jobs=-1\n",
        "    )\n",
        "\n",
        "    start = time.time()\n",
        "    gs.fit(X, y)\n",
        "    best = gs.best_estimator_\n",
        "    auc_test = gs.score(X_test[:, idx], y_test)\n",
        "    acc_test = best.score(X_test[:, idx], y_test)\n",
        "    end = time.time() - start\n",
        "\n",
        "    print(f\"[{name}] AUC Test: {auc_test:.4f}\")\n",
        "    print(f\"[{name}] Acc Test: {acc_test:.4f}\")\n",
        "    print(f\"[{name}] Time: {end:.4f}s\")\n",
        "    print(best)\n",
        "\n",
        "    best_models.append(best)"
      ],
      "execution_count": null,
      "outputs": [
        {
          "output_type": "stream",
          "text": [
            "[SVC] AUC Test: 0.8352\n",
            "[SVC] Acc Test: 0.7714\n",
            "[SVC] Time: 11.3619s\n",
            "Pipeline(memory=None,\n",
            "         steps=[('standardize',\n",
            "                 StandardScaler(copy=True, with_mean=True, with_std=True)),\n",
            "                ('trf',\n",
            "                 PCA(copy=True, iterated_power='auto', n_components=0.99,\n",
            "                     random_state=None, svd_solver='auto', tol=0.0,\n",
            "                     whiten=False)),\n",
            "                ('clf',\n",
            "                 SVC(C=46.41588833612777, break_ties=False, cache_size=200,\n",
            "                     class_weight=None, coef0=0.0,\n",
            "                     decision_function_shape='ovr', degree=3,\n",
            "                     gamma=0.003593813663804626, kernel='rbf', max_iter=-1,\n",
            "                     probability=False, random_state=2021, shrinking=True,\n",
            "                     tol=0.001, verbose=False))],\n",
            "         verbose=False)\n",
            "[L-SVC] AUC Test: 0.9145\n",
            "[L-SVC] Acc Test: 0.8429\n",
            "[L-SVC] Time: 1.0893s\n",
            "Pipeline(memory=None,\n",
            "         steps=[('standardize',\n",
            "                 StandardScaler(copy=True, with_mean=True, with_std=True)),\n",
            "                ('trf',\n",
            "                 PCA(copy=True, iterated_power='auto', n_components=0.99,\n",
            "                     random_state=None, svd_solver='auto', tol=0.0,\n",
            "                     whiten=False)),\n",
            "                ('clf',\n",
            "                 LinearSVC(C=0.019144819761699575, class_weight=None,\n",
            "                           dual=False, fit_intercept=True, intercept_scaling=1,\n",
            "                           loss='squared_hinge', max_iter=1000,\n",
            "                           multi_class='ovr', penalty='l2', random_state=2021,\n",
            "                           tol=0.0001, verbose=0))],\n",
            "         verbose=False)\n"
          ],
          "name": "stdout"
        },
        {
          "output_type": "stream",
          "text": [
            "/usr/local/lib/python3.7/dist-packages/sklearn/neural_network/_multilayer_perceptron.py:470: ConvergenceWarning: lbfgs failed to converge (status=1):\n",
            "STOP: TOTAL NO. of ITERATIONS REACHED LIMIT.\n",
            "\n",
            "Increase the number of iterations (max_iter) or scale the data as shown in:\n",
            "    https://scikit-learn.org/stable/modules/preprocessing.html\n",
            "  self.n_iter_ = _check_optimize_result(\"lbfgs\", opt_res, self.max_iter)\n"
          ],
          "name": "stderr"
        },
        {
          "output_type": "stream",
          "text": [
            "[MLP] AUC Test: 0.9443\n",
            "[MLP] Acc Test: 0.8905\n",
            "[MLP] Time: 80.3686s\n",
            "Pipeline(memory=None,\n",
            "         steps=[('standardize',\n",
            "                 StandardScaler(copy=True, with_mean=True, with_std=True)),\n",
            "                ('trf', None),\n",
            "                ('clf',\n",
            "                 MLPClassifier(activation='relu', alpha=0.5994842503189409,\n",
            "                               batch_size='auto', beta_1=0.9, beta_2=0.999,\n",
            "                               early_stopping=False, epsilon=1e-08,\n",
            "                               hidden_layer_sizes=(100,),\n",
            "                               learning_rate='constant',\n",
            "                               learning_rate_init=0.001, max_fun=15000,\n",
            "                               max_iter=1000, momentum=0.9, n_iter_no_change=10,\n",
            "                               nesterovs_momentum=True, power_t=0.5,\n",
            "                               random_state=2021, shuffle=True, solver='lbfgs',\n",
            "                               tol=0.0001, validation_fraction=0.1,\n",
            "                               verbose=False, warm_start=False))],\n",
            "         verbose=False)\n",
            "[LR] AUC Test: 0.9032\n",
            "[LR] Acc Test: 0.8381\n",
            "[LR] Time: 2.0915s\n",
            "Pipeline(memory=None,\n",
            "         steps=[('standardize',\n",
            "                 StandardScaler(copy=True, with_mean=True, with_std=True)),\n",
            "                ('trf',\n",
            "                 PCA(copy=True, iterated_power='auto', n_components=0.99,\n",
            "                     random_state=None, svd_solver='auto', tol=0.0,\n",
            "                     whiten=False)),\n",
            "                ('clf',\n",
            "                 LogisticRegression(C=0.615848211066026, class_weight=None,\n",
            "                                    dual=False, fit_intercept=True,\n",
            "                                    intercept_scaling=1, l1_ratio=None,\n",
            "                                    max_iter=500, multi_class='auto',\n",
            "                                    n_jobs=None, penalty='l2',\n",
            "                                    random_state=2021, solver='lbfgs',\n",
            "                                    tol=0.0001, verbose=0, warm_start=False))],\n",
            "         verbose=False)\n"
          ],
          "name": "stdout"
        }
      ]
    },
    {
      "cell_type": "code",
      "metadata": {
        "ExecuteTime": {
          "end_time": "2021-03-19T18:44:13.559109Z",
          "start_time": "2021-03-19T18:44:12.581984Z"
        },
        "scrolled": true,
        "colab": {
          "base_uri": "https://localhost:8080/",
          "height": 1000
        },
        "id": "iJKQ-kuC5JYc",
        "outputId": "e79b8943-7fe7-4368-991e-3725f33f764b"
      },
      "source": [
        "for model in best_models:\n",
        "    plot_roc_curve(model, X_test[:, idx], y_test,\n",
        "                   name=model['clf'].__class__.__name__)\n",
        "    plt.show()"
      ],
      "execution_count": null,
      "outputs": [
        {
          "output_type": "display_data",
          "data": {
            "image/png": "[encoded data removed]",
            "text/plain": [
              "<Figure size 432x288 with 1 Axes>"
            ]
          },
          "metadata": {
            "tags": [],
            "needs_background": "light"
          }
        },
        {
          "output_type": "display_data",
          "data": {
            "image/png": "[encoded data removed]",
            "text/plain": [
              "<Figure size 432x288 with 1 Axes>"
            ]
          },
          "metadata": {
            "tags": [],
            "needs_background": "light"
          }
        },
        {
          "output_type": "display_data",
          "data": {
            "image/png": "[encoded data removed]",
            "text/plain": [
              "<Figure size 432x288 with 1 Axes>"
            ]
          },
          "metadata": {
            "tags": [],
            "needs_background": "light"
          }
        },
        {
          "output_type": "display_data",
          "data": {
            "image/png": "[encoded data removed]",
            "text/plain": [
              "<Figure size 432x288 with 1 Axes>"
            ]
          },
          "metadata": {
            "tags": [],
            "needs_background": "light"
          }
        }
      ]
    },
    {
      "cell_type": "code",
      "metadata": {
        "ExecuteTime": {
          "end_time": "2021-03-19T16:16:39.507277Z",
          "start_time": "2021-03-19T16:16:39.458559Z"
        },
        "id": "Ixi0B6uC5JYd"
      },
      "source": [
        "# TODO change parameters of first CV accordingly\n",
        "# TODO: don't standardize in CV\n",
        "# TODO: data augmentation? change blur/noise intensity?"
      ],
      "execution_count": null,
      "outputs": []
    },
    {
      "cell_type": "markdown",
      "metadata": {
        "id": "O25VvYPE5JYe"
      },
      "source": [
        "# Task 2"
      ]
    },
    {
      "cell_type": "code",
      "metadata": {
        "ExecuteTime": {
          "end_time": "2021-03-19T18:57:01.727137Z",
          "start_time": "2021-03-19T18:57:01.638665Z"
        },
        "colab": {
          "base_uri": "https://localhost:8080/"
        },
        "id": "3MZgyEdc5JYe",
        "outputId": "70bf7209-21ff-48ed-c42c-a816c70d4253"
      },
      "source": [
        "# Load test data\n",
        "\n",
        "test_dir_2 = 'Celeb-DF/evaluation/'\n",
        "target_size_2 = (768, 768)\n",
        "\n",
        "test_datagen_2 = ImageDataGenerator()\n",
        "\n",
        "test_data_2 = test_datagen_2.flow_from_directory(\n",
        "    directory=test_dir_2,\n",
        "    class_mode='binary',\n",
        "    batch_size=1,\n",
        "    seed=seed,\n",
        "    target_size=target_size_2,\n",
        ")\n",
        "\n",
        "num_test_2 = test_data_2.samples"
      ],
      "execution_count": null,
      "outputs": [
        {
          "output_type": "stream",
          "text": [
            "Found 600 images belonging to 2 classes.\n"
          ],
          "name": "stdout"
        }
      ]
    },
    {
      "cell_type": "code",
      "metadata": {
        "ExecuteTime": {
          "end_time": "2021-03-19T18:58:43.981028Z",
          "start_time": "2021-03-19T18:57:02.421596Z"
        },
        "colab": {
          "base_uri": "https://localhost:8080/",
          "height": 66,
          "referenced_widgets": [
            "d2e46921541c4c56b3f7f9a2fb4bcdcd",
            "767a7338763f47d7b5df9f0ed0e3efe9",
            "e2eb578fde0944dca75e6b15d82d5490",
            "24baee91acc4424798c085a2100a9bf5",
            "c958351a4971471598c1dcd667310bb2",
            "1c6724002343474ba2680ab7c7ca017e",
            "18fed12d34a94e97af79854bdb744f04",
            "de6996ca8e204f9da549ebfe0062439e"
          ]
        },
        "id": "2PZqdaSY5JYe",
        "outputId": "1c7f4219-4c6f-4601-d2b0-c21b7b957762"
      },
      "source": [
        "X_test_2, y_test_2 = extract_features(test_data_2, num_test_2, skip=False)\n",
        "print(\"X_test_2:\", X_test_2.shape)"
      ],
      "execution_count": null,
      "outputs": [
        {
          "output_type": "display_data",
          "data": {
            "application/vnd.jupyter.widget-view+json": {
              "model_id": "d2e46921541c4c56b3f7f9a2fb4bcdcd",
              "version_minor": 0,
              "version_major": 2
            },
            "text/plain": [
              "HBox(children=(FloatProgress(value=0.0, max=600.0), HTML(value='')))"
            ]
          },
          "metadata": {
            "tags": []
          }
        },
        {
          "output_type": "stream",
          "text": [
            "X_test_2: (600, 340)\n"
          ],
          "name": "stdout"
        }
      ]
    },
    {
      "cell_type": "code",
      "metadata": {
        "id": "2C1kmr02CJ5K"
      },
      "source": [
        "np.savez('test-celeb', X_test_2=X_test_2, y_test_2=y_test_2)"
      ],
      "execution_count": null,
      "outputs": []
    },
    {
      "cell_type": "code",
      "metadata": {
        "id": "xYOzTT6rTJWx"
      },
      "source": [
        "test_2 = np.load('test-celeb.npz')\n",
        "X_test_2, y_test_2 = test_2['X_test_2'], test_2['y_test_2']"
      ],
      "execution_count": null,
      "outputs": []
    },
    {
      "cell_type": "code",
      "metadata": {
        "ExecuteTime": {
          "end_time": "2021-03-19T18:58:50.806776Z",
          "start_time": "2021-03-19T18:58:49.866435Z"
        },
        "colab": {
          "base_uri": "https://localhost:8080/",
          "height": 1000
        },
        "id": "QbS_m7sw5JYf",
        "outputId": "db923563-5b31-466b-e50d-a530e9a9ab30"
      },
      "source": [
        "for model in best_models:\n",
        "    plot_roc_curve(model, X_test_2[:, idx], y_test_2,\n",
        "                   name=model['clf'].__class__.__name__)\n",
        "    plt.show()"
      ],
      "execution_count": null,
      "outputs": [
        {
          "output_type": "display_data",
          "data": {
            "image/png": "[encoded data removed]",
            "text/plain": [
              "<Figure size 432x288 with 1 Axes>"
            ]
          },
          "metadata": {
            "tags": [],
            "needs_background": "light"
          }
        },
        {
          "output_type": "display_data",
          "data": {
            "image/png": "[encoded data removed]",
            "text/plain": [
              "<Figure size 432x288 with 1 Axes>"
            ]
          },
          "metadata": {
            "tags": [],
            "needs_background": "light"
          }
        },
        {
          "output_type": "display_data",
          "data": {
            "image/png": "[encoded data removed]",
            "text/plain": [
              "<Figure size 432x288 with 1 Axes>"
            ]
          },
          "metadata": {
            "tags": [],
            "needs_background": "light"
          }
        },
        {
          "output_type": "display_data",
          "data": {
            "image/png": "[encoded data removed]",
            "text/plain": [
              "<Figure size 432x288 with 1 Axes>"
            ]
          },
          "metadata": {
            "tags": [],
            "needs_background": "light"
          }
        }
      ]
    },
    {
      "cell_type": "code",
      "metadata": {
        "id": "yHYjpdwf5JYf"
      },
      "source": [
        ""
      ],
      "execution_count": null,
      "outputs": []
    }
  ]
}